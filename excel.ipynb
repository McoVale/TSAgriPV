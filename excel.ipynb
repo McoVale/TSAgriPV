{
 "cells": [
  {
   "cell_type": "code",
   "execution_count": 33,
   "metadata": {},
   "outputs": [],
   "source": [
    "import pandas as pd\n",
    "import numpy as np\n",
    "import openpyxl as op"
   ]
  },
  {
   "cell_type": "code",
   "execution_count": 39,
   "metadata": {},
   "outputs": [
    {
     "name": "stdout",
     "output_type": "stream",
     "text": [
      "[-60 -40 -20   0  20  40  60]\n"
     ]
    }
   ],
   "source": [
    "#Paramétrage :\n",
    "# Define the angle range and step\n",
    "start_angle = -60\n",
    "end_angle = 60\n",
    "step_angle = 20\n",
    "\n",
    "# Create the array of angles\n",
    "angles = np.arange(start_angle, end_angle + 1, step_angle)\n",
    "print(angles)"
   ]
  },
  {
   "cell_type": "code",
   "execution_count": 40,
   "metadata": {},
   "outputs": [],
   "source": [
    "df = pd.read_excel(\"results/tabmean_5840_step20.xlsx\",sheet_name=\"Sheet1\",header=None)\n",
    "\n",
    "df.columns = angles\n"
   ]
  },
  {
   "cell_type": "code",
   "execution_count": 41,
   "metadata": {},
   "outputs": [],
   "source": [
    "# Étape 1 : Ajouter 6 lignes nulles au début du dataframe\n",
    "n_cols = df.shape[1]\n",
    "null_rows_start = pd.DataFrame(np.nan, index=range(6), columns=df.columns)\n",
    "df = pd.concat([null_rows_start, df], ignore_index=True)\n",
    "\n",
    "# Étape 2 : Ajouter 2 lignes nulles à la fin du dataframe\n",
    "null_rows_end = pd.DataFrame(np.nan, index=range(2), columns=df.columns)\n",
    "df = pd.concat([df, null_rows_end], ignore_index=True)\n"
   ]
  },
  {
   "cell_type": "code",
   "execution_count": 42,
   "metadata": {},
   "outputs": [
    {
     "name": "stdout",
     "output_type": "stream",
     "text": [
      "      -60  -40  -20   0    20   40   60\n",
      "0     NaN  NaN  NaN  NaN  NaN  NaN  NaN\n",
      "1     NaN  NaN  NaN  NaN  NaN  NaN  NaN\n",
      "2     NaN  NaN  NaN  NaN  NaN  NaN  NaN\n",
      "3     NaN  NaN  NaN  NaN  NaN  NaN  NaN\n",
      "4     NaN  NaN  NaN  NaN  NaN  NaN  NaN\n",
      "...   ...  ...  ...  ...  ...  ...  ...\n",
      "5843  0.0  0.0  0.0  0.0  0.0  0.0  0.0\n",
      "5844  0.0  0.0  0.0  0.0  0.0  0.0  0.0\n",
      "5845  0.0  0.0  0.0  0.0  0.0  0.0  0.0\n",
      "5846  NaN  NaN  NaN  NaN  NaN  NaN  NaN\n",
      "5847  NaN  NaN  NaN  NaN  NaN  NaN  NaN\n",
      "\n",
      "[5848 rows x 7 columns]\n"
     ]
    }
   ],
   "source": [
    "print(df)"
   ]
  },
  {
   "cell_type": "code",
   "execution_count": 43,
   "metadata": {},
   "outputs": [
    {
     "name": "stdout",
     "output_type": "stream",
     "text": [
      "365\n"
     ]
    }
   ],
   "source": [
    "# Étape 3 : Ajouter 8 lignes vides toutes les 16 lignes jusqu'à atteindre 8760 lignes\n",
    "insert_indices = list(range(16, len(df), 16))\n",
    "\n",
    "print(len(insert_indices))\n",
    "\n",
    "empty_rows = pd.DataFrame(np.nan, index=range(8), columns=df.columns)\n",
    "\n",
    "while len(df) + 8 * len(insert_indices) < 8760:\n",
    "    insert_indices = list(range(16, len(df) + 1, 16))\n",
    "\n",
    "for idx in reversed(insert_indices):\n",
    "    df = pd.concat([df.iloc[:idx], empty_rows, df.iloc[idx:]], ignore_index=True)"
   ]
  },
  {
   "cell_type": "code",
   "execution_count": 44,
   "metadata": {},
   "outputs": [
    {
     "name": "stdout",
     "output_type": "stream",
     "text": [
      "      -60  -40  -20   0    20   40   60\n",
      "0     NaN  NaN  NaN  NaN  NaN  NaN  NaN\n",
      "1     NaN  NaN  NaN  NaN  NaN  NaN  NaN\n",
      "2     NaN  NaN  NaN  NaN  NaN  NaN  NaN\n",
      "3     NaN  NaN  NaN  NaN  NaN  NaN  NaN\n",
      "4     NaN  NaN  NaN  NaN  NaN  NaN  NaN\n",
      "...   ...  ...  ...  ...  ...  ...  ...\n",
      "8763  0.0  0.0  0.0  0.0  0.0  0.0  0.0\n",
      "8764  0.0  0.0  0.0  0.0  0.0  0.0  0.0\n",
      "8765  0.0  0.0  0.0  0.0  0.0  0.0  0.0\n",
      "8766  NaN  NaN  NaN  NaN  NaN  NaN  NaN\n",
      "8767  NaN  NaN  NaN  NaN  NaN  NaN  NaN\n",
      "\n",
      "[8768 rows x 7 columns]\n"
     ]
    }
   ],
   "source": [
    "print(df)"
   ]
  },
  {
   "cell_type": "code",
   "execution_count": 38,
   "metadata": {},
   "outputs": [],
   "source": [
    "\n",
    "# Sauvegarder le dataframe résultant dans un nouveau fichier Excel\n",
    "df.to_excel('votre_fichier_modifié.xlsx', index=False, header = False)"
   ]
  }
 ],
 "metadata": {
  "kernelspec": {
   "display_name": "TSAgriPV-XqNYGekU",
   "language": "python",
   "name": "python3"
  },
  "language_info": {
   "codemirror_mode": {
    "name": "ipython",
    "version": 3
   },
   "file_extension": ".py",
   "mimetype": "text/x-python",
   "name": "python",
   "nbconvert_exporter": "python",
   "pygments_lexer": "ipython3",
   "version": "3.7.9"
  }
 },
 "nbformat": 4,
 "nbformat_minor": 2
}
