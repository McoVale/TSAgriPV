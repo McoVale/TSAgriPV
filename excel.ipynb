{
 "cells": [
  {
   "cell_type": "code",
   "execution_count": 1,
   "metadata": {},
   "outputs": [],
   "source": [
    "import pandas as pd\n",
    "import numpy as np\n",
    "from datetime import datetime, timedelta\n",
    "\n",
    "from scenario import Scenario\n",
    "\n",
    "import openpyxl as op"
   ]
  },
  {
   "cell_type": "code",
   "execution_count": 8,
   "metadata": {},
   "outputs": [
    {
     "name": "stdout",
     "output_type": "stream",
     "text": [
      "[-60, -55, -50, -45, -40, -35, -30, -25, -20, -15, -10, -5, 0, 5, 10, 15, 20, 25, 30, 35, 40, 45, 50, 55, 60]\n"
     ]
    }
   ],
   "source": [
    "# Settings :\n",
    "\n",
    "# from light_sim.ipynb\n",
    "# Settings angles\n",
    "#####\n",
    "start_angle = -60\n",
    "end_angle = 60\n",
    "step_angle = 5\n",
    "angles = np.arange(start_angle, end_angle + 1, step_angle)\n",
    "# angles = [-60]\n",
    "print(list(angles))\n",
    "titres_colonnes = np.append(angles, np.array(\"temoin\", dtype=object), axis=None)\n",
    "\n",
    "# Annual parameters\n",
    "###### # from light_sim.ipynb\n",
    "\n",
    "######\n",
    "# Settings, year and hours\n",
    "start_date = pd.Timestamp('2023-01-01')  # Start of the year (avoid leap year)\n",
    "\n",
    "output_path = \"bdd_irr/step60_classic_HBmethod.xlsx\""
   ]
  },
  {
   "cell_type": "markdown",
   "metadata": {},
   "source": [
    "Import scenario :\n",
    "1 = True = Backtracking (productible max)\n",
    "0 = False = Effacement (irradiance au sol maximum)"
   ]
  },
  {
   "cell_type": "code",
   "execution_count": 6,
   "metadata": {},
   "outputs": [],
   "source": [
    "## TESTS ##\n",
    "# Instancier des objets scénarios\n",
    "s_10pc = Scenario(file_path=\"scenarios/sc_10%.xlsx\")\n",
    "s_full_BT = Scenario(file_path=\"scenarios/sc_full_BT.xlsx\")\n",
    "# print(s1.scenario[:,:])"
   ]
  },
  {
   "cell_type": "code",
   "execution_count": 7,
   "metadata": {},
   "outputs": [
    {
     "name": "stdout",
     "output_type": "stream",
     "text": [
      "[[1 1 1 1 1 1 1 1 1 1 1 1 1 1 1 1 1 1 1 1 1 1 1 1]\n",
      " [1 1 1 1 1 1 1 1 1 1 1 1 1 1 1 1 1 1 1 1 1 1 1 1]\n",
      " [1 1 1 1 1 1 1 1 1 1 1 1 1 1 1 1 1 1 1 1 1 1 1 1]\n",
      " [1 1 1 1 1 1 1 1 1 1 1 1 1 1 1 1 1 1 1 1 1 1 1 1]\n",
      " [1 1 1 1 1 1 1 1 1 1 1 0 0 0 0 0 0 0 1 1 1 1 1 1]\n",
      " [1 1 1 1 1 1 1 1 1 1 1 0 0 0 0 0 0 0 1 1 1 1 1 1]\n",
      " [1 1 1 1 1 1 1 1 1 1 1 0 0 1 1 1 0 0 1 1 1 1 1 1]\n",
      " [1 1 1 1 1 1 1 1 1 1 1 0 1 1 1 1 1 0 1 1 1 1 1 1]\n",
      " [1 1 1 1 1 1 1 1 1 1 1 0 1 1 1 1 1 0 1 1 1 1 1 1]\n",
      " [1 1 1 1 1 1 1 1 1 1 1 1 1 1 1 1 1 1 1 1 1 1 1 1]\n",
      " [1 1 1 1 1 1 1 1 1 1 1 1 1 1 1 1 1 1 1 1 1 1 1 1]\n",
      " [1 1 1 1 1 1 1 1 1 1 1 1 1 1 1 1 1 1 1 1 1 1 1 1]]\n"
     ]
    }
   ],
   "source": [
    "print(s_10pc)"
   ]
  },
  {
   "cell_type": "markdown",
   "metadata": {},
   "source": [
    "Import bdd_irr"
   ]
  },
  {
   "cell_type": "code",
   "execution_count": 13,
   "metadata": {},
   "outputs": [
    {
     "name": "stdout",
     "output_type": "stream",
     "text": [
      "   Month-Day-Hour  -60  -55  -50  -45  -40  -35  -30  -25  -20  ...   15   20  \\\n",
      "0        01-01-00    0    0    0    0    0    0    0    0    0  ...    0    0   \n",
      "1        01-01-01    0    0    0    0    0    0    0    0    0  ...    0    0   \n",
      "2        01-01-02    0    0    0    0    0    0    0    0    0  ...    0    0   \n",
      "3        01-01-03    0    0    0    0    0    0    0    0    0  ...    0    0   \n",
      "4        01-01-04    0    0    0    0    0    0    0    0    0  ...    0    0   \n",
      "5        01-01-05    0    0    0    0    0    0    0    0    0  ...    0    0   \n",
      "6        01-01-06    0    0    0    0    0    0    0    0    0  ...    0    0   \n",
      "7        01-01-07    0    0    0    0    0    0    0    0    0  ...    0    0   \n",
      "8        01-01-08   12   12   12   11   11   11   11   10   10  ...    9    9   \n",
      "9        01-01-09   28   31   32   34   33   33   33   32   31  ...   24   24   \n",
      "10       01-01-10   45   47   48   52   51   50   49   51   46  ...   34   34   \n",
      "11       01-01-11   70   72   78   77   76   75   74   73   64  ...   55   49   \n",
      "12       01-01-12  118  122  121  118  117  114   94   93   91  ...   86   85   \n",
      "13       01-01-13  123  125  123  121  123  120  120  117   72  ...   74  116   \n",
      "14       01-01-14  116  115  113  108  112  108  107  106  108  ...  111  116   \n",
      "15       01-01-15   40   42   39   40   38   36   36   66   63  ...   99  102   \n",
      "16       01-01-16   21   21   22   22   22   21   21   20   21  ...   24   27   \n",
      "17       01-01-17    0    0    0    0    0    0    0    0    0  ...    0    0   \n",
      "18       01-01-18    0    0    0    0    0    0    0    0    0  ...    0    0   \n",
      "19       01-01-19    0    0    0    0    0    0    0    0    0  ...    0    0   \n",
      "20       01-01-20    0    0    0    0    0    0    0    0    0  ...    0    0   \n",
      "21       01-01-21    0    0    0    0    0    0    0    0    0  ...    0    0   \n",
      "22       01-01-22    0    0    0    0    0    0    0    0    0  ...    0    0   \n",
      "23       01-01-23    0    0    0    0    0    0    0    0    0  ...    0    0   \n",
      "\n",
      "     25   30   35   40   45   50   55   60  \n",
      "0     0    0    0    0    0    0    0    0  \n",
      "1     0    0    0    0    0    0    0    0  \n",
      "2     0    0    0    0    0    0    0    0  \n",
      "3     0    0    0    0    0    0    0    0  \n",
      "4     0    0    0    0    0    0    0    0  \n",
      "5     0    0    0    0    0    0    0    0  \n",
      "6     0    0    0    0    0    0    0    0  \n",
      "7     0    0    0    0    0    0    0    0  \n",
      "8     9    9   10   10   10   10   11   11  \n",
      "9    22   22   23   21   21   22   22   22  \n",
      "10   33   34   34   34   34   35   36   35  \n",
      "11   48   49   50   51   51   53   54   53  \n",
      "12   86   87   88   90   91   94   94   93  \n",
      "13  116  123  123  124  127  122  127  126  \n",
      "14  113  117  165  169  167  168  175  171  \n",
      "15  102  104  108  107  111   83   86   85  \n",
      "16   28   29   31   30   30   30   29   28  \n",
      "17    0    0    0    0    0    0    0    0  \n",
      "18    0    0    0    0    0    0    0    0  \n",
      "19    0    0    0    0    0    0    0    0  \n",
      "20    0    0    0    0    0    0    0    0  \n",
      "21    0    0    0    0    0    0    0    0  \n",
      "22    0    0    0    0    0    0    0    0  \n",
      "23    0    0    0    0    0    0    0    0  \n",
      "\n",
      "[24 rows x 26 columns]\n"
     ]
    }
   ],
   "source": [
    "df3 = pd.read_excel(output_path)\n",
    "print(df3[0:24])"
   ]
  },
  {
   "cell_type": "markdown",
   "metadata": {},
   "source": [
    "Création tab_1"
   ]
  },
  {
   "cell_type": "code",
   "execution_count": 45,
   "metadata": {},
   "outputs": [],
   "source": [
    "n_rows = 8760\n",
    "\n",
    "# Création d'un DataFrame avec des valeurs par défaut (par exemple, 0)\n",
    "tab_1 = pd.DataFrame({\n",
    "    'hoys': df3['month_day_hour'],   #Hours of the Year\n",
    "    'effacement': np.ones(n_rows),   #Panel priority mode, 1 = priority to photoovltaic production\n",
    "    'angle': np.zeros(n_rows),\n",
    "    'irradiance_sol': np.zeros(n_rows)\n",
    "})\n"
   ]
  },
  {
   "cell_type": "markdown",
   "metadata": {},
   "source": [
    "Import PVSyst"
   ]
  },
  {
   "cell_type": "code",
   "execution_count": 46,
   "metadata": {},
   "outputs": [],
   "source": [
    "# Chemin vers le fichier Excel\n",
    "file_path = 'PIOLENC_PVSyst_output.xlsm'\n",
    "\n",
    "# Nom de l'onglet à lire\n",
    "sheet_names = ['Tests','Illim']\n",
    "\n",
    "# Lire l'onglet spécifique\n",
    "pvsyst = pd.read_excel(file_path, sheet_name=sheet_names)"
   ]
  },
  {
   "cell_type": "code",
   "execution_count": 47,
   "metadata": {},
   "outputs": [
    {
     "name": "stdout",
     "output_type": "stream",
     "text": [
      "                     Date  E_Grid PR PhiAng\n",
      "0     1990-01-01 00:00:00 -0.0132  0      0\n",
      "1     1990-01-01 01:00:00 -0.0132  0      0\n",
      "2     1990-01-01 02:00:00 -0.0132  0      0\n",
      "3     1990-01-01 03:00:00 -0.0132  0      0\n",
      "4     1990-01-01 04:00:00 -0.0132  0      0\n",
      "...                   ...     ... ..    ...\n",
      "8755  1990-12-31 19:00:00 -0.0132  0      0\n",
      "8756  1990-12-31 20:00:00 -0.0132  0      0\n",
      "8757  1990-12-31 21:00:00 -0.0132  0      0\n",
      "8758  1990-12-31 22:00:00 -0.0132  0      0\n",
      "8759  1990-12-31 23:00:00 -0.0132  0      0\n",
      "\n",
      "[8760 rows x 4 columns]\n"
     ]
    }
   ],
   "source": [
    "pvsyst_illim = pvsyst['Illim'].drop(index=list(range(12))).drop(columns=['Unnamed: 4', 'Unnamed: 5']).reset_index(drop=True)\n",
    "pvsyst_illim.columns = ['Date','E_Grid','PR','PhiAng']\n",
    "print(pvsyst_illim)"
   ]
  },
  {
   "cell_type": "code",
   "execution_count": 48,
   "metadata": {},
   "outputs": [
    {
     "name": "stdout",
     "output_type": "stream",
     "text": [
      "                     Date PhiAng E_Grid_SunTrack Egrid Effectif\n",
      "0     1990-01-01 00:00:00      0         -0.0132              1\n",
      "1     1990-01-01 01:00:00      0         -0.0132              1\n",
      "2     1990-01-01 02:00:00      0         -0.0132              1\n",
      "3     1990-01-01 03:00:00      0         -0.0132              1\n",
      "4     1990-01-01 04:00:00      0         -0.0132              1\n",
      "...                   ...    ...             ...            ...\n",
      "8755  1990-12-31 19:00:00      0         -0.0132             12\n",
      "8756  1990-12-31 20:00:00      0         -0.0132             12\n",
      "8757  1990-12-31 21:00:00      0         -0.0132             12\n",
      "8758  1990-12-31 22:00:00      0         -0.0132             12\n",
      "8759  1990-12-31 23:00:00      0         -0.0132             12\n",
      "\n",
      "[8760 rows x 4 columns]\n"
     ]
    }
   ],
   "source": [
    "pvsyst_tests = pvsyst['Tests'].drop(index=list(range(12))).drop(columns=pvsyst['Tests'].columns[4:]).reset_index(drop=True)\n",
    "pvsyst_tests.columns = ['Date', 'PhiAng', 'E_Grid_SunTrack', 'Egrid Effectif']\n",
    "print(pvsyst_tests)"
   ]
  },
  {
   "cell_type": "markdown",
   "metadata": {},
   "source": [
    "Remplir le tab_1 :"
   ]
  },
  {
   "cell_type": "code",
   "execution_count": 49,
   "metadata": {},
   "outputs": [],
   "source": [
    "# Remplissage de la colonne 'effacement'\n",
    "# Parcourir scénario, pour chaque case 0 (False), changer les 1 (panneaux en suntracking) de la colonne 'effacement' en 0 (panneaux effacés)\n",
    "\n",
    "for i in range(s_10pc.scenario.shape[0]) :  # Pour chaque ligne\n",
    "    for j in range(s_10pc.scenario.shape[1]) :  # Pour chaque colonne\n",
    "        if s_10pc.scenario[i,j] == False :\n",
    "            tab_1.loc[(tab_1['hoys'].dt.hour == j) & (tab_1['hoys'].dt.month == i+1), 'effacement'] = 0"
   ]
  },
  {
   "cell_type": "code",
   "execution_count": 52,
   "metadata": {},
   "outputs": [],
   "source": [
    "# Remplissage de la colonne 'angle'\n",
    "# Parcourir tableau_1, en fonction de 'effacement', remplir 'angle' et 'irradiance'\n",
    "for i in range(tab_1.shape[0]) :\n",
    "    if tab_1.at[i,'effacement'] == 0:\n",
    "        #aller chercher irradiance au sol maximum dans tab_final (df3 dans ce .ipynb), et retrouver l'angle correspondant (nom de colonne)\n",
    "        tab_1.loc[i,'irradiance_sol'] = df3.drop(columns=['month_day_hour','temoin']).iloc[i].max() # Irradiance max\n",
    "        tab_1.loc[i,'angle'] = df3.drop(columns=['month_day_hour','temoin']).iloc[i].idxmax() # Colonne dont l'irradiance est max\n",
    "        # /!\\ Si égalité entre plusieurs angles, va choisir l'angle le moins élevé (-60 à priori)\n",
    "    else: #'effacement' == 1\n",
    "        # pvsyst_illim.loc[...] = angle PVSYST optimal, arrondir, puis trouver irradiance au sol correspondante\n",
    "        tab_1.loc[i,'irradiance_sol'] = df3.at[i,round(pvsyst_illim.loc[i,'PhiAng']/step_angle)*step_angle]\n",
    "        tab_1.loc[i,'angle'] = round(pvsyst_illim.loc[i,'PhiAng']/step_angle)*step_angle\n",
    "\n",
    "# Add control values to tab_1 :\n",
    "\n",
    "tab_1['temoin'] = df3.loc[:,'temoin']\n",
    "# Tableau_1 rempli, il ne reste qu'à calculer les rapports entre zone témoin /!\\(à intégrer)/!\\ et zone d'étude\n",
    "  "
   ]
  },
  {
   "cell_type": "code",
   "execution_count": 66,
   "metadata": {},
   "outputs": [
    {
     "data": {
      "text/html": [
       "<div>\n",
       "<style scoped>\n",
       "    .dataframe tbody tr th:only-of-type {\n",
       "        vertical-align: middle;\n",
       "    }\n",
       "\n",
       "    .dataframe tbody tr th {\n",
       "        vertical-align: top;\n",
       "    }\n",
       "\n",
       "    .dataframe thead th {\n",
       "        text-align: right;\n",
       "    }\n",
       "</style>\n",
       "<table border=\"1\" class=\"dataframe\">\n",
       "  <thead>\n",
       "    <tr style=\"text-align: right;\">\n",
       "      <th></th>\n",
       "      <th>hoys</th>\n",
       "      <th>effacement</th>\n",
       "      <th>angle</th>\n",
       "      <th>irradiance_sol</th>\n",
       "      <th>temoin</th>\n",
       "    </tr>\n",
       "  </thead>\n",
       "  <tbody>\n",
       "    <tr>\n",
       "      <th>0</th>\n",
       "      <td>2023-01-01 00:00:00</td>\n",
       "      <td>1.0</td>\n",
       "      <td>0.0</td>\n",
       "      <td>0.000000</td>\n",
       "      <td>0.000000</td>\n",
       "    </tr>\n",
       "    <tr>\n",
       "      <th>1</th>\n",
       "      <td>2023-01-01 01:00:00</td>\n",
       "      <td>1.0</td>\n",
       "      <td>0.0</td>\n",
       "      <td>0.000000</td>\n",
       "      <td>0.000000</td>\n",
       "    </tr>\n",
       "    <tr>\n",
       "      <th>2</th>\n",
       "      <td>2023-01-01 02:00:00</td>\n",
       "      <td>1.0</td>\n",
       "      <td>0.0</td>\n",
       "      <td>0.000000</td>\n",
       "      <td>0.000000</td>\n",
       "    </tr>\n",
       "    <tr>\n",
       "      <th>3</th>\n",
       "      <td>2023-01-01 03:00:00</td>\n",
       "      <td>1.0</td>\n",
       "      <td>0.0</td>\n",
       "      <td>0.000000</td>\n",
       "      <td>0.000000</td>\n",
       "    </tr>\n",
       "    <tr>\n",
       "      <th>4</th>\n",
       "      <td>2023-01-01 04:00:00</td>\n",
       "      <td>1.0</td>\n",
       "      <td>0.0</td>\n",
       "      <td>0.000000</td>\n",
       "      <td>0.000000</td>\n",
       "    </tr>\n",
       "    <tr>\n",
       "      <th>5</th>\n",
       "      <td>2023-01-01 05:00:00</td>\n",
       "      <td>1.0</td>\n",
       "      <td>0.0</td>\n",
       "      <td>0.000000</td>\n",
       "      <td>0.000000</td>\n",
       "    </tr>\n",
       "    <tr>\n",
       "      <th>6</th>\n",
       "      <td>2023-01-01 06:00:00</td>\n",
       "      <td>1.0</td>\n",
       "      <td>0.0</td>\n",
       "      <td>0.000000</td>\n",
       "      <td>0.000000</td>\n",
       "    </tr>\n",
       "    <tr>\n",
       "      <th>7</th>\n",
       "      <td>2023-01-01 07:00:00</td>\n",
       "      <td>1.0</td>\n",
       "      <td>0.0</td>\n",
       "      <td>0.001722</td>\n",
       "      <td>0.002280</td>\n",
       "    </tr>\n",
       "    <tr>\n",
       "      <th>8</th>\n",
       "      <td>2023-01-01 08:00:00</td>\n",
       "      <td>1.0</td>\n",
       "      <td>-5.0</td>\n",
       "      <td>0.009449</td>\n",
       "      <td>0.012313</td>\n",
       "    </tr>\n",
       "    <tr>\n",
       "      <th>9</th>\n",
       "      <td>2023-01-01 09:00:00</td>\n",
       "      <td>1.0</td>\n",
       "      <td>-15.0</td>\n",
       "      <td>0.021566</td>\n",
       "      <td>0.026178</td>\n",
       "    </tr>\n",
       "    <tr>\n",
       "      <th>10</th>\n",
       "      <td>2023-01-01 10:00:00</td>\n",
       "      <td>1.0</td>\n",
       "      <td>-40.0</td>\n",
       "      <td>0.036984</td>\n",
       "      <td>0.042017</td>\n",
       "    </tr>\n",
       "    <tr>\n",
       "      <th>11</th>\n",
       "      <td>2023-01-01 11:00:00</td>\n",
       "      <td>1.0</td>\n",
       "      <td>-40.0</td>\n",
       "      <td>0.062845</td>\n",
       "      <td>0.083053</td>\n",
       "    </tr>\n",
       "    <tr>\n",
       "      <th>12</th>\n",
       "      <td>2023-01-01 12:00:00</td>\n",
       "      <td>1.0</td>\n",
       "      <td>-10.0</td>\n",
       "      <td>0.120477</td>\n",
       "      <td>0.161835</td>\n",
       "    </tr>\n",
       "    <tr>\n",
       "      <th>13</th>\n",
       "      <td>2023-01-01 13:00:00</td>\n",
       "      <td>1.0</td>\n",
       "      <td>25.0</td>\n",
       "      <td>0.207883</td>\n",
       "      <td>0.222499</td>\n",
       "    </tr>\n",
       "    <tr>\n",
       "      <th>14</th>\n",
       "      <td>2023-01-01 14:00:00</td>\n",
       "      <td>1.0</td>\n",
       "      <td>50.0</td>\n",
       "      <td>0.074392</td>\n",
       "      <td>0.196503</td>\n",
       "    </tr>\n",
       "    <tr>\n",
       "      <th>15</th>\n",
       "      <td>2023-01-01 15:00:00</td>\n",
       "      <td>1.0</td>\n",
       "      <td>20.0</td>\n",
       "      <td>0.093167</td>\n",
       "      <td>0.101655</td>\n",
       "    </tr>\n",
       "    <tr>\n",
       "      <th>16</th>\n",
       "      <td>2023-01-01 16:00:00</td>\n",
       "      <td>1.0</td>\n",
       "      <td>5.0</td>\n",
       "      <td>0.017158</td>\n",
       "      <td>0.022918</td>\n",
       "    </tr>\n",
       "    <tr>\n",
       "      <th>17</th>\n",
       "      <td>2023-01-01 17:00:00</td>\n",
       "      <td>1.0</td>\n",
       "      <td>0.0</td>\n",
       "      <td>0.000000</td>\n",
       "      <td>0.000000</td>\n",
       "    </tr>\n",
       "    <tr>\n",
       "      <th>18</th>\n",
       "      <td>2023-01-01 18:00:00</td>\n",
       "      <td>1.0</td>\n",
       "      <td>0.0</td>\n",
       "      <td>0.000000</td>\n",
       "      <td>0.000000</td>\n",
       "    </tr>\n",
       "    <tr>\n",
       "      <th>19</th>\n",
       "      <td>2023-01-01 19:00:00</td>\n",
       "      <td>1.0</td>\n",
       "      <td>0.0</td>\n",
       "      <td>0.000000</td>\n",
       "      <td>0.000000</td>\n",
       "    </tr>\n",
       "    <tr>\n",
       "      <th>20</th>\n",
       "      <td>2023-01-01 20:00:00</td>\n",
       "      <td>1.0</td>\n",
       "      <td>0.0</td>\n",
       "      <td>0.000000</td>\n",
       "      <td>0.000000</td>\n",
       "    </tr>\n",
       "    <tr>\n",
       "      <th>21</th>\n",
       "      <td>2023-01-01 21:00:00</td>\n",
       "      <td>1.0</td>\n",
       "      <td>0.0</td>\n",
       "      <td>0.000000</td>\n",
       "      <td>0.000000</td>\n",
       "    </tr>\n",
       "    <tr>\n",
       "      <th>22</th>\n",
       "      <td>2023-01-01 22:00:00</td>\n",
       "      <td>1.0</td>\n",
       "      <td>0.0</td>\n",
       "      <td>0.000000</td>\n",
       "      <td>0.000000</td>\n",
       "    </tr>\n",
       "    <tr>\n",
       "      <th>23</th>\n",
       "      <td>2023-01-01 23:00:00</td>\n",
       "      <td>1.0</td>\n",
       "      <td>0.0</td>\n",
       "      <td>0.000000</td>\n",
       "      <td>0.000000</td>\n",
       "    </tr>\n",
       "  </tbody>\n",
       "</table>\n",
       "</div>"
      ],
      "text/plain": [
       "                  hoys  effacement  angle  irradiance_sol    temoin\n",
       "0  2023-01-01 00:00:00         1.0    0.0        0.000000  0.000000\n",
       "1  2023-01-01 01:00:00         1.0    0.0        0.000000  0.000000\n",
       "2  2023-01-01 02:00:00         1.0    0.0        0.000000  0.000000\n",
       "3  2023-01-01 03:00:00         1.0    0.0        0.000000  0.000000\n",
       "4  2023-01-01 04:00:00         1.0    0.0        0.000000  0.000000\n",
       "5  2023-01-01 05:00:00         1.0    0.0        0.000000  0.000000\n",
       "6  2023-01-01 06:00:00         1.0    0.0        0.000000  0.000000\n",
       "7  2023-01-01 07:00:00         1.0    0.0        0.001722  0.002280\n",
       "8  2023-01-01 08:00:00         1.0   -5.0        0.009449  0.012313\n",
       "9  2023-01-01 09:00:00         1.0  -15.0        0.021566  0.026178\n",
       "10 2023-01-01 10:00:00         1.0  -40.0        0.036984  0.042017\n",
       "11 2023-01-01 11:00:00         1.0  -40.0        0.062845  0.083053\n",
       "12 2023-01-01 12:00:00         1.0  -10.0        0.120477  0.161835\n",
       "13 2023-01-01 13:00:00         1.0   25.0        0.207883  0.222499\n",
       "14 2023-01-01 14:00:00         1.0   50.0        0.074392  0.196503\n",
       "15 2023-01-01 15:00:00         1.0   20.0        0.093167  0.101655\n",
       "16 2023-01-01 16:00:00         1.0    5.0        0.017158  0.022918\n",
       "17 2023-01-01 17:00:00         1.0    0.0        0.000000  0.000000\n",
       "18 2023-01-01 18:00:00         1.0    0.0        0.000000  0.000000\n",
       "19 2023-01-01 19:00:00         1.0    0.0        0.000000  0.000000\n",
       "20 2023-01-01 20:00:00         1.0    0.0        0.000000  0.000000\n",
       "21 2023-01-01 21:00:00         1.0    0.0        0.000000  0.000000\n",
       "22 2023-01-01 22:00:00         1.0    0.0        0.000000  0.000000\n",
       "23 2023-01-01 23:00:00         1.0    0.0        0.000000  0.000000"
      ]
     },
     "execution_count": 66,
     "metadata": {},
     "output_type": "execute_result"
    }
   ],
   "source": [
    "tab_1[0:24]"
   ]
  },
  {
   "cell_type": "code",
   "execution_count": 35,
   "metadata": {},
   "outputs": [],
   "source": [
    "# tab_1.to_excel(\"step5_semitransp_10%.xlsx\", index=False, header=True)"
   ]
  },
  {
   "cell_type": "markdown",
   "metadata": {},
   "source": [
    "Calcul liste de taille 365 concernant rapport de irradiance_zone_témoin sur irradiance_zone_étude"
   ]
  },
  {
   "cell_type": "code",
   "execution_count": 67,
   "metadata": {},
   "outputs": [
    {
     "name": "stdout",
     "output_type": "stream",
     "text": [
      "           date  irradiance_sol_day  temoin_day\n",
      "0    2023-01-01            0.645644    0.871252\n",
      "1    2023-01-02            0.324559    0.415251\n",
      "2    2023-01-03            1.050197    1.295170\n",
      "3    2023-01-04            2.517704    3.137864\n",
      "4    2023-01-05            2.811059    3.467914\n",
      "..          ...                 ...         ...\n",
      "360  2023-12-27            2.504803    3.308104\n",
      "361  2023-12-28            0.593889    0.765175\n",
      "362  2023-12-29            2.021913    2.567961\n",
      "363  2023-12-30            2.692507    3.501543\n",
      "364  2023-12-31            2.705956    3.343441\n",
      "\n",
      "[365 rows x 3 columns]\n"
     ]
    },
    {
     "name": "stderr",
     "output_type": "stream",
     "text": [
      "c:\\Users\\maceo.valente\\.virtualenvs\\TSAgriPV-XqNYGekU\\lib\\site-packages\\ipykernel_launcher.py:1: FutureWarning: Indexing with multiple keys (implicitly converted to a tuple of keys) will be deprecated, use a list instead.\n",
      "  \"\"\"Entry point for launching an IPython kernel.\n"
     ]
    }
   ],
   "source": [
    "df_daily = tab_1.groupby(tab_1['hoys'].dt.date)['irradiance_sol','temoin'].sum().reset_index()\n",
    "\n",
    "df_daily.columns = ['date', 'irradiance_sol_day','temoin_day']\n",
    "print(df_daily)"
   ]
  },
  {
   "cell_type": "code",
   "execution_count": 75,
   "metadata": {},
   "outputs": [
    {
     "name": "stdout",
     "output_type": "stream",
     "text": [
      "0      0.741054\n",
      "1      0.781598\n",
      "2      0.810856\n",
      "3      0.802363\n",
      "4      0.810591\n",
      "         ...   \n",
      "360    0.757172\n",
      "361    0.776148\n",
      "362    0.787361\n",
      "363    0.768949\n",
      "364    0.809333\n",
      "Length: 365, dtype: float64\n"
     ]
    }
   ],
   "source": [
    "#Export to an excel the daily ratio between control radiation and study-zone radiation\n",
    "\n",
    "daily_ratio = df_daily['irradiance_sol_day']/df_daily['temoin_day']\n",
    "# daily_ratio.to_excel('daily_ratio_rad.xlsx',header=False,index=False)\n",
    "print(daily_ratio)\n",
    "\n",
    "#Daily_ratio are to be multiplied with the Rad column of the climate STICS files"
   ]
  },
  {
   "cell_type": "code",
   "execution_count": null,
   "metadata": {},
   "outputs": [],
   "source": []
  },
  {
   "cell_type": "markdown",
   "metadata": {},
   "source": [
    "ChatGPT answer :"
   ]
  },
  {
   "cell_type": "code",
   "execution_count": null,
   "metadata": {},
   "outputs": [],
   "source": []
  }
 ],
 "metadata": {
  "kernelspec": {
   "display_name": "TSAgriPV-XqNYGekU",
   "language": "python",
   "name": "python3"
  },
  "language_info": {
   "codemirror_mode": {
    "name": "ipython",
    "version": 3
   },
   "file_extension": ".py",
   "mimetype": "text/x-python",
   "name": "python",
   "nbconvert_exporter": "python",
   "pygments_lexer": "ipython3",
   "version": "3.7.9"
  }
 },
 "nbformat": 4,
 "nbformat_minor": 2
}
