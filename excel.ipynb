{
 "cells": [
  {
   "cell_type": "code",
   "execution_count": 1,
   "metadata": {},
   "outputs": [],
   "source": [
    "import pandas as pd\n",
    "import numpy as np\n",
    "from datetime import datetime, timedelta\n",
    "\n",
    "import openpyxl as op"
   ]
  },
  {
   "cell_type": "code",
   "execution_count": 2,
   "metadata": {},
   "outputs": [
    {
     "name": "stdout",
     "output_type": "stream",
     "text": [
      "[-60 -40 -20   0  20  40  60]\n",
      "365\n"
     ]
    }
   ],
   "source": [
    "# Paramétrage :\n",
    "\n",
    "# from final_tab.ipynb\n",
    "# Define the angle range and step\n",
    "start_angle = -60\n",
    "end_angle = 60\n",
    "step_angle = 20\n",
    "\n",
    "# Create the array of angles\n",
    "angles = np.arange(start_angle, end_angle + 1, step_angle)\n",
    "print(angles)\n",
    "\n",
    "# Paramètres annuels\n",
    "###### # from final_tab.ipynb\n",
    "start_date = datetime(year = 2023, month = 1, day = 1, hour = 6)\n",
    "end_date = datetime(year = 2024, month = 1, day = 1, hour = 6)\n",
    "print((end_date-start_date).days)\n",
    "\n",
    "# Paramètres horaires\n",
    "###### # from final_tab.ipynb\n",
    "HEURE_DEB = 6\n",
    "HEURE_FIN = 22\n",
    "HEURE_BLANCHES = 24 - (HEURE_FIN-HEURE_DEB)\n",
    "NB_HEURES_ANNEES_ETUD = (HEURE_FIN-HEURE_DEB)*(end_date-start_date).days\n",
    "TOT_HOYS = (end_date-start_date).days*24"
   ]
  },
  {
   "cell_type": "code",
   "execution_count": 3,
   "metadata": {},
   "outputs": [],
   "source": [
    "df = pd.read_excel(\"results/tabmean_5840_step20.xlsx\",sheet_name=\"Sheet1\",header=None)\n",
    "\n",
    "df.columns = angles"
   ]
  },
  {
   "cell_type": "code",
   "execution_count": 4,
   "metadata": {},
   "outputs": [],
   "source": [
    "# Étape 1 : Ajouter autant de lignes nulles qu'HEURE_DEB si positif\n",
    "if HEURE_DEB > 0:\n",
    "    null_rows_start = pd.DataFrame(0, index=range(HEURE_DEB), columns=angles)\n",
    "    df2 = pd.concat([null_rows_start, df], ignore_index=True)\n",
    "\n",
    "# Étape 2 : Ajouter 8 lignes vides toutes les 16 lignes jusqu'à atteindre 8760 lignes\n",
    "if HEURE_BLANCHES > 0:\n",
    "    empty_rows = pd.DataFrame(0, index=range(HEURE_BLANCHES), columns=angles)\n",
    "\n",
    "    for idx in range(HEURE_FIN, TOT_HOYS, 24):\n",
    "        df2 = pd.concat([df2.iloc[:idx], empty_rows, df2.iloc[idx:]], ignore_index=True)\n",
    "\n",
    "# Étape 3 : Enlever les lignes en trop\n",
    "if df2.shape[0] > TOT_HOYS :\n",
    "    surplus = df2.shape[0] - TOT_HOYS\n",
    "    df3 = df2.iloc[:-surplus]"
   ]
  },
  {
   "cell_type": "code",
   "execution_count": 5,
   "metadata": {},
   "outputs": [
    {
     "name": "stdout",
     "output_type": "stream",
     "text": [
      "         -60       -40       -20        0         20        40        60\n",
      "0   0.000000  0.000000  0.000000  0.000000  0.000000  0.000000  0.000000\n",
      "1   0.000000  0.000000  0.000000  0.000000  0.000000  0.000000  0.000000\n",
      "2   0.000000  0.000000  0.000000  0.000000  0.000000  0.000000  0.000000\n",
      "3   0.000000  0.000000  0.000000  0.000000  0.000000  0.000000  0.000000\n",
      "4   0.000000  0.000000  0.000000  0.000000  0.000000  0.000000  0.000000\n",
      "5   0.000000  0.000000  0.000000  0.000000  0.000000  0.000000  0.000000\n",
      "6   0.000000  0.000000  0.000000  0.000000  0.000000  0.000000  0.000000\n",
      "7   0.049168  0.049164  0.049165  0.049168  0.049168  0.049161  0.049168\n",
      "8   0.181327  0.181314  0.181316  0.181327  0.181327  0.181300  0.181327\n",
      "9   0.312087  0.312063  0.312066  0.312087  0.312087  0.312036  0.312087\n",
      "10  0.343043  0.343010  0.343014  0.343043  0.343043  0.342973  0.343043\n",
      "11  0.305425  0.305392  0.305396  0.305425  0.305425  0.305354  0.305425\n",
      "12  0.320081  0.320049  0.320053  0.320081  0.320081  0.320012  0.320081\n",
      "13  0.376153  0.376122  0.376126  0.376153  0.376153  0.376086  0.376153\n",
      "14  0.334291  0.334266  0.334269  0.334291  0.334291  0.334239  0.334291\n",
      "15  0.178140  0.178128  0.178129  0.178140  0.178140  0.178115  0.178140\n",
      "16  0.043632  0.043629  0.043629  0.043632  0.043632  0.043626  0.043632\n",
      "17  0.001077  0.001077  0.001077  0.001077  0.001077  0.001077  0.001077\n",
      "18  0.000000  0.000000  0.000000  0.000000  0.000000  0.000000  0.000000\n",
      "19  0.000000  0.000000  0.000000  0.000000  0.000000  0.000000  0.000000\n",
      "20  0.000000  0.000000  0.000000  0.000000  0.000000  0.000000  0.000000\n",
      "21  0.000000  0.000000  0.000000  0.000000  0.000000  0.000000  0.000000\n",
      "22  0.000000  0.000000  0.000000  0.000000  0.000000  0.000000  0.000000\n",
      "23  0.000000  0.000000  0.000000  0.000000  0.000000  0.000000  0.000000\n"
     ]
    }
   ],
   "source": [
    "print(df3[0:24])"
   ]
  },
  {
   "cell_type": "code",
   "execution_count": 6,
   "metadata": {},
   "outputs": [
    {
     "name": "stderr",
     "output_type": "stream",
     "text": [
      "c:\\Users\\maceo.valente\\.virtualenvs\\TSAgriPV-XqNYGekU\\lib\\site-packages\\ipykernel_launcher.py:2: SettingWithCopyWarning: \n",
      "A value is trying to be set on a copy of a slice from a DataFrame.\n",
      "Try using .loc[row_indexer,col_indexer] = value instead\n",
      "\n",
      "See the caveats in the documentation: https://pandas.pydata.org/pandas-docs/stable/user_guide/indexing.html#returning-a-view-versus-a-copy\n",
      "  \n",
      "c:\\Users\\maceo.valente\\.virtualenvs\\TSAgriPV-XqNYGekU\\lib\\site-packages\\pandas\\core\\indexing.py:1817: SettingWithCopyWarning: \n",
      "A value is trying to be set on a copy of a slice from a DataFrame.\n",
      "Try using .loc[row_indexer,col_indexer] = value instead\n",
      "\n",
      "See the caveats in the documentation: https://pandas.pydata.org/pandas-docs/stable/user_guide/indexing.html#returning-a-view-versus-a-copy\n",
      "  self._setitem_single_column(loc, value, pi)\n"
     ]
    }
   ],
   "source": [
    "# Ajout colonne Month_Day_Hour\n",
    "df3['month_day_hour'] = pd.NaT\n",
    "for i in range(df3.shape[0]):\n",
    "    df3.loc[i, 'month_day_hour'] = start_date + timedelta(hours=i)\n",
    "\n",
    "cols = list(df3.columns)\n",
    "cols.insert(0, cols.pop(cols.index('month_day_hour')))\n",
    "df3 = df3[cols]"
   ]
  },
  {
   "cell_type": "code",
   "execution_count": 7,
   "metadata": {},
   "outputs": [
    {
     "name": "stdout",
     "output_type": "stream",
     "text": [
      "        month_day_hour       -60       -40       -20         0        20  \\\n",
      "10 2023-01-01 16:00:00  0.343043  0.343010  0.343014  0.343043  0.343043   \n",
      "11 2023-01-01 17:00:00  0.305425  0.305392  0.305396  0.305425  0.305425   \n",
      "12 2023-01-01 18:00:00  0.320081  0.320049  0.320053  0.320081  0.320081   \n",
      "13 2023-01-01 19:00:00  0.376153  0.376122  0.376126  0.376153  0.376153   \n",
      "14 2023-01-01 20:00:00  0.334291  0.334266  0.334269  0.334291  0.334291   \n",
      "15 2023-01-01 21:00:00  0.178140  0.178128  0.178129  0.178140  0.178140   \n",
      "16 2023-01-01 22:00:00  0.043632  0.043629  0.043629  0.043632  0.043632   \n",
      "17 2023-01-01 23:00:00  0.001077  0.001077  0.001077  0.001077  0.001077   \n",
      "18 2023-01-02 00:00:00  0.000000  0.000000  0.000000  0.000000  0.000000   \n",
      "19 2023-01-02 01:00:00  0.000000  0.000000  0.000000  0.000000  0.000000   \n",
      "20 2023-01-02 02:00:00  0.000000  0.000000  0.000000  0.000000  0.000000   \n",
      "21 2023-01-02 03:00:00  0.000000  0.000000  0.000000  0.000000  0.000000   \n",
      "22 2023-01-02 04:00:00  0.000000  0.000000  0.000000  0.000000  0.000000   \n",
      "23 2023-01-02 05:00:00  0.000000  0.000000  0.000000  0.000000  0.000000   \n",
      "24 2023-01-02 06:00:00  0.000000  0.000000  0.000000  0.000000  0.000000   \n",
      "25 2023-01-02 07:00:00  0.000000  0.000000  0.000000  0.000000  0.000000   \n",
      "26 2023-01-02 08:00:00  0.000000  0.000000  0.000000  0.000000  0.000000   \n",
      "27 2023-01-02 09:00:00  0.000000  0.000000  0.000000  0.000000  0.000000   \n",
      "28 2023-01-02 10:00:00  0.000000  0.000000  0.000000  0.000000  0.000000   \n",
      "29 2023-01-02 11:00:00  0.000000  0.000000  0.000000  0.000000  0.000000   \n",
      "\n",
      "          40        60  \n",
      "10  0.342973  0.343043  \n",
      "11  0.305354  0.305425  \n",
      "12  0.320012  0.320081  \n",
      "13  0.376086  0.376153  \n",
      "14  0.334239  0.334291  \n",
      "15  0.178115  0.178140  \n",
      "16  0.043626  0.043632  \n",
      "17  0.001077  0.001077  \n",
      "18  0.000000  0.000000  \n",
      "19  0.000000  0.000000  \n",
      "20  0.000000  0.000000  \n",
      "21  0.000000  0.000000  \n",
      "22  0.000000  0.000000  \n",
      "23  0.000000  0.000000  \n",
      "24  0.000000  0.000000  \n",
      "25  0.000000  0.000000  \n",
      "26  0.000000  0.000000  \n",
      "27  0.000000  0.000000  \n",
      "28  0.000000  0.000000  \n",
      "29  0.000000  0.000000  \n"
     ]
    }
   ],
   "source": [
    "print(df3[10:30])"
   ]
  },
  {
   "cell_type": "markdown",
   "metadata": {},
   "source": [
    "CREATION TABLEAU_1"
   ]
  },
  {
   "cell_type": "code",
   "execution_count": 8,
   "metadata": {},
   "outputs": [
    {
     "ename": "TypeError",
     "evalue": "'int' object is not iterable",
     "output_type": "error",
     "traceback": [
      "\u001b[1;31m---------------------------------------------------------------------------\u001b[0m",
      "\u001b[1;31mTypeError\u001b[0m                                 Traceback (most recent call last)",
      "\u001b[1;32m~\\AppData\\Local\\Temp\\ipykernel_8852\\1049802983.py\u001b[0m in \u001b[0;36m<module>\u001b[1;34m\u001b[0m\n\u001b[0;32m      2\u001b[0m \u001b[0ms1\u001b[0m \u001b[1;33m=\u001b[0m \u001b[1;32mNone\u001b[0m\u001b[1;33m\u001b[0m\u001b[1;33m\u001b[0m\u001b[0m\n\u001b[0;32m      3\u001b[0m \u001b[0mxl_path\u001b[0m \u001b[1;33m=\u001b[0m \u001b[1;34m\"C:/Users/maceo.valente/Documents/Automatisation/TEST_MVA/TSAgriPV/sc_test1.xlsx\"\u001b[0m\u001b[1;33m\u001b[0m\u001b[1;33m\u001b[0m\u001b[0m\n\u001b[1;32m----> 4\u001b[1;33m \u001b[0ms1\u001b[0m \u001b[1;33m=\u001b[0m \u001b[0mScenario\u001b[0m\u001b[1;33m(\u001b[0m\u001b[0mfile_path\u001b[0m\u001b[1;33m=\u001b[0m\u001b[0mxl_path\u001b[0m\u001b[1;33m)\u001b[0m\u001b[1;33m\u001b[0m\u001b[1;33m\u001b[0m\u001b[0m\n\u001b[0m\u001b[0;32m      5\u001b[0m \u001b[0mprint\u001b[0m\u001b[1;33m(\u001b[0m\u001b[0ms1\u001b[0m\u001b[1;33m.\u001b[0m\u001b[0mscenario\u001b[0m\u001b[1;33m[\u001b[0m\u001b[1;33m:\u001b[0m\u001b[1;33m,\u001b[0m\u001b[1;33m:\u001b[0m\u001b[1;33m]\u001b[0m\u001b[1;33m)\u001b[0m\u001b[1;33m\u001b[0m\u001b[1;33m\u001b[0m\u001b[0m\n\u001b[0;32m      6\u001b[0m \u001b[1;33m\u001b[0m\u001b[0m\n",
      "\u001b[1;32mc:\\Users\\maceo.valente\\Documents\\Automatisation\\TEST_MVA\\TSAgriPV\\scenario.py\u001b[0m in \u001b[0;36m__init__\u001b[1;34m(self, file_path)\u001b[0m\n\u001b[0;32m     14\u001b[0m \u001b[1;33m\u001b[0m\u001b[0m\n\u001b[0;32m     15\u001b[0m             \u001b[0mdf\u001b[0m \u001b[1;33m=\u001b[0m \u001b[0mpd\u001b[0m\u001b[1;33m.\u001b[0m\u001b[0mread_excel\u001b[0m\u001b[1;33m(\u001b[0m\u001b[0mfile_path\u001b[0m\u001b[1;33m,\u001b[0m \u001b[0mheader\u001b[0m\u001b[1;33m=\u001b[0m\u001b[1;36m0\u001b[0m\u001b[1;33m,\u001b[0m \u001b[0musecols\u001b[0m\u001b[1;33m=\u001b[0m\u001b[0mrange\u001b[0m\u001b[1;33m(\u001b[0m\u001b[1;36m1\u001b[0m\u001b[1;33m,\u001b[0m \u001b[1;36m25\u001b[0m\u001b[1;33m)\u001b[0m\u001b[1;33m)\u001b[0m\u001b[1;33m\u001b[0m\u001b[1;33m\u001b[0m\u001b[0m\n\u001b[1;32m---> 16\u001b[1;33m             \u001b[1;32mfor\u001b[0m \u001b[0mi\u001b[0m \u001b[1;32min\u001b[0m \u001b[0mdf\u001b[0m\u001b[1;33m.\u001b[0m\u001b[0mshape\u001b[0m\u001b[1;33m[\u001b[0m\u001b[1;36m0\u001b[0m\u001b[1;33m]\u001b[0m\u001b[1;33m:\u001b[0m\u001b[1;33m\u001b[0m\u001b[1;33m\u001b[0m\u001b[0m\n\u001b[0m\u001b[0;32m     17\u001b[0m                 \u001b[1;32mfor\u001b[0m \u001b[0mj\u001b[0m \u001b[1;32min\u001b[0m \u001b[0mdf\u001b[0m\u001b[1;33m.\u001b[0m\u001b[0mshape\u001b[0m\u001b[1;33m[\u001b[0m\u001b[1;36m1\u001b[0m\u001b[1;33m]\u001b[0m\u001b[1;33m:\u001b[0m\u001b[1;33m\u001b[0m\u001b[1;33m\u001b[0m\u001b[0m\n\u001b[0;32m     18\u001b[0m                     \u001b[1;32mif\u001b[0m \u001b[0mdf\u001b[0m\u001b[1;33m[\u001b[0m\u001b[0mi\u001b[0m\u001b[1;33m,\u001b[0m\u001b[0mj\u001b[0m\u001b[1;33m]\u001b[0m \u001b[1;33m==\u001b[0m \u001b[1;36m0\u001b[0m\u001b[1;33m:\u001b[0m\u001b[1;33m\u001b[0m\u001b[1;33m\u001b[0m\u001b[0m\n",
      "\u001b[1;31mTypeError\u001b[0m: 'int' object is not iterable"
     ]
    }
   ],
   "source": [
    "from scenario import Scenario\n",
    "s1 = None\n",
    "xl_path = \"C:/Users/maceo.valente/Documents/Automatisation/TEST_MVA/TSAgriPV/sc_test1.xlsx\"\n",
    "s1 = Scenario(file_path=xl_path)\n",
    "print(s1.scenario[:,:])\n",
    "\n"
   ]
  },
  {
   "cell_type": "code",
   "execution_count": 19,
   "metadata": {},
   "outputs": [
    {
     "data": {
      "text/plain": [
       "(13, 24)"
      ]
     },
     "execution_count": 19,
     "metadata": {},
     "output_type": "execute_result"
    }
   ],
   "source": [
    "s1.scenario.shape"
   ]
  },
  {
   "cell_type": "code",
   "execution_count": 30,
   "metadata": {},
   "outputs": [
    {
     "name": "stdout",
     "output_type": "stream",
     "text": [
      "[[False False False False False False False False False False False False\n",
      "  False False False False False False False False False False False False]\n",
      " [False False False False False False False False False False False False\n",
      "  False False False False False False False False False False False False]\n",
      " [False False False False False False False False False False False False\n",
      "  False False False False False False False False False False False False]\n",
      " [False False False False False False False False False False False False\n",
      "  False False False False False False False False False False False False]\n",
      " [False False False False False False False False False False False  True\n",
      "   True  True  True  True  True  True False False False False False False]\n",
      " [False False False False False False False False False False False  True\n",
      "   True  True  True  True  True  True False False False False False False]\n",
      " [False False False False False False False False False False False  True\n",
      "   True False False False  True  True False False False False False False]\n",
      " [False False False False False False False False False False False  True\n",
      "  False False False False False  True False False False False False False]\n",
      " [False False False False False False False False False False False  True\n",
      "  False False False False False  True False False False False False False]\n",
      " [False False False False False False False False False False False False\n",
      "  False False False False False False False False False False False False]\n",
      " [False False False False False False False False False False False False\n",
      "  False False False False False False False False False False False False]\n",
      " [False False False False False False False False False False False False\n",
      "  False False False False False False False False False False False False]]\n"
     ]
    }
   ],
   "source": [
    "tab = np.full((12,24), False, dtype=bool)\n",
    "\n",
    "df = pd.read_excel(xl_path, header=0, usecols=range(1, 25))\n",
    "\n",
    "for i in range(df.shape[0]):  # Pour chaque ligne\n",
    "    for j in range(df.shape[1]):  # Pour chaque colonne\n",
    "        if df.iloc[i, j] == 0:\n",
    "            tab[i, j] = True\n",
    "\n",
    "print(tab)"
   ]
  }
 ],
 "metadata": {
  "kernelspec": {
   "display_name": "TSAgriPV-XqNYGekU",
   "language": "python",
   "name": "python3"
  },
  "language_info": {
   "codemirror_mode": {
    "name": "ipython",
    "version": 3
   },
   "file_extension": ".py",
   "mimetype": "text/x-python",
   "name": "python",
   "nbconvert_exporter": "python",
   "pygments_lexer": "ipython3",
   "version": "3.7.9"
  }
 },
 "nbformat": 4,
 "nbformat_minor": 2
}
