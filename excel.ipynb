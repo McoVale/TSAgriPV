{
 "cells": [
  {
   "cell_type": "code",
   "execution_count": 1,
   "metadata": {},
   "outputs": [],
   "source": [
    "import pandas as pd\n",
    "import numpy as np\n",
    "from datetime import datetime, timedelta\n",
    "\n",
    "import openpyxl as op"
   ]
  },
  {
   "cell_type": "code",
   "execution_count": 2,
   "metadata": {},
   "outputs": [
    {
     "name": "stdout",
     "output_type": "stream",
     "text": [
      "[-60]\n"
     ]
    }
   ],
   "source": [
    "# Settings :\n",
    "\n",
    "# from light_sim.ipynb\n",
    "# Settings angles\n",
    "#####\n",
    "start_angle = -60\n",
    "end_angle = 60\n",
    "step_angle = 5\n",
    "angles = np.arange(start_angle, end_angle + 1, step_angle)\n",
    "angles = [-60]\n",
    "print(list(angles))\n",
    "titres_colonnes = np.append(angles, np.array(\"temoin\", dtype=object), axis=None)\n",
    "\n",
    "# Annual parameters\n",
    "###### # from light_sim.ipynb\n",
    "\n",
    "######\n",
    "# Settings, year and hours\n",
    "HEURE_DEB = 10\n",
    "HEURE_FIN = 14\n",
    "start_date = datetime(year=2023, month=1, day=1, hour=HEURE_DEB)  # Début de l'année (éviter les années bissextiles)\n",
    "end_date = datetime(year=2024, month=1, day=1, hour=HEURE_DEB)  # Fin de l'année (début de l'année suivante)\n",
    "NB_HEURES_ANNEES = (HEURE_FIN-HEURE_DEB)*(end_date-start_date).days\n",
    "HEURE_BLANCHES = 24 - (HEURE_FIN-HEURE_DEB)\n",
    "NB_HEURES_ANNEES_ETUD = (HEURE_FIN-HEURE_DEB)*(end_date-start_date).days\n",
    "TOT_HOYS = (end_date-start_date).days*24"
   ]
  },
  {
   "cell_type": "code",
   "execution_count": 3,
   "metadata": {},
   "outputs": [
    {
     "name": "stdout",
     "output_type": "stream",
     "text": [
      "           -60    temoin\n",
      "0     0.024941  0.043242\n",
      "1     0.058469  0.085575\n",
      "2     0.139705  0.167588\n",
      "3     0.149662  0.229777\n",
      "4     0.029182  0.051969\n",
      "...        ...       ...\n",
      "1455  0.374994  0.543843\n",
      "1456  0.275236  0.540999\n",
      "1457  0.436942  0.637138\n",
      "1458  0.511633  0.638061\n",
      "1459  0.365061  0.518911\n",
      "\n",
      "[1460 rows x 2 columns]\n"
     ]
    }
   ],
   "source": [
    "# Read the generated table in previous steps\n",
    "df = pd.read_excel(\"results/10-14H_-60_classic_fin1.xlsx\",sheet_name=\"Sheet1\",header=None)\n",
    "df.columns = titres_colonnes\n",
    "print(df)"
   ]
  },
  {
   "cell_type": "code",
   "execution_count": 4,
   "metadata": {},
   "outputs": [],
   "source": [
    "# Step 1: Add as many null lines as HEURE_DEB if positive\n",
    "if HEURE_DEB > 0:\n",
    "    null_rows_start = pd.DataFrame(0, index=range(HEURE_DEB), columns=titres_colonnes)\n",
    "    df2 = pd.concat([null_rows_start, df], ignore_index=True)\n",
    "\n",
    "# Step 2: Add 8 empty lines every 16 lines until 8760 lines\n",
    "if HEURE_BLANCHES > 0:\n",
    "    empty_rows = pd.DataFrame(0, index=range(HEURE_BLANCHES), columns=titres_colonnes)\n",
    "\n",
    "    for idx in range(HEURE_FIN, TOT_HOYS, 24):\n",
    "        df2 = pd.concat([df2.iloc[:idx], empty_rows, df2.iloc[idx:]], ignore_index=True)\n",
    "\n",
    "# Step 3: Remove excess lines if any\n",
    "if df2.shape[0] > TOT_HOYS :\n",
    "    surplus = df2.shape[0] - TOT_HOYS\n",
    "    df3 = df2.iloc[:-surplus]"
   ]
  },
  {
   "cell_type": "code",
   "execution_count": 5,
   "metadata": {},
   "outputs": [
    {
     "name": "stdout",
     "output_type": "stream",
     "text": [
      "      -60  temoin\n",
      "0     0.0     0.0\n",
      "1     0.0     0.0\n",
      "2     0.0     0.0\n",
      "3     0.0     0.0\n",
      "4     0.0     0.0\n",
      "...   ...     ...\n",
      "8755  0.0     0.0\n",
      "8756  0.0     0.0\n",
      "8757  0.0     0.0\n",
      "8758  0.0     0.0\n",
      "8759  0.0     0.0\n",
      "\n",
      "[8760 rows x 2 columns]\n"
     ]
    }
   ],
   "source": [
    "print(df3)"
   ]
  },
  {
   "cell_type": "code",
   "execution_count": 6,
   "metadata": {},
   "outputs": [
    {
     "name": "stdout",
     "output_type": "stream",
     "text": [
      "       month_day_hour  -60  temoin\n",
      "0 2023-01-01 00:00:00  0.0     0.0\n",
      "1 2023-01-01 01:00:00  0.0     0.0\n",
      "2 2023-01-01 02:00:00  0.0     0.0\n",
      "3 2023-01-01 03:00:00  0.0     0.0\n",
      "4 2023-01-01 04:00:00  0.0     0.0\n"
     ]
    },
    {
     "name": "stderr",
     "output_type": "stream",
     "text": [
      "c:\\Users\\maceo.valente\\.virtualenvs\\TSAgriPV-XqNYGekU\\lib\\site-packages\\ipykernel_launcher.py:6: SettingWithCopyWarning: \n",
      "A value is trying to be set on a copy of a slice from a DataFrame.\n",
      "Try using .loc[row_indexer,col_indexer] = value instead\n",
      "\n",
      "See the caveats in the documentation: https://pandas.pydata.org/pandas-docs/stable/user_guide/indexing.html#returning-a-view-versus-a-copy\n",
      "  \n"
     ]
    }
   ],
   "source": [
    "# Create a DataFrame with the hours of the year (from 0 to 8759) as an index\n",
    "hours_in_year = range(8760)\n",
    "dfX = pd.DataFrame(index=hours_in_year)\n",
    "\n",
    "# Add the 'month_day_hour' column\n",
    "df3['month_day_hour'] = pd.to_datetime(dfX.index.map(lambda x: start_date + timedelta(hours=x - HEURE_DEB)))\n",
    "\n",
    "# Rearrange columns in df3\n",
    "cols = ['month_day_hour'] + [col for col in df3 if col != 'month_day_hour']\n",
    "df3 = df3.loc[:, cols]\n",
    "print(df3.head())"
   ]
  },
  {
   "cell_type": "code",
   "execution_count": 7,
   "metadata": {},
   "outputs": [],
   "source": [
    "df3.to_excel(\"bdd_irr/10-14H_-60_classic_fin1.xlsx\", index=False, header=True)"
   ]
  },
  {
   "cell_type": "markdown",
   "metadata": {},
   "source": [
    "Import scenario :\n",
    "1 = True = Backtracking (productible max)\n",
    "0 = False = Effacement (irradiance au sol maximum)"
   ]
  },
  {
   "cell_type": "code",
   "execution_count": 43,
   "metadata": {},
   "outputs": [
    {
     "name": "stdout",
     "output_type": "stream",
     "text": [
      "[[1 1 1 1 1 1 1 1 1 1 1 1 1 1 1 1 1 1 1 1 1 1 1 1]\n",
      " [1 1 1 1 1 1 1 1 1 1 1 1 1 1 1 1 1 1 1 1 1 1 1 1]\n",
      " [1 1 1 1 1 1 1 1 1 1 1 1 1 1 1 1 1 1 1 1 1 1 1 1]\n",
      " [1 1 1 1 1 1 1 1 1 1 1 1 1 1 1 1 1 1 1 1 1 1 1 1]\n",
      " [1 1 1 1 1 1 1 1 1 1 1 0 0 0 0 0 0 0 1 1 1 1 1 1]\n",
      " [1 1 1 1 1 1 1 1 1 1 1 0 0 0 0 0 0 0 1 1 1 1 1 1]\n",
      " [1 1 1 1 1 1 1 1 1 1 1 0 0 1 1 1 0 0 1 1 1 1 1 1]\n",
      " [1 1 1 1 1 1 1 1 1 1 1 0 1 1 1 1 1 0 1 1 1 1 1 1]\n",
      " [1 1 1 1 1 1 1 1 1 1 1 0 1 1 1 1 1 0 1 1 1 1 1 1]\n",
      " [1 1 1 1 1 1 1 1 1 1 1 1 1 1 1 1 1 1 1 1 1 1 1 1]\n",
      " [1 1 1 1 1 1 1 1 1 1 1 1 1 1 1 1 1 1 1 1 1 1 1 1]\n",
      " [1 1 1 1 1 1 1 1 1 1 1 1 1 1 1 1 1 1 1 1 1 1 1 1]]\n",
      "22\n"
     ]
    }
   ],
   "source": [
    "from scenario import Scenario\n",
    "\n",
    "## TESTS ##\n",
    "# Instancier des objets scénarios\n",
    "s_10pc = Scenario(file_path=\"scenarios/sc_10%.xlsx\")\n",
    "s_full_BT = Scenario(file_path=\"scenarios/sc_full_BT.xlsx\")\n",
    "# print(s1.scenario[:,:])\n",
    "\n",
    "print(s_10pc.scenario[:,:])\n",
    "print(s_10pc.count_erased_hours())"
   ]
  },
  {
   "cell_type": "code",
   "execution_count": 44,
   "metadata": {},
   "outputs": [
    {
     "name": "stdout",
     "output_type": "stream",
     "text": [
      "[[1 1 1 1 1 1 1 1 1 1 1 1 1 1 1 1 1 1 1 1 1 1 1 1]\n",
      " [1 1 1 1 1 1 1 1 1 1 1 1 1 1 1 1 1 1 1 1 1 1 1 1]\n",
      " [1 1 1 1 1 1 1 1 1 1 1 1 1 1 1 1 1 1 1 1 1 1 1 1]\n",
      " [1 1 1 1 1 1 1 1 1 1 1 1 1 1 1 1 1 1 1 1 1 1 1 1]\n",
      " [1 1 1 1 1 1 1 1 1 1 1 0 0 0 0 0 0 0 1 1 1 1 1 1]\n",
      " [1 1 1 1 1 1 1 1 1 1 1 0 0 0 0 0 0 0 1 1 1 1 1 1]\n",
      " [1 1 1 1 1 1 1 1 1 1 1 0 0 1 1 1 0 0 1 1 1 1 1 1]\n",
      " [1 1 1 1 1 1 1 1 1 1 1 0 1 1 1 1 1 0 1 1 1 1 1 1]\n",
      " [1 1 1 1 1 1 1 1 1 1 1 0 1 1 1 1 1 0 1 1 1 1 1 1]\n",
      " [1 1 1 1 1 1 1 1 1 1 1 1 1 1 1 1 1 1 1 1 1 1 1 1]\n",
      " [1 1 1 1 1 1 1 1 1 1 1 1 1 1 1 1 1 1 1 1 1 1 1 1]\n",
      " [1 1 1 1 1 1 1 1 1 1 1 1 1 1 1 1 1 1 1 1 1 1 1 1]]\n"
     ]
    }
   ],
   "source": [
    "print(s_10pc)"
   ]
  },
  {
   "cell_type": "markdown",
   "metadata": {},
   "source": [
    "Création tab_1"
   ]
  },
  {
   "cell_type": "code",
   "execution_count": 45,
   "metadata": {},
   "outputs": [],
   "source": [
    "# Nombre de lignes souhaité\n",
    "n_rows = 8760\n",
    "\n",
    "# Création d'un DataFrame avec des valeurs par défaut (par exemple, 0)\n",
    "tab_1 = pd.DataFrame({\n",
    "    'hoys': df3['month_day_hour'],   #Hours of the Year\n",
    "    'effacement': np.ones(n_rows),   #Panel priority mode, 1 = priority to\n",
    "    'angle': np.zeros(n_rows),\n",
    "    'irradiance_sol': np.zeros(n_rows)\n",
    "})\n"
   ]
  },
  {
   "cell_type": "markdown",
   "metadata": {},
   "source": [
    "Import PVSyst"
   ]
  },
  {
   "cell_type": "code",
   "execution_count": 46,
   "metadata": {},
   "outputs": [],
   "source": [
    "# Chemin vers le fichier Excel\n",
    "file_path = 'PIOLENC_PVSyst_output.xlsm'\n",
    "\n",
    "# Nom de l'onglet à lire\n",
    "sheet_names = ['Tests','Illim']\n",
    "\n",
    "# Lire l'onglet spécifique\n",
    "pvsyst = pd.read_excel(file_path, sheet_name=sheet_names)"
   ]
  },
  {
   "cell_type": "code",
   "execution_count": 47,
   "metadata": {},
   "outputs": [
    {
     "name": "stdout",
     "output_type": "stream",
     "text": [
      "                     Date  E_Grid PR PhiAng\n",
      "0     1990-01-01 00:00:00 -0.0132  0      0\n",
      "1     1990-01-01 01:00:00 -0.0132  0      0\n",
      "2     1990-01-01 02:00:00 -0.0132  0      0\n",
      "3     1990-01-01 03:00:00 -0.0132  0      0\n",
      "4     1990-01-01 04:00:00 -0.0132  0      0\n",
      "...                   ...     ... ..    ...\n",
      "8755  1990-12-31 19:00:00 -0.0132  0      0\n",
      "8756  1990-12-31 20:00:00 -0.0132  0      0\n",
      "8757  1990-12-31 21:00:00 -0.0132  0      0\n",
      "8758  1990-12-31 22:00:00 -0.0132  0      0\n",
      "8759  1990-12-31 23:00:00 -0.0132  0      0\n",
      "\n",
      "[8760 rows x 4 columns]\n"
     ]
    }
   ],
   "source": [
    "pvsyst_illim = pvsyst['Illim'].drop(index=list(range(12))).drop(columns=['Unnamed: 4', 'Unnamed: 5']).reset_index(drop=True)\n",
    "pvsyst_illim.columns = ['Date','E_Grid','PR','PhiAng']\n",
    "print(pvsyst_illim)"
   ]
  },
  {
   "cell_type": "code",
   "execution_count": 48,
   "metadata": {},
   "outputs": [
    {
     "name": "stdout",
     "output_type": "stream",
     "text": [
      "                     Date PhiAng E_Grid_SunTrack Egrid Effectif\n",
      "0     1990-01-01 00:00:00      0         -0.0132              1\n",
      "1     1990-01-01 01:00:00      0         -0.0132              1\n",
      "2     1990-01-01 02:00:00      0         -0.0132              1\n",
      "3     1990-01-01 03:00:00      0         -0.0132              1\n",
      "4     1990-01-01 04:00:00      0         -0.0132              1\n",
      "...                   ...    ...             ...            ...\n",
      "8755  1990-12-31 19:00:00      0         -0.0132             12\n",
      "8756  1990-12-31 20:00:00      0         -0.0132             12\n",
      "8757  1990-12-31 21:00:00      0         -0.0132             12\n",
      "8758  1990-12-31 22:00:00      0         -0.0132             12\n",
      "8759  1990-12-31 23:00:00      0         -0.0132             12\n",
      "\n",
      "[8760 rows x 4 columns]\n"
     ]
    }
   ],
   "source": [
    "pvsyst_tests = pvsyst['Tests'].drop(index=list(range(12))).drop(columns=pvsyst['Tests'].columns[4:]).reset_index(drop=True)\n",
    "pvsyst_tests.columns = ['Date', 'PhiAng', 'E_Grid_SunTrack', 'Egrid Effectif']\n",
    "print(pvsyst_tests)"
   ]
  },
  {
   "cell_type": "markdown",
   "metadata": {},
   "source": [
    "Remplir le tab_1 :"
   ]
  },
  {
   "cell_type": "code",
   "execution_count": 49,
   "metadata": {},
   "outputs": [],
   "source": [
    "# Remplissage de la colonne 'effacement'\n",
    "# Parcourir scénario, pour chaque case 0 (False), changer les 1 (panneaux en suntracking) de la colonne 'effacement' en 0 (panneaux effacés)\n",
    "\n",
    "for i in range(s_10pc.scenario.shape[0]) :  # Pour chaque ligne\n",
    "    for j in range(s_10pc.scenario.shape[1]) :  # Pour chaque colonne\n",
    "        if s_10pc.scenario[i,j] == False :\n",
    "            tab_1.loc[(tab_1['hoys'].dt.hour == j) & (tab_1['hoys'].dt.month == i+1), 'effacement'] = 0"
   ]
  },
  {
   "cell_type": "code",
   "execution_count": 52,
   "metadata": {},
   "outputs": [],
   "source": [
    "# Remplissage de la colonne 'angle'\n",
    "# Parcourir tableau_1, en fonction de 'effacement', remplir 'angle' et 'irradiance'\n",
    "for i in range(tab_1.shape[0]) :\n",
    "    if tab_1.at[i,'effacement'] == 0:\n",
    "        #aller chercher irradiance au sol maximum dans tab_final (df3 dans ce .ipynb), et retrouver l'angle correspondant (nom de colonne)\n",
    "        tab_1.loc[i,'irradiance_sol'] = df3.drop(columns=['month_day_hour','temoin']).iloc[i].max() # Irradiance max\n",
    "        tab_1.loc[i,'angle'] = df3.drop(columns=['month_day_hour','temoin']).iloc[i].idxmax() # Colonne dont l'irradiance est max\n",
    "        # /!\\ Si égalité entre plusieurs angles, va choisir l'angle le moins élevé (-60 à priori)\n",
    "    else: #'effacement' == 1\n",
    "        # pvsyst_illim.loc[...] = angle PVSYST optimal, arrondir, puis trouver irradiance au sol correspondante\n",
    "        tab_1.loc[i,'irradiance_sol'] = df3.at[i,round(pvsyst_illim.loc[i,'PhiAng']/step_angle)*step_angle]\n",
    "        tab_1.loc[i,'angle'] = round(pvsyst_illim.loc[i,'PhiAng']/step_angle)*step_angle\n",
    "\n",
    "# Add control values to tab_1 :\n",
    "\n",
    "tab_1['temoin'] = df3.loc[:,'temoin']\n",
    "# Tableau_1 rempli, il ne reste qu'à calculer les rapports entre zone témoin /!\\(à intégrer)/!\\ et zone d'étude\n",
    "  "
   ]
  },
  {
   "cell_type": "code",
   "execution_count": 66,
   "metadata": {},
   "outputs": [
    {
     "data": {
      "text/html": [
       "<div>\n",
       "<style scoped>\n",
       "    .dataframe tbody tr th:only-of-type {\n",
       "        vertical-align: middle;\n",
       "    }\n",
       "\n",
       "    .dataframe tbody tr th {\n",
       "        vertical-align: top;\n",
       "    }\n",
       "\n",
       "    .dataframe thead th {\n",
       "        text-align: right;\n",
       "    }\n",
       "</style>\n",
       "<table border=\"1\" class=\"dataframe\">\n",
       "  <thead>\n",
       "    <tr style=\"text-align: right;\">\n",
       "      <th></th>\n",
       "      <th>hoys</th>\n",
       "      <th>effacement</th>\n",
       "      <th>angle</th>\n",
       "      <th>irradiance_sol</th>\n",
       "      <th>temoin</th>\n",
       "    </tr>\n",
       "  </thead>\n",
       "  <tbody>\n",
       "    <tr>\n",
       "      <th>0</th>\n",
       "      <td>2023-01-01 00:00:00</td>\n",
       "      <td>1.0</td>\n",
       "      <td>0.0</td>\n",
       "      <td>0.000000</td>\n",
       "      <td>0.000000</td>\n",
       "    </tr>\n",
       "    <tr>\n",
       "      <th>1</th>\n",
       "      <td>2023-01-01 01:00:00</td>\n",
       "      <td>1.0</td>\n",
       "      <td>0.0</td>\n",
       "      <td>0.000000</td>\n",
       "      <td>0.000000</td>\n",
       "    </tr>\n",
       "    <tr>\n",
       "      <th>2</th>\n",
       "      <td>2023-01-01 02:00:00</td>\n",
       "      <td>1.0</td>\n",
       "      <td>0.0</td>\n",
       "      <td>0.000000</td>\n",
       "      <td>0.000000</td>\n",
       "    </tr>\n",
       "    <tr>\n",
       "      <th>3</th>\n",
       "      <td>2023-01-01 03:00:00</td>\n",
       "      <td>1.0</td>\n",
       "      <td>0.0</td>\n",
       "      <td>0.000000</td>\n",
       "      <td>0.000000</td>\n",
       "    </tr>\n",
       "    <tr>\n",
       "      <th>4</th>\n",
       "      <td>2023-01-01 04:00:00</td>\n",
       "      <td>1.0</td>\n",
       "      <td>0.0</td>\n",
       "      <td>0.000000</td>\n",
       "      <td>0.000000</td>\n",
       "    </tr>\n",
       "    <tr>\n",
       "      <th>5</th>\n",
       "      <td>2023-01-01 05:00:00</td>\n",
       "      <td>1.0</td>\n",
       "      <td>0.0</td>\n",
       "      <td>0.000000</td>\n",
       "      <td>0.000000</td>\n",
       "    </tr>\n",
       "    <tr>\n",
       "      <th>6</th>\n",
       "      <td>2023-01-01 06:00:00</td>\n",
       "      <td>1.0</td>\n",
       "      <td>0.0</td>\n",
       "      <td>0.000000</td>\n",
       "      <td>0.000000</td>\n",
       "    </tr>\n",
       "    <tr>\n",
       "      <th>7</th>\n",
       "      <td>2023-01-01 07:00:00</td>\n",
       "      <td>1.0</td>\n",
       "      <td>0.0</td>\n",
       "      <td>0.001722</td>\n",
       "      <td>0.002280</td>\n",
       "    </tr>\n",
       "    <tr>\n",
       "      <th>8</th>\n",
       "      <td>2023-01-01 08:00:00</td>\n",
       "      <td>1.0</td>\n",
       "      <td>-5.0</td>\n",
       "      <td>0.009449</td>\n",
       "      <td>0.012313</td>\n",
       "    </tr>\n",
       "    <tr>\n",
       "      <th>9</th>\n",
       "      <td>2023-01-01 09:00:00</td>\n",
       "      <td>1.0</td>\n",
       "      <td>-15.0</td>\n",
       "      <td>0.021566</td>\n",
       "      <td>0.026178</td>\n",
       "    </tr>\n",
       "    <tr>\n",
       "      <th>10</th>\n",
       "      <td>2023-01-01 10:00:00</td>\n",
       "      <td>1.0</td>\n",
       "      <td>-40.0</td>\n",
       "      <td>0.036984</td>\n",
       "      <td>0.042017</td>\n",
       "    </tr>\n",
       "    <tr>\n",
       "      <th>11</th>\n",
       "      <td>2023-01-01 11:00:00</td>\n",
       "      <td>1.0</td>\n",
       "      <td>-40.0</td>\n",
       "      <td>0.062845</td>\n",
       "      <td>0.083053</td>\n",
       "    </tr>\n",
       "    <tr>\n",
       "      <th>12</th>\n",
       "      <td>2023-01-01 12:00:00</td>\n",
       "      <td>1.0</td>\n",
       "      <td>-10.0</td>\n",
       "      <td>0.120477</td>\n",
       "      <td>0.161835</td>\n",
       "    </tr>\n",
       "    <tr>\n",
       "      <th>13</th>\n",
       "      <td>2023-01-01 13:00:00</td>\n",
       "      <td>1.0</td>\n",
       "      <td>25.0</td>\n",
       "      <td>0.207883</td>\n",
       "      <td>0.222499</td>\n",
       "    </tr>\n",
       "    <tr>\n",
       "      <th>14</th>\n",
       "      <td>2023-01-01 14:00:00</td>\n",
       "      <td>1.0</td>\n",
       "      <td>50.0</td>\n",
       "      <td>0.074392</td>\n",
       "      <td>0.196503</td>\n",
       "    </tr>\n",
       "    <tr>\n",
       "      <th>15</th>\n",
       "      <td>2023-01-01 15:00:00</td>\n",
       "      <td>1.0</td>\n",
       "      <td>20.0</td>\n",
       "      <td>0.093167</td>\n",
       "      <td>0.101655</td>\n",
       "    </tr>\n",
       "    <tr>\n",
       "      <th>16</th>\n",
       "      <td>2023-01-01 16:00:00</td>\n",
       "      <td>1.0</td>\n",
       "      <td>5.0</td>\n",
       "      <td>0.017158</td>\n",
       "      <td>0.022918</td>\n",
       "    </tr>\n",
       "    <tr>\n",
       "      <th>17</th>\n",
       "      <td>2023-01-01 17:00:00</td>\n",
       "      <td>1.0</td>\n",
       "      <td>0.0</td>\n",
       "      <td>0.000000</td>\n",
       "      <td>0.000000</td>\n",
       "    </tr>\n",
       "    <tr>\n",
       "      <th>18</th>\n",
       "      <td>2023-01-01 18:00:00</td>\n",
       "      <td>1.0</td>\n",
       "      <td>0.0</td>\n",
       "      <td>0.000000</td>\n",
       "      <td>0.000000</td>\n",
       "    </tr>\n",
       "    <tr>\n",
       "      <th>19</th>\n",
       "      <td>2023-01-01 19:00:00</td>\n",
       "      <td>1.0</td>\n",
       "      <td>0.0</td>\n",
       "      <td>0.000000</td>\n",
       "      <td>0.000000</td>\n",
       "    </tr>\n",
       "    <tr>\n",
       "      <th>20</th>\n",
       "      <td>2023-01-01 20:00:00</td>\n",
       "      <td>1.0</td>\n",
       "      <td>0.0</td>\n",
       "      <td>0.000000</td>\n",
       "      <td>0.000000</td>\n",
       "    </tr>\n",
       "    <tr>\n",
       "      <th>21</th>\n",
       "      <td>2023-01-01 21:00:00</td>\n",
       "      <td>1.0</td>\n",
       "      <td>0.0</td>\n",
       "      <td>0.000000</td>\n",
       "      <td>0.000000</td>\n",
       "    </tr>\n",
       "    <tr>\n",
       "      <th>22</th>\n",
       "      <td>2023-01-01 22:00:00</td>\n",
       "      <td>1.0</td>\n",
       "      <td>0.0</td>\n",
       "      <td>0.000000</td>\n",
       "      <td>0.000000</td>\n",
       "    </tr>\n",
       "    <tr>\n",
       "      <th>23</th>\n",
       "      <td>2023-01-01 23:00:00</td>\n",
       "      <td>1.0</td>\n",
       "      <td>0.0</td>\n",
       "      <td>0.000000</td>\n",
       "      <td>0.000000</td>\n",
       "    </tr>\n",
       "  </tbody>\n",
       "</table>\n",
       "</div>"
      ],
      "text/plain": [
       "                  hoys  effacement  angle  irradiance_sol    temoin\n",
       "0  2023-01-01 00:00:00         1.0    0.0        0.000000  0.000000\n",
       "1  2023-01-01 01:00:00         1.0    0.0        0.000000  0.000000\n",
       "2  2023-01-01 02:00:00         1.0    0.0        0.000000  0.000000\n",
       "3  2023-01-01 03:00:00         1.0    0.0        0.000000  0.000000\n",
       "4  2023-01-01 04:00:00         1.0    0.0        0.000000  0.000000\n",
       "5  2023-01-01 05:00:00         1.0    0.0        0.000000  0.000000\n",
       "6  2023-01-01 06:00:00         1.0    0.0        0.000000  0.000000\n",
       "7  2023-01-01 07:00:00         1.0    0.0        0.001722  0.002280\n",
       "8  2023-01-01 08:00:00         1.0   -5.0        0.009449  0.012313\n",
       "9  2023-01-01 09:00:00         1.0  -15.0        0.021566  0.026178\n",
       "10 2023-01-01 10:00:00         1.0  -40.0        0.036984  0.042017\n",
       "11 2023-01-01 11:00:00         1.0  -40.0        0.062845  0.083053\n",
       "12 2023-01-01 12:00:00         1.0  -10.0        0.120477  0.161835\n",
       "13 2023-01-01 13:00:00         1.0   25.0        0.207883  0.222499\n",
       "14 2023-01-01 14:00:00         1.0   50.0        0.074392  0.196503\n",
       "15 2023-01-01 15:00:00         1.0   20.0        0.093167  0.101655\n",
       "16 2023-01-01 16:00:00         1.0    5.0        0.017158  0.022918\n",
       "17 2023-01-01 17:00:00         1.0    0.0        0.000000  0.000000\n",
       "18 2023-01-01 18:00:00         1.0    0.0        0.000000  0.000000\n",
       "19 2023-01-01 19:00:00         1.0    0.0        0.000000  0.000000\n",
       "20 2023-01-01 20:00:00         1.0    0.0        0.000000  0.000000\n",
       "21 2023-01-01 21:00:00         1.0    0.0        0.000000  0.000000\n",
       "22 2023-01-01 22:00:00         1.0    0.0        0.000000  0.000000\n",
       "23 2023-01-01 23:00:00         1.0    0.0        0.000000  0.000000"
      ]
     },
     "execution_count": 66,
     "metadata": {},
     "output_type": "execute_result"
    }
   ],
   "source": [
    "tab_1[0:24]"
   ]
  },
  {
   "cell_type": "code",
   "execution_count": 35,
   "metadata": {},
   "outputs": [],
   "source": [
    "# tab_1.to_excel(\"step5_semitransp_10%.xlsx\", index=False, header=True)"
   ]
  },
  {
   "cell_type": "markdown",
   "metadata": {},
   "source": [
    "Calcul liste de taille 365 concernant rapport de irradiance_zone_témoin sur irradiance_zone_étude"
   ]
  },
  {
   "cell_type": "code",
   "execution_count": 67,
   "metadata": {},
   "outputs": [
    {
     "name": "stdout",
     "output_type": "stream",
     "text": [
      "           date  irradiance_sol_day  temoin_day\n",
      "0    2023-01-01            0.645644    0.871252\n",
      "1    2023-01-02            0.324559    0.415251\n",
      "2    2023-01-03            1.050197    1.295170\n",
      "3    2023-01-04            2.517704    3.137864\n",
      "4    2023-01-05            2.811059    3.467914\n",
      "..          ...                 ...         ...\n",
      "360  2023-12-27            2.504803    3.308104\n",
      "361  2023-12-28            0.593889    0.765175\n",
      "362  2023-12-29            2.021913    2.567961\n",
      "363  2023-12-30            2.692507    3.501543\n",
      "364  2023-12-31            2.705956    3.343441\n",
      "\n",
      "[365 rows x 3 columns]\n"
     ]
    },
    {
     "name": "stderr",
     "output_type": "stream",
     "text": [
      "c:\\Users\\maceo.valente\\.virtualenvs\\TSAgriPV-XqNYGekU\\lib\\site-packages\\ipykernel_launcher.py:1: FutureWarning: Indexing with multiple keys (implicitly converted to a tuple of keys) will be deprecated, use a list instead.\n",
      "  \"\"\"Entry point for launching an IPython kernel.\n"
     ]
    }
   ],
   "source": [
    "df_daily = tab_1.groupby(tab_1['hoys'].dt.date)['irradiance_sol','temoin'].sum().reset_index()\n",
    "\n",
    "df_daily.columns = ['date', 'irradiance_sol_day','temoin_day']\n",
    "print(df_daily)"
   ]
  },
  {
   "cell_type": "code",
   "execution_count": 75,
   "metadata": {},
   "outputs": [
    {
     "name": "stdout",
     "output_type": "stream",
     "text": [
      "0      0.741054\n",
      "1      0.781598\n",
      "2      0.810856\n",
      "3      0.802363\n",
      "4      0.810591\n",
      "         ...   \n",
      "360    0.757172\n",
      "361    0.776148\n",
      "362    0.787361\n",
      "363    0.768949\n",
      "364    0.809333\n",
      "Length: 365, dtype: float64\n"
     ]
    }
   ],
   "source": [
    "#Export to an excel the daily ratio between control radiation and study-zone radiation\n",
    "\n",
    "daily_ratio = df_daily['irradiance_sol_day']/df_daily['temoin_day']\n",
    "# daily_ratio.to_excel('daily_ratio_rad.xlsx',header=False,index=False)\n",
    "print(daily_ratio)\n",
    "\n",
    "#Daily_ratio are to be multiplied with the Rad column of the climate STICS files"
   ]
  }
 ],
 "metadata": {
  "kernelspec": {
   "display_name": "TSAgriPV-XqNYGekU",
   "language": "python",
   "name": "python3"
  },
  "language_info": {
   "codemirror_mode": {
    "name": "ipython",
    "version": 3
   },
   "file_extension": ".py",
   "mimetype": "text/x-python",
   "name": "python",
   "nbconvert_exporter": "python",
   "pygments_lexer": "ipython3",
   "version": "3.7.9"
  }
 },
 "nbformat": 4,
 "nbformat_minor": 2
}
