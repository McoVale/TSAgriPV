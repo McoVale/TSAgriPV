{
 "cells": [
  {
   "cell_type": "code",
   "execution_count": 1,
   "metadata": {},
   "outputs": [],
   "source": [
    "import pandas as pd\n",
    "import numpy as np\n",
    "from datetime import datetime, timedelta\n",
    "\n",
    "import openpyxl as op"
   ]
  },
  {
   "cell_type": "code",
   "execution_count": 2,
   "metadata": {},
   "outputs": [
    {
     "name": "stdout",
     "output_type": "stream",
     "text": [
      "365\n"
     ]
    }
   ],
   "source": [
    "# Paramétrage :\n",
    "\n",
    "# from final_tab.ipynb\n",
    "# Define the angle range and step\n",
    "start_angle = -60\n",
    "end_angle = 60\n",
    "step_angle = 5\n",
    "\n",
    "# Create the array of angles\n",
    "angles = np.arange(start_angle, end_angle + 1, step_angle, dtype=object)\n",
    "titres_colonnes = np.append(angles, np.array(\"temoin\", dtype=object), axis=None)\n",
    "\n",
    "# Annual parameters\n",
    "###### # from final_tab.ipynb\n",
    "start_date = datetime(year = 2023, month = 1, day = 1, hour = 0)\n",
    "end_date = datetime(year = 2024, month = 1, day = 1, hour = 0)\n",
    "print((end_date-start_date).days)\n",
    "\n",
    "# Hourly parameters\n",
    "###### # from final_tab.ipynb\n",
    "HEURE_DEB = 6\n",
    "HEURE_FIN = 22\n",
    "HEURE_BLANCHES = 24 - (HEURE_FIN-HEURE_DEB)\n",
    "NB_HEURES_ANNEES_ETUD = (HEURE_FIN-HEURE_DEB)*(end_date-start_date).days\n",
    "TOT_HOYS = (end_date-start_date).days*24"
   ]
  },
  {
   "cell_type": "code",
   "execution_count": 3,
   "metadata": {},
   "outputs": [
    {
     "name": "stdout",
     "output_type": "stream",
     "text": [
      "           -60       -55       -50       -45       -40       -35       -30  \\\n",
      "0     0.000000  0.000000  0.000000  0.000000  0.000000  0.000000  0.000000   \n",
      "1     0.005105  0.004488  0.006516  0.005690  0.005727  0.003359  0.003568   \n",
      "2     0.020128  0.017694  0.019556  0.021985  0.022132  0.018927  0.019753   \n",
      "3     0.124798  0.120060  0.046643  0.057511  0.130782  0.128601  0.117584   \n",
      "4     0.292718  0.267977  0.212828  0.215884  0.289251  0.286339  0.174272   \n",
      "...        ...       ...       ...       ...       ...       ...       ...   \n",
      "5835  0.000145  0.000128  0.000126  0.000102  0.000104  0.000095  0.000101   \n",
      "5836  0.000000  0.000000  0.000000  0.000000  0.000000  0.000000  0.000000   \n",
      "5837  0.000000  0.000000  0.000000  0.000000  0.000000  0.000000  0.000000   \n",
      "5838  0.000000  0.000000  0.000000  0.000000  0.000000  0.000000  0.000000   \n",
      "5839  0.000000  0.000000  0.000000  0.000000  0.000000  0.000000  0.000000   \n",
      "\n",
      "           -25       -20       -15  ...        20        25        30  \\\n",
      "0     0.000000  0.000000  0.000000  ...  0.000000  0.000000  0.000000   \n",
      "1     0.005841  0.011286  0.005671  ...  0.010668  0.010696  0.010791   \n",
      "2     0.022579  0.046118  0.023569  ...  0.041543  0.047671  0.042361   \n",
      "3     0.119027  0.149635  0.139679  ...  0.053328  0.072619  0.056139   \n",
      "4     0.176199  0.290174  0.278470  ...  0.081364  0.094715  0.084165   \n",
      "...        ...       ...       ...  ...       ...       ...       ...   \n",
      "5835  0.000107  0.000106  0.000102  ...  0.000116  0.000117  0.000120   \n",
      "5836  0.000000  0.000000  0.000000  ...  0.000000  0.000000  0.000000   \n",
      "5837  0.000000  0.000000  0.000000  ...  0.000000  0.000000  0.000000   \n",
      "5838  0.000000  0.000000  0.000000  ...  0.000000  0.000000  0.000000   \n",
      "5839  0.000000  0.000000  0.000000  ...  0.000000  0.000000  0.000000   \n",
      "\n",
      "            35        40        45        50        55        60    temoin  \n",
      "0     0.000000  0.000000  0.000000  0.000000  0.000000  0.000000  0.000000  \n",
      "1     0.010411  0.010601  0.010542  0.011197  0.011184  0.011011  0.015170  \n",
      "2     0.041524  0.042271  0.042038  0.044621  0.044571  0.043890  0.059839  \n",
      "3     0.056950  0.058404  0.057951  0.062980  0.062882  0.061556  0.180300  \n",
      "4     0.083341  0.085282  0.084678  0.091393  0.091263  0.089492  0.326358  \n",
      "...        ...       ...       ...       ...       ...       ...       ...  \n",
      "5835  0.000109  0.000114  0.000113  0.000131  0.000131  0.000126  0.000185  \n",
      "5836  0.000000  0.000000  0.000000  0.000000  0.000000  0.000000  0.000000  \n",
      "5837  0.000000  0.000000  0.000000  0.000000  0.000000  0.000000  0.000000  \n",
      "5838  0.000000  0.000000  0.000000  0.000000  0.000000  0.000000  0.000000  \n",
      "5839  0.000000  0.000000  0.000000  0.000000  0.000000  0.000000  0.000000  \n",
      "\n",
      "[5840 rows x 26 columns]\n"
     ]
    }
   ],
   "source": [
    "# Read the generated table in previous steps\n",
    "df = pd.read_excel(\"results/6-22H_step5_semitransp.xlsx\",sheet_name=\"Sheet1\",header=None)\n",
    "df.columns = titres_colonnes\n",
    "print(df)"
   ]
  },
  {
   "cell_type": "code",
   "execution_count": 5,
   "metadata": {},
   "outputs": [],
   "source": [
    "# Step 1: Add as many null lines as HEURE_DEB if positive\n",
    "if HEURE_DEB > 0:\n",
    "    null_rows_start = pd.DataFrame(0, index=range(HEURE_DEB), columns=titres_colonnes)\n",
    "    df2 = pd.concat([null_rows_start, df], ignore_index=True)\n",
    "\n",
    "# Step 2: Add 8 empty lines every 16 lines until 8760 lines\n",
    "if HEURE_BLANCHES > 0:\n",
    "    empty_rows = pd.DataFrame(0, index=range(HEURE_BLANCHES), columns=titres_colonnes)\n",
    "\n",
    "    for idx in range(HEURE_FIN, TOT_HOYS, 24):\n",
    "        df2 = pd.concat([df2.iloc[:idx], empty_rows, df2.iloc[idx:]], ignore_index=True)\n",
    "\n",
    "# Step 3: Remove excess lines if any\n",
    "if df2.shape[0] > TOT_HOYS :\n",
    "    surplus = df2.shape[0] - TOT_HOYS\n",
    "    df3 = df2.iloc[:-surplus]"
   ]
  },
  {
   "cell_type": "code",
   "execution_count": 8,
   "metadata": {},
   "outputs": [
    {
     "name": "stdout",
     "output_type": "stream",
     "text": [
      "         -60       -55       -50       -45       -40       -35       -30  \\\n",
      "24  0.000000  0.000000  0.000000  0.000000  0.000000  0.000000  0.000000   \n",
      "25  0.000000  0.000000  0.000000  0.000000  0.000000  0.000000  0.000000   \n",
      "26  0.000000  0.000000  0.000000  0.000000  0.000000  0.000000  0.000000   \n",
      "27  0.000000  0.000000  0.000000  0.000000  0.000000  0.000000  0.000000   \n",
      "28  0.000000  0.000000  0.000000  0.000000  0.000000  0.000000  0.000000   \n",
      "29  0.000000  0.000000  0.000000  0.000000  0.000000  0.000000  0.000000   \n",
      "30  0.000000  0.000000  0.000000  0.000000  0.000000  0.000000  0.000000   \n",
      "31  0.001646  0.001447  0.001459  0.001192  0.001204  0.001083  0.001151   \n",
      "32  0.005176  0.004550  0.004523  0.003712  0.003750  0.003433  0.003645   \n",
      "33  0.008426  0.007434  0.007155  0.005885  0.006133  0.005676  0.005981   \n",
      "34  0.008829  0.007789  0.007550  0.006241  0.006490  0.006030  0.006115   \n",
      "35  0.006246  0.005492  0.005466  0.004510  0.004554  0.004225  0.004244   \n",
      "36  0.004770  0.004194  0.004141  0.003369  0.003404  0.003139  0.003334   \n",
      "37  0.004699  0.004131  0.004079  0.003319  0.003353  0.003092  0.003285   \n",
      "38  0.003762  0.003307  0.003266  0.002657  0.002685  0.002475  0.002630   \n",
      "39  0.001953  0.001717  0.001695  0.001379  0.001393  0.001285  0.001365   \n",
      "40  0.000505  0.000444  0.000439  0.000357  0.000360  0.000332  0.000353   \n",
      "41  0.000072  0.000063  0.000063  0.000051  0.000051  0.000047  0.000050   \n",
      "42  0.000000  0.000000  0.000000  0.000000  0.000000  0.000000  0.000000   \n",
      "43  0.000000  0.000000  0.000000  0.000000  0.000000  0.000000  0.000000   \n",
      "44  0.000000  0.000000  0.000000  0.000000  0.000000  0.000000  0.000000   \n",
      "\n",
      "         -25       -20       -15  ...        20        25        30        35  \\\n",
      "24  0.000000  0.000000  0.000000  ...  0.000000  0.000000  0.000000  0.000000   \n",
      "25  0.000000  0.000000  0.000000  ...  0.000000  0.000000  0.000000  0.000000   \n",
      "26  0.000000  0.000000  0.000000  ...  0.000000  0.000000  0.000000  0.000000   \n",
      "27  0.000000  0.000000  0.000000  ...  0.000000  0.000000  0.000000  0.000000   \n",
      "28  0.000000  0.000000  0.000000  ...  0.000000  0.000000  0.000000  0.000000   \n",
      "29  0.000000  0.000000  0.000000  ...  0.000000  0.000000  0.000000  0.000000   \n",
      "30  0.000000  0.000000  0.000000  ...  0.000000  0.000000  0.000000  0.000000   \n",
      "31  0.001241  0.001311  0.001186  ...  0.001414  0.001424  0.001454  0.001332   \n",
      "32  0.003865  0.004007  0.003701  ...  0.004336  0.004393  0.004462  0.004080   \n",
      "33  0.006283  0.006365  0.006070  ...  0.006681  0.006789  0.006884  0.006284   \n",
      "34  0.006419  0.006636  0.006380  ...  0.006722  0.006802  0.006926  0.006317   \n",
      "35  0.004462  0.004658  0.004450  ...  0.004818  0.004851  0.004961  0.004521   \n",
      "36  0.003510  0.003488  0.003352  ...  0.003826  0.003853  0.003942  0.003586   \n",
      "37  0.003458  0.003436  0.003302  ...  0.003770  0.003796  0.003883  0.003533   \n",
      "38  0.002768  0.002751  0.002643  ...  0.003018  0.003039  0.003109  0.002829   \n",
      "39  0.001437  0.001428  0.001372  ...  0.001566  0.001577  0.001614  0.001468   \n",
      "40  0.000372  0.000369  0.000355  ...  0.000405  0.000408  0.000417  0.000380   \n",
      "41  0.000053  0.000053  0.000051  ...  0.000058  0.000058  0.000060  0.000054   \n",
      "42  0.000000  0.000000  0.000000  ...  0.000000  0.000000  0.000000  0.000000   \n",
      "43  0.000000  0.000000  0.000000  ...  0.000000  0.000000  0.000000  0.000000   \n",
      "44  0.000000  0.000000  0.000000  ...  0.000000  0.000000  0.000000  0.000000   \n",
      "\n",
      "          40        45        50        55        60    temoin  \n",
      "24  0.000000  0.000000  0.000000  0.000000  0.000000  0.000000  \n",
      "25  0.000000  0.000000  0.000000  0.000000  0.000000  0.000000  \n",
      "26  0.000000  0.000000  0.000000  0.000000  0.000000  0.000000  \n",
      "27  0.000000  0.000000  0.000000  0.000000  0.000000  0.000000  \n",
      "28  0.000000  0.000000  0.000000  0.000000  0.000000  0.000000  \n",
      "29  0.000000  0.000000  0.000000  0.000000  0.000000  0.000000  \n",
      "30  0.000000  0.000000  0.000000  0.000000  0.000000  0.000000  \n",
      "31  0.001393  0.001374  0.001585  0.001581  0.001525  0.002224  \n",
      "32  0.004272  0.004212  0.004876  0.004863  0.004688  0.006849  \n",
      "33  0.006588  0.006493  0.007546  0.007526  0.007248  0.010860  \n",
      "34  0.006624  0.006529  0.007590  0.007569  0.007289  0.011159  \n",
      "35  0.004740  0.004672  0.005430  0.005415  0.005215  0.007875  \n",
      "36  0.003763  0.003708  0.004320  0.004308  0.004147  0.006086  \n",
      "37  0.003707  0.003653  0.004256  0.004244  0.004085  0.005995  \n",
      "38  0.002968  0.002925  0.003407  0.003398  0.003271  0.004800  \n",
      "39  0.001541  0.001518  0.001769  0.001764  0.001698  0.002491  \n",
      "40  0.000399  0.000393  0.000458  0.000456  0.000439  0.000644  \n",
      "41  0.000057  0.000056  0.000065  0.000065  0.000063  0.000092  \n",
      "42  0.000000  0.000000  0.000000  0.000000  0.000000  0.000000  \n",
      "43  0.000000  0.000000  0.000000  0.000000  0.000000  0.000000  \n",
      "44  0.000000  0.000000  0.000000  0.000000  0.000000  0.000000  \n",
      "\n",
      "[21 rows x 26 columns]\n"
     ]
    }
   ],
   "source": [
    "print(df3[24:45])"
   ]
  },
  {
   "cell_type": "code",
   "execution_count": 10,
   "metadata": {},
   "outputs": [
    {
     "name": "stdout",
     "output_type": "stream",
     "text": [
      "       month_day_hour  -60  -55  -50  -45  -40  -35  -30  -25  -20  ...   20  \\\n",
      "0 2023-01-01 00:00:00  0.0  0.0  0.0  0.0  0.0  0.0  0.0  0.0  0.0  ...  0.0   \n",
      "1 2023-01-01 01:00:00  0.0  0.0  0.0  0.0  0.0  0.0  0.0  0.0  0.0  ...  0.0   \n",
      "2 2023-01-01 02:00:00  0.0  0.0  0.0  0.0  0.0  0.0  0.0  0.0  0.0  ...  0.0   \n",
      "3 2023-01-01 03:00:00  0.0  0.0  0.0  0.0  0.0  0.0  0.0  0.0  0.0  ...  0.0   \n",
      "4 2023-01-01 04:00:00  0.0  0.0  0.0  0.0  0.0  0.0  0.0  0.0  0.0  ...  0.0   \n",
      "\n",
      "    25   30   35   40   45   50   55   60  temoin  \n",
      "0  0.0  0.0  0.0  0.0  0.0  0.0  0.0  0.0     0.0  \n",
      "1  0.0  0.0  0.0  0.0  0.0  0.0  0.0  0.0     0.0  \n",
      "2  0.0  0.0  0.0  0.0  0.0  0.0  0.0  0.0     0.0  \n",
      "3  0.0  0.0  0.0  0.0  0.0  0.0  0.0  0.0     0.0  \n",
      "4  0.0  0.0  0.0  0.0  0.0  0.0  0.0  0.0     0.0  \n",
      "\n",
      "[5 rows x 27 columns]\n"
     ]
    }
   ],
   "source": [
    "# Create a DataFrame with the hours of the year (from 0 to 8759) as an index\n",
    "hours_in_year = range(8760)\n",
    "dfX = pd.DataFrame(index=hours_in_year)\n",
    "\n",
    "# Add the 'month_day_hour' column\n",
    "df3['month_day_hour'] = pd.to_datetime(dfX.index.map(lambda x: start_date + timedelta(hours=x)))\n",
    "\n",
    "# Rearrange columns in df3\n",
    "cols = ['month_day_hour'] + [col for col in df3 if col != 'month_day_hour']\n",
    "df3 = df3.loc[:, cols]\n",
    "print(df3.head())"
   ]
  },
  {
   "cell_type": "markdown",
   "metadata": {},
   "source": [
    "Import scenario :\n",
    "1 = True = Backtracking (productible max)\n",
    "0 = False = Effacement (irradiance au sol maximum)"
   ]
  },
  {
   "cell_type": "code",
   "execution_count": 23,
   "metadata": {},
   "outputs": [
    {
     "name": "stdout",
     "output_type": "stream",
     "text": [
      "[[ True  True  True  True  True  True  True  True  True  True  True  True\n",
      "   True  True  True  True  True  True  True  True  True  True  True  True]\n",
      " [ True  True  True  True  True  True  True  True  True  True  True  True\n",
      "   True  True  True  True  True  True  True  True  True  True  True  True]\n",
      " [ True  True  True  True  True  True  True  True  True  True  True  True\n",
      "   True  True  True  True  True  True  True  True  True  True  True  True]\n",
      " [ True  True  True  True  True  True  True  True  True  True  True  True\n",
      "   True  True  True  True  True  True  True  True  True  True  True  True]\n",
      " [ True  True  True  True  True  True  True  True  True  True  True False\n",
      "  False False False False False False  True  True  True  True  True  True]\n",
      " [ True  True  True  True  True  True  True  True  True  True  True False\n",
      "  False False False False False False  True  True  True  True  True  True]\n",
      " [ True  True  True  True  True  True  True  True  True  True  True False\n",
      "  False  True  True  True False False  True  True  True  True  True  True]\n",
      " [ True  True  True  True  True  True  True  True  True  True  True False\n",
      "   True  True  True  True  True False  True  True  True  True  True  True]\n",
      " [ True  True  True  True  True  True  True  True  True  True  True False\n",
      "   True  True  True  True  True False  True  True  True  True  True  True]\n",
      " [ True  True  True  True  True  True  True  True  True  True  True  True\n",
      "   True  True  True  True  True  True  True  True  True  True  True  True]\n",
      " [ True  True  True  True  True  True  True  True  True  True  True  True\n",
      "   True  True  True  True  True  True  True  True  True  True  True  True]\n",
      " [ True  True  True  True  True  True  True  True  True  True  True  True\n",
      "   True  True  True  True  True  True  True  True  True  True  True  True]]\n"
     ]
    }
   ],
   "source": [
    "from scenario import Scenario\n",
    "\n",
    "## TESTS ##\n",
    "# Instancier des objets scénarios\n",
    "s1 = None\n",
    "xl_path = \"scenarios/sc_test1.xlsx\"\n",
    "s1 = Scenario(file_path=xl_path)\n",
    "# print(s1.scenario[:,:])\n",
    "\n",
    "s2 = Scenario(file_path=xl_path)\n",
    "print(s2.scenario[:,:])\n",
    "\n"
   ]
  },
  {
   "cell_type": "code",
   "execution_count": 24,
   "metadata": {},
   "outputs": [
    {
     "data": {
      "text/plain": [
       "(12, 24)"
      ]
     },
     "execution_count": 24,
     "metadata": {},
     "output_type": "execute_result"
    }
   ],
   "source": [
    "s2.scenario.shape"
   ]
  },
  {
   "cell_type": "markdown",
   "metadata": {},
   "source": [
    "Création équivalent 1/0"
   ]
  },
  {
   "cell_type": "code",
   "execution_count": 25,
   "metadata": {},
   "outputs": [
    {
     "name": "stdout",
     "output_type": "stream",
     "text": [
      "[[1 1 1 1 1 1 1 1 1 1 1 1 1 1 1 1 1 1 1 1 1 1 1 1]\n",
      " [1 1 1 1 1 1 1 1 1 1 1 1 1 1 1 1 1 1 1 1 1 1 1 1]\n",
      " [1 1 1 1 1 1 1 1 1 1 1 1 1 1 1 1 1 1 1 1 1 1 1 1]\n",
      " [1 1 1 1 1 1 1 1 1 1 1 1 1 1 1 1 1 1 1 1 1 1 1 1]\n",
      " [1 1 1 1 1 1 1 1 1 1 1 0 0 0 0 0 0 0 1 1 1 1 1 1]\n",
      " [1 1 1 1 1 1 1 1 1 1 1 0 0 0 0 0 0 0 1 1 1 1 1 1]\n",
      " [1 1 1 1 1 1 1 1 1 1 1 0 0 1 1 1 0 0 1 1 1 1 1 1]\n",
      " [1 1 1 1 1 1 1 1 1 1 1 0 1 1 1 1 1 0 1 1 1 1 1 1]\n",
      " [1 1 1 1 1 1 1 1 1 1 1 0 1 1 1 1 1 0 1 1 1 1 1 1]\n",
      " [1 1 1 1 1 1 1 1 1 1 1 1 1 1 1 1 1 1 1 1 1 1 1 1]\n",
      " [1 1 1 1 1 1 1 1 1 1 1 1 1 1 1 1 1 1 1 1 1 1 1 1]\n",
      " [1 1 1 1 1 1 1 1 1 1 1 1 1 1 1 1 1 1 1 1 1 1 1 1]]\n"
     ]
    }
   ],
   "source": [
    "# Création_tab 1\n",
    "sc10 = np.full((12,24), 0, dtype = \"int8\")\n",
    "\n",
    "for i in range(s2.scenario.shape[0]):  # Pour chaque ligne\n",
    "    for j in range(s2.scenario.shape[1]):  # Pour chaque colonne\n",
    "        if s2.scenario[i, j] == True:\n",
    "            sc10[i, j] = 1\n",
    "\n",
    "print(sc10)"
   ]
  },
  {
   "cell_type": "markdown",
   "metadata": {},
   "source": [
    "Création tab_1"
   ]
  },
  {
   "cell_type": "code",
   "execution_count": 26,
   "metadata": {},
   "outputs": [],
   "source": [
    "# Nombre de lignes souhaité\n",
    "n_rows = 8760\n",
    "\n",
    "# Création d'un DataFrame avec des valeurs par défaut (par exemple, 0)\n",
    "tab_1 = pd.DataFrame({\n",
    "    'hoys': df3['month_day_hour'],\n",
    "    'effacement': np.ones(n_rows),\n",
    "    'angle': np.zeros(n_rows),\n",
    "    'irradiance_sol': np.zeros(n_rows)\n",
    "})\n"
   ]
  },
  {
   "cell_type": "markdown",
   "metadata": {},
   "source": [
    "Import PVSyst"
   ]
  },
  {
   "cell_type": "code",
   "execution_count": 27,
   "metadata": {},
   "outputs": [],
   "source": [
    "# Chemin vers le fichier Excel\n",
    "file_path = 'PVSystTestFile.xlsm'\n",
    "\n",
    "# Nom de l'onglet à lire\n",
    "sheet_names = ['Tests','Illim']\n",
    "\n",
    "# Lire l'onglet spécifique\n",
    "pvsyst = pd.read_excel(file_path, sheet_name=sheet_names)"
   ]
  },
  {
   "cell_type": "code",
   "execution_count": 28,
   "metadata": {},
   "outputs": [
    {
     "name": "stdout",
     "output_type": "stream",
     "text": [
      "                     Date E_Grid PR PhiAng\n",
      "0     1990-01-01 00:00:00 -3.048  0      0\n",
      "1     1990-01-01 01:00:00 -3.048  0      0\n",
      "2     1990-01-01 02:00:00 -3.048  0      0\n",
      "3     1990-01-01 03:00:00 -3.048  0      0\n",
      "4     1990-01-01 04:00:00 -3.048  0      0\n",
      "...                   ...    ... ..    ...\n",
      "8755  1990-12-31 19:00:00 -3.048  0      0\n",
      "8756  1990-12-31 20:00:00 -3.048  0      0\n",
      "8757  1990-12-31 21:00:00 -3.048  0      0\n",
      "8758  1990-12-31 22:00:00 -3.048  0      0\n",
      "8759  1990-12-31 23:00:00 -3.048  0      0\n",
      "\n",
      "[8760 rows x 4 columns]\n"
     ]
    }
   ],
   "source": [
    "pvsyst_illim = pvsyst['Illim'].drop(index=list(range(12))).drop(columns=['Unnamed: 4', 'Unnamed: 5']).reset_index(drop=True)\n",
    "pvsyst_illim.columns = ['Date','E_Grid','PR','PhiAng']\n",
    "print(pvsyst_illim)"
   ]
  },
  {
   "cell_type": "code",
   "execution_count": 29,
   "metadata": {},
   "outputs": [
    {
     "name": "stdout",
     "output_type": "stream",
     "text": [
      "                     Date PhiAng E_Grid_SunTrack Egrid Effectif\n",
      "0     1990-01-01 00:00:00      0          -3.048              1\n",
      "1     1990-01-01 01:00:00      0          -3.048              1\n",
      "2     1990-01-01 02:00:00      0          -3.048              1\n",
      "3     1990-01-01 03:00:00      0          -3.048              1\n",
      "4     1990-01-01 04:00:00      0          -3.048              1\n",
      "...                   ...    ...             ...            ...\n",
      "8755  1990-12-31 19:00:00      0          -3.048             12\n",
      "8756  1990-12-31 20:00:00      0          -3.048             12\n",
      "8757  1990-12-31 21:00:00      0          -3.048             12\n",
      "8758  1990-12-31 22:00:00      0          -3.048             12\n",
      "8759  1990-12-31 23:00:00      0          -3.048             12\n",
      "\n",
      "[8760 rows x 4 columns]\n"
     ]
    }
   ],
   "source": [
    "pvsyst_tests = pvsyst['Tests'].drop(index=list(range(12))).drop(columns=pvsyst['Tests'].columns[4:]).reset_index(drop=True)\n",
    "pvsyst_tests.columns = ['Date', 'PhiAng', 'E_Grid_SunTrack', 'Egrid Effectif']\n",
    "print(pvsyst_tests)"
   ]
  },
  {
   "cell_type": "markdown",
   "metadata": {},
   "source": [
    "Remplir le tab_1 :"
   ]
  },
  {
   "cell_type": "code",
   "execution_count": 30,
   "metadata": {},
   "outputs": [],
   "source": [
    "# Remplissage de la colonne 'effacement'\n",
    "# Parcourir scénario, pour chaque case 0 (False), changer les 1 (panneaux en suntracking) de la colonne 'effacement' en 0 (panneaux effacés)\n",
    "\n",
    "for i in range(s1.scenario.shape[0]) :  # Pour chaque ligne\n",
    "    for j in range(s1.scenario.shape[1]) :  # Pour chaque colonne\n",
    "        if s1.scenario[i,j] == False :\n",
    "            tab_1.loc[(tab_1['hoys'].dt.hour == j) & (tab_1['hoys'].dt.month == i+1), 'effacement'] = 0"
   ]
  },
  {
   "cell_type": "code",
   "execution_count": 31,
   "metadata": {},
   "outputs": [
    {
     "ename": "KeyError",
     "evalue": "0",
     "output_type": "error",
     "traceback": [
      "\u001b[1;31m---------------------------------------------------------------------------\u001b[0m",
      "\u001b[1;31mKeyError\u001b[0m                                  Traceback (most recent call last)",
      "\u001b[1;32mc:\\Users\\maceo.valente\\.virtualenvs\\TSAgriPV-XqNYGekU\\lib\\site-packages\\pandas\\core\\indexes\\base.py\u001b[0m in \u001b[0;36mget_loc\u001b[1;34m(self, key, method, tolerance)\u001b[0m\n\u001b[0;32m   3360\u001b[0m             \u001b[1;32mtry\u001b[0m\u001b[1;33m:\u001b[0m\u001b[1;33m\u001b[0m\u001b[1;33m\u001b[0m\u001b[0m\n\u001b[1;32m-> 3361\u001b[1;33m                 \u001b[1;32mreturn\u001b[0m \u001b[0mself\u001b[0m\u001b[1;33m.\u001b[0m\u001b[0m_engine\u001b[0m\u001b[1;33m.\u001b[0m\u001b[0mget_loc\u001b[0m\u001b[1;33m(\u001b[0m\u001b[0mcasted_key\u001b[0m\u001b[1;33m)\u001b[0m\u001b[1;33m\u001b[0m\u001b[1;33m\u001b[0m\u001b[0m\n\u001b[0m\u001b[0;32m   3362\u001b[0m             \u001b[1;32mexcept\u001b[0m \u001b[0mKeyError\u001b[0m \u001b[1;32mas\u001b[0m \u001b[0merr\u001b[0m\u001b[1;33m:\u001b[0m\u001b[1;33m\u001b[0m\u001b[1;33m\u001b[0m\u001b[0m\n",
      "\u001b[1;32mc:\\Users\\maceo.valente\\.virtualenvs\\TSAgriPV-XqNYGekU\\lib\\site-packages\\pandas\\_libs\\index.pyx\u001b[0m in \u001b[0;36mpandas._libs.index.IndexEngine.get_loc\u001b[1;34m()\u001b[0m\n",
      "\u001b[1;32mc:\\Users\\maceo.valente\\.virtualenvs\\TSAgriPV-XqNYGekU\\lib\\site-packages\\pandas\\_libs\\index.pyx\u001b[0m in \u001b[0;36mpandas._libs.index.IndexEngine.get_loc\u001b[1;34m()\u001b[0m\n",
      "\u001b[1;32mpandas\\_libs\\hashtable_class_helper.pxi\u001b[0m in \u001b[0;36mpandas._libs.hashtable.PyObjectHashTable.get_item\u001b[1;34m()\u001b[0m\n",
      "\u001b[1;32mpandas\\_libs\\hashtable_class_helper.pxi\u001b[0m in \u001b[0;36mpandas._libs.hashtable.PyObjectHashTable.get_item\u001b[1;34m()\u001b[0m\n",
      "\u001b[1;31mKeyError\u001b[0m: 0",
      "\nThe above exception was the direct cause of the following exception:\n",
      "\u001b[1;31mKeyError\u001b[0m                                  Traceback (most recent call last)",
      "\u001b[1;32m~\\AppData\\Local\\Temp\\ipykernel_21860\\939019089.py\u001b[0m in \u001b[0;36m<module>\u001b[1;34m\u001b[0m\n\u001b[0;32m      9\u001b[0m     \u001b[1;32melse\u001b[0m\u001b[1;33m:\u001b[0m \u001b[1;31m#'effacement' == 1\u001b[0m\u001b[1;33m\u001b[0m\u001b[1;33m\u001b[0m\u001b[0m\n\u001b[0;32m     10\u001b[0m         \u001b[1;31m# pvsyst_illim.loc[...] = angle PVSYST optimal, arrondir, puis trouver irradiance au sol correspondante\u001b[0m\u001b[1;33m\u001b[0m\u001b[1;33m\u001b[0m\u001b[1;33m\u001b[0m\u001b[0m\n\u001b[1;32m---> 11\u001b[1;33m         \u001b[0mtab_1\u001b[0m\u001b[1;33m.\u001b[0m\u001b[0mloc\u001b[0m\u001b[1;33m[\u001b[0m\u001b[0mi\u001b[0m\u001b[1;33m,\u001b[0m\u001b[1;34m'irradiance_sol'\u001b[0m\u001b[1;33m]\u001b[0m \u001b[1;33m=\u001b[0m \u001b[0mdf3\u001b[0m\u001b[1;33m.\u001b[0m\u001b[0mat\u001b[0m\u001b[1;33m[\u001b[0m\u001b[0mi\u001b[0m\u001b[1;33m,\u001b[0m\u001b[0mround\u001b[0m\u001b[1;33m(\u001b[0m\u001b[0mpvsyst_illim\u001b[0m\u001b[1;33m.\u001b[0m\u001b[0mloc\u001b[0m\u001b[1;33m[\u001b[0m\u001b[0mi\u001b[0m\u001b[1;33m,\u001b[0m\u001b[1;34m'PhiAng'\u001b[0m\u001b[1;33m]\u001b[0m\u001b[1;33m/\u001b[0m\u001b[0mstep_angle\u001b[0m\u001b[1;33m)\u001b[0m\u001b[1;33m*\u001b[0m\u001b[0mstep_angle\u001b[0m\u001b[1;33m]\u001b[0m\u001b[1;33m\u001b[0m\u001b[1;33m\u001b[0m\u001b[0m\n\u001b[0m\u001b[0;32m     12\u001b[0m         \u001b[0mtab_1\u001b[0m\u001b[1;33m.\u001b[0m\u001b[0mloc\u001b[0m\u001b[1;33m[\u001b[0m\u001b[0mi\u001b[0m\u001b[1;33m,\u001b[0m\u001b[1;34m'angles'\u001b[0m\u001b[1;33m]\u001b[0m \u001b[1;33m=\u001b[0m \u001b[0mround\u001b[0m\u001b[1;33m(\u001b[0m\u001b[0mpvsyst_illim\u001b[0m\u001b[1;33m.\u001b[0m\u001b[0mloc\u001b[0m\u001b[1;33m[\u001b[0m\u001b[0mi\u001b[0m\u001b[1;33m,\u001b[0m\u001b[1;34m'PhiAng'\u001b[0m\u001b[1;33m]\u001b[0m\u001b[1;33m/\u001b[0m\u001b[0mstep_angle\u001b[0m\u001b[1;33m)\u001b[0m\u001b[1;33m*\u001b[0m\u001b[0mstep_angle\u001b[0m\u001b[1;33m\u001b[0m\u001b[1;33m\u001b[0m\u001b[0m\n\u001b[0;32m     13\u001b[0m \u001b[1;33m\u001b[0m\u001b[0m\n",
      "\u001b[1;32mc:\\Users\\maceo.valente\\.virtualenvs\\TSAgriPV-XqNYGekU\\lib\\site-packages\\pandas\\core\\indexing.py\u001b[0m in \u001b[0;36m__getitem__\u001b[1;34m(self, key)\u001b[0m\n\u001b[0;32m   2273\u001b[0m             \u001b[1;32mreturn\u001b[0m \u001b[0mself\u001b[0m\u001b[1;33m.\u001b[0m\u001b[0mobj\u001b[0m\u001b[1;33m.\u001b[0m\u001b[0mloc\u001b[0m\u001b[1;33m[\u001b[0m\u001b[0mkey\u001b[0m\u001b[1;33m]\u001b[0m\u001b[1;33m\u001b[0m\u001b[1;33m\u001b[0m\u001b[0m\n\u001b[0;32m   2274\u001b[0m \u001b[1;33m\u001b[0m\u001b[0m\n\u001b[1;32m-> 2275\u001b[1;33m         \u001b[1;32mreturn\u001b[0m \u001b[0msuper\u001b[0m\u001b[1;33m(\u001b[0m\u001b[1;33m)\u001b[0m\u001b[1;33m.\u001b[0m\u001b[0m__getitem__\u001b[0m\u001b[1;33m(\u001b[0m\u001b[0mkey\u001b[0m\u001b[1;33m)\u001b[0m\u001b[1;33m\u001b[0m\u001b[1;33m\u001b[0m\u001b[0m\n\u001b[0m\u001b[0;32m   2276\u001b[0m \u001b[1;33m\u001b[0m\u001b[0m\n\u001b[0;32m   2277\u001b[0m     \u001b[1;32mdef\u001b[0m \u001b[0m__setitem__\u001b[0m\u001b[1;33m(\u001b[0m\u001b[0mself\u001b[0m\u001b[1;33m,\u001b[0m \u001b[0mkey\u001b[0m\u001b[1;33m,\u001b[0m \u001b[0mvalue\u001b[0m\u001b[1;33m)\u001b[0m\u001b[1;33m:\u001b[0m\u001b[1;33m\u001b[0m\u001b[1;33m\u001b[0m\u001b[0m\n",
      "\u001b[1;32mc:\\Users\\maceo.valente\\.virtualenvs\\TSAgriPV-XqNYGekU\\lib\\site-packages\\pandas\\core\\indexing.py\u001b[0m in \u001b[0;36m__getitem__\u001b[1;34m(self, key)\u001b[0m\n\u001b[0;32m   2220\u001b[0m \u001b[1;33m\u001b[0m\u001b[0m\n\u001b[0;32m   2221\u001b[0m         \u001b[0mkey\u001b[0m \u001b[1;33m=\u001b[0m \u001b[0mself\u001b[0m\u001b[1;33m.\u001b[0m\u001b[0m_convert_key\u001b[0m\u001b[1;33m(\u001b[0m\u001b[0mkey\u001b[0m\u001b[1;33m)\u001b[0m\u001b[1;33m\u001b[0m\u001b[1;33m\u001b[0m\u001b[0m\n\u001b[1;32m-> 2222\u001b[1;33m         \u001b[1;32mreturn\u001b[0m \u001b[0mself\u001b[0m\u001b[1;33m.\u001b[0m\u001b[0mobj\u001b[0m\u001b[1;33m.\u001b[0m\u001b[0m_get_value\u001b[0m\u001b[1;33m(\u001b[0m\u001b[1;33m*\u001b[0m\u001b[0mkey\u001b[0m\u001b[1;33m,\u001b[0m \u001b[0mtakeable\u001b[0m\u001b[1;33m=\u001b[0m\u001b[0mself\u001b[0m\u001b[1;33m.\u001b[0m\u001b[0m_takeable\u001b[0m\u001b[1;33m)\u001b[0m\u001b[1;33m\u001b[0m\u001b[1;33m\u001b[0m\u001b[0m\n\u001b[0m\u001b[0;32m   2223\u001b[0m \u001b[1;33m\u001b[0m\u001b[0m\n\u001b[0;32m   2224\u001b[0m     \u001b[1;32mdef\u001b[0m \u001b[0m__setitem__\u001b[0m\u001b[1;33m(\u001b[0m\u001b[0mself\u001b[0m\u001b[1;33m,\u001b[0m \u001b[0mkey\u001b[0m\u001b[1;33m,\u001b[0m \u001b[0mvalue\u001b[0m\u001b[1;33m)\u001b[0m\u001b[1;33m:\u001b[0m\u001b[1;33m\u001b[0m\u001b[1;33m\u001b[0m\u001b[0m\n",
      "\u001b[1;32mc:\\Users\\maceo.valente\\.virtualenvs\\TSAgriPV-XqNYGekU\\lib\\site-packages\\pandas\\core\\frame.py\u001b[0m in \u001b[0;36m_get_value\u001b[1;34m(self, index, col, takeable)\u001b[0m\n\u001b[0;32m   3566\u001b[0m             \u001b[1;32mreturn\u001b[0m \u001b[0mseries\u001b[0m\u001b[1;33m.\u001b[0m\u001b[0m_values\u001b[0m\u001b[1;33m[\u001b[0m\u001b[0mindex\u001b[0m\u001b[1;33m]\u001b[0m\u001b[1;33m\u001b[0m\u001b[1;33m\u001b[0m\u001b[0m\n\u001b[0;32m   3567\u001b[0m \u001b[1;33m\u001b[0m\u001b[0m\n\u001b[1;32m-> 3568\u001b[1;33m         \u001b[0mseries\u001b[0m \u001b[1;33m=\u001b[0m \u001b[0mself\u001b[0m\u001b[1;33m.\u001b[0m\u001b[0m_get_item_cache\u001b[0m\u001b[1;33m(\u001b[0m\u001b[0mcol\u001b[0m\u001b[1;33m)\u001b[0m\u001b[1;33m\u001b[0m\u001b[1;33m\u001b[0m\u001b[0m\n\u001b[0m\u001b[0;32m   3569\u001b[0m         \u001b[0mengine\u001b[0m \u001b[1;33m=\u001b[0m \u001b[0mself\u001b[0m\u001b[1;33m.\u001b[0m\u001b[0mindex\u001b[0m\u001b[1;33m.\u001b[0m\u001b[0m_engine\u001b[0m\u001b[1;33m\u001b[0m\u001b[1;33m\u001b[0m\u001b[0m\n\u001b[0;32m   3570\u001b[0m \u001b[1;33m\u001b[0m\u001b[0m\n",
      "\u001b[1;32mc:\\Users\\maceo.valente\\.virtualenvs\\TSAgriPV-XqNYGekU\\lib\\site-packages\\pandas\\core\\frame.py\u001b[0m in \u001b[0;36m_get_item_cache\u001b[1;34m(self, item)\u001b[0m\n\u001b[0;32m   3882\u001b[0m             \u001b[1;31m#  pending resolution of GH#33047\u001b[0m\u001b[1;33m\u001b[0m\u001b[1;33m\u001b[0m\u001b[1;33m\u001b[0m\u001b[0m\n\u001b[0;32m   3883\u001b[0m \u001b[1;33m\u001b[0m\u001b[0m\n\u001b[1;32m-> 3884\u001b[1;33m             \u001b[0mloc\u001b[0m \u001b[1;33m=\u001b[0m \u001b[0mself\u001b[0m\u001b[1;33m.\u001b[0m\u001b[0mcolumns\u001b[0m\u001b[1;33m.\u001b[0m\u001b[0mget_loc\u001b[0m\u001b[1;33m(\u001b[0m\u001b[0mitem\u001b[0m\u001b[1;33m)\u001b[0m\u001b[1;33m\u001b[0m\u001b[1;33m\u001b[0m\u001b[0m\n\u001b[0m\u001b[0;32m   3885\u001b[0m             \u001b[0mvalues\u001b[0m \u001b[1;33m=\u001b[0m \u001b[0mself\u001b[0m\u001b[1;33m.\u001b[0m\u001b[0m_mgr\u001b[0m\u001b[1;33m.\u001b[0m\u001b[0miget\u001b[0m\u001b[1;33m(\u001b[0m\u001b[0mloc\u001b[0m\u001b[1;33m)\u001b[0m\u001b[1;33m\u001b[0m\u001b[1;33m\u001b[0m\u001b[0m\n\u001b[0;32m   3886\u001b[0m             \u001b[0mres\u001b[0m \u001b[1;33m=\u001b[0m \u001b[0mself\u001b[0m\u001b[1;33m.\u001b[0m\u001b[0m_box_col_values\u001b[0m\u001b[1;33m(\u001b[0m\u001b[0mvalues\u001b[0m\u001b[1;33m,\u001b[0m \u001b[0mloc\u001b[0m\u001b[1;33m)\u001b[0m\u001b[1;33m.\u001b[0m\u001b[0m__finalize__\u001b[0m\u001b[1;33m(\u001b[0m\u001b[0mself\u001b[0m\u001b[1;33m)\u001b[0m\u001b[1;33m\u001b[0m\u001b[1;33m\u001b[0m\u001b[0m\n",
      "\u001b[1;32mc:\\Users\\maceo.valente\\.virtualenvs\\TSAgriPV-XqNYGekU\\lib\\site-packages\\pandas\\core\\indexes\\base.py\u001b[0m in \u001b[0;36mget_loc\u001b[1;34m(self, key, method, tolerance)\u001b[0m\n\u001b[0;32m   3361\u001b[0m                 \u001b[1;32mreturn\u001b[0m \u001b[0mself\u001b[0m\u001b[1;33m.\u001b[0m\u001b[0m_engine\u001b[0m\u001b[1;33m.\u001b[0m\u001b[0mget_loc\u001b[0m\u001b[1;33m(\u001b[0m\u001b[0mcasted_key\u001b[0m\u001b[1;33m)\u001b[0m\u001b[1;33m\u001b[0m\u001b[1;33m\u001b[0m\u001b[0m\n\u001b[0;32m   3362\u001b[0m             \u001b[1;32mexcept\u001b[0m \u001b[0mKeyError\u001b[0m \u001b[1;32mas\u001b[0m \u001b[0merr\u001b[0m\u001b[1;33m:\u001b[0m\u001b[1;33m\u001b[0m\u001b[1;33m\u001b[0m\u001b[0m\n\u001b[1;32m-> 3363\u001b[1;33m                 \u001b[1;32mraise\u001b[0m \u001b[0mKeyError\u001b[0m\u001b[1;33m(\u001b[0m\u001b[0mkey\u001b[0m\u001b[1;33m)\u001b[0m \u001b[1;32mfrom\u001b[0m \u001b[0merr\u001b[0m\u001b[1;33m\u001b[0m\u001b[1;33m\u001b[0m\u001b[0m\n\u001b[0m\u001b[0;32m   3364\u001b[0m \u001b[1;33m\u001b[0m\u001b[0m\n\u001b[0;32m   3365\u001b[0m         \u001b[1;32mif\u001b[0m \u001b[0mis_scalar\u001b[0m\u001b[1;33m(\u001b[0m\u001b[0mkey\u001b[0m\u001b[1;33m)\u001b[0m \u001b[1;32mand\u001b[0m \u001b[0misna\u001b[0m\u001b[1;33m(\u001b[0m\u001b[0mkey\u001b[0m\u001b[1;33m)\u001b[0m \u001b[1;32mand\u001b[0m \u001b[1;32mnot\u001b[0m \u001b[0mself\u001b[0m\u001b[1;33m.\u001b[0m\u001b[0mhasnans\u001b[0m\u001b[1;33m:\u001b[0m\u001b[1;33m\u001b[0m\u001b[1;33m\u001b[0m\u001b[0m\n",
      "\u001b[1;31mKeyError\u001b[0m: 0"
     ]
    }
   ],
   "source": [
    "# Remplissage de la colonne 'angle'\n",
    "# Parcourir tableau_1, en fonction de 'effacement', remplir 'angle' et 'irradiance'\n",
    "for i in range(tab_1.shape[0]) :\n",
    "    if tab_1.at[i,'effacement'] == 0:\n",
    "        #aller chercher irradiance au sol maximum dans tab_final (df3 dans ce .ipynb), et retrouver l'angle correspondant (nom de colonne)\n",
    "        tab_1.loc[i,'irradiance_sol'] = df3.drop(columns='month_day_hour').iloc[i].max() # Irradiance max\n",
    "        tab_1.loc[i,'angles'] = df3.drop(columns='month_day_hour').iloc[i].idxmax() # Colonne dont l'irradiance est max\n",
    "        # /!\\ Si égalité entre plusieurs angles, va choisir l'angle le moins élevé (-60 à priori)\n",
    "    else: #'effacement' == 1\n",
    "        # pvsyst_illim.loc[...] = angle PVSYST optimal, arrondir, puis trouver irradiance au sol correspondante\n",
    "        tab_1.loc[i,'irradiance_sol'] = df3.at[i,round(pvsyst_illim.loc[i,'PhiAng']/step_angle)*step_angle]\n",
    "        tab_1.loc[i,'angles'] = round(pvsyst_illim.loc[i,'PhiAng']/step_angle)*step_angle\n",
    "\n",
    "# Tableau_1 rempli, il ne reste qu'à calculer les rapports entre zone témoin /!\\(à intégrer)/!\\ et zone d'étude\n",
    "  "
   ]
  },
  {
   "cell_type": "code",
   "execution_count": null,
   "metadata": {},
   "outputs": [
    {
     "name": "stdout",
     "output_type": "stream",
     "text": [
      "                    hoys  effacement  angle  irradiance_sol  angles\n",
      "0    2023-01-01 00:00:00         1.0    0.0             0.0     0.0\n",
      "1    2023-01-01 01:00:00         1.0    0.0             0.0     0.0\n",
      "2    2023-01-01 02:00:00         1.0    0.0             0.0     0.0\n",
      "3    2023-01-01 03:00:00         1.0    0.0             0.0     0.0\n",
      "4    2023-01-01 04:00:00         1.0    0.0             0.0     0.0\n",
      "...                  ...         ...    ...             ...     ...\n",
      "8755 2023-12-31 19:00:00         1.0    0.0             0.0     0.0\n",
      "8756 2023-12-31 20:00:00         1.0    0.0             0.0     0.0\n",
      "8757 2023-12-31 21:00:00         1.0    0.0             0.0     0.0\n",
      "8758 2023-12-31 22:00:00         1.0    0.0             0.0     0.0\n",
      "8759 2023-12-31 23:00:00         1.0    0.0             0.0     0.0\n",
      "\n",
      "[8760 rows x 5 columns]\n"
     ]
    }
   ],
   "source": [
    "# print(tab_1[(tab_1['effacement'] < 1) & (tab_1['hoys'].dt.month == 9)])\n",
    "print(tab_1)"
   ]
  },
  {
   "cell_type": "markdown",
   "metadata": {},
   "source": [
    "Calcul liste de taille 365 concernant rapport de irradiance_zone_témoin sur irradiance_zone_étude"
   ]
  },
  {
   "cell_type": "code",
   "execution_count": null,
   "metadata": {},
   "outputs": [
    {
     "name": "stdout",
     "output_type": "stream",
     "text": [
      "           date  irradiance_sol_day\n",
      "0    2023-01-01            2.444301\n",
      "1    2023-01-02            0.339211\n",
      "2    2023-01-03            3.506907\n",
      "3    2023-01-04            2.824320\n",
      "4    2023-01-05            0.552571\n",
      "..          ...                 ...\n",
      "360  2023-12-27            1.630395\n",
      "361  2023-12-28            0.160914\n",
      "362  2023-12-29            1.213723\n",
      "363  2023-12-30            3.113947\n",
      "364  2023-12-31            3.771072\n",
      "\n",
      "[365 rows x 2 columns]\n"
     ]
    }
   ],
   "source": [
    "df_daily = tab_1.groupby(tab_1['hoys'].dt.date)['irradiance_sol'].sum().reset_index()\n",
    "df_daily.columns = ['date', 'irradiance_sol_day']\n",
    "\n",
    "print(df_daily)"
   ]
  },
  {
   "cell_type": "markdown",
   "metadata": {},
   "source": [
    "###########\n",
    "###########\n",
    "#### TESTS\n",
    "###########\n",
    "###########"
   ]
  },
  {
   "cell_type": "code",
   "execution_count": 33,
   "metadata": {},
   "outputs": [
    {
     "data": {
      "text/html": [
       "<div>\n",
       "<style scoped>\n",
       "    .dataframe tbody tr th:only-of-type {\n",
       "        vertical-align: middle;\n",
       "    }\n",
       "\n",
       "    .dataframe tbody tr th {\n",
       "        vertical-align: top;\n",
       "    }\n",
       "\n",
       "    .dataframe thead th {\n",
       "        text-align: right;\n",
       "    }\n",
       "</style>\n",
       "<table border=\"1\" class=\"dataframe\">\n",
       "  <thead>\n",
       "    <tr style=\"text-align: right;\">\n",
       "      <th></th>\n",
       "      <th>month_day_hour</th>\n",
       "      <th>-60</th>\n",
       "      <th>1</th>\n",
       "      <th>temoin</th>\n",
       "    </tr>\n",
       "  </thead>\n",
       "  <tbody>\n",
       "    <tr>\n",
       "      <th>5</th>\n",
       "      <td>2023-01-01 05:00:00</td>\n",
       "      <td>0.000000</td>\n",
       "      <td>0.000000</td>\n",
       "      <td>0.000000</td>\n",
       "    </tr>\n",
       "    <tr>\n",
       "      <th>6</th>\n",
       "      <td>2023-01-01 06:00:00</td>\n",
       "      <td>0.000000</td>\n",
       "      <td>0.000000</td>\n",
       "      <td>0.000000</td>\n",
       "    </tr>\n",
       "    <tr>\n",
       "      <th>7</th>\n",
       "      <td>2023-01-01 07:00:00</td>\n",
       "      <td>0.049168</td>\n",
       "      <td>0.049168</td>\n",
       "      <td>0.049168</td>\n",
       "    </tr>\n",
       "    <tr>\n",
       "      <th>8</th>\n",
       "      <td>2023-01-01 08:00:00</td>\n",
       "      <td>0.181327</td>\n",
       "      <td>0.181327</td>\n",
       "      <td>0.181327</td>\n",
       "    </tr>\n",
       "    <tr>\n",
       "      <th>9</th>\n",
       "      <td>2023-01-01 09:00:00</td>\n",
       "      <td>0.312087</td>\n",
       "      <td>0.312087</td>\n",
       "      <td>0.312087</td>\n",
       "    </tr>\n",
       "    <tr>\n",
       "      <th>10</th>\n",
       "      <td>2023-01-01 10:00:00</td>\n",
       "      <td>0.343043</td>\n",
       "      <td>0.343043</td>\n",
       "      <td>0.343043</td>\n",
       "    </tr>\n",
       "    <tr>\n",
       "      <th>11</th>\n",
       "      <td>2023-01-01 11:00:00</td>\n",
       "      <td>0.305425</td>\n",
       "      <td>0.305425</td>\n",
       "      <td>0.305425</td>\n",
       "    </tr>\n",
       "    <tr>\n",
       "      <th>12</th>\n",
       "      <td>2023-01-01 12:00:00</td>\n",
       "      <td>0.320081</td>\n",
       "      <td>0.320081</td>\n",
       "      <td>0.320081</td>\n",
       "    </tr>\n",
       "    <tr>\n",
       "      <th>13</th>\n",
       "      <td>2023-01-01 13:00:00</td>\n",
       "      <td>0.376153</td>\n",
       "      <td>0.376153</td>\n",
       "      <td>0.376153</td>\n",
       "    </tr>\n",
       "    <tr>\n",
       "      <th>14</th>\n",
       "      <td>2023-01-01 14:00:00</td>\n",
       "      <td>0.334291</td>\n",
       "      <td>0.334291</td>\n",
       "      <td>0.334291</td>\n",
       "    </tr>\n",
       "    <tr>\n",
       "      <th>15</th>\n",
       "      <td>2023-01-01 15:00:00</td>\n",
       "      <td>0.178140</td>\n",
       "      <td>0.178140</td>\n",
       "      <td>0.178140</td>\n",
       "    </tr>\n",
       "    <tr>\n",
       "      <th>16</th>\n",
       "      <td>2023-01-01 16:00:00</td>\n",
       "      <td>0.043632</td>\n",
       "      <td>0.043632</td>\n",
       "      <td>0.043632</td>\n",
       "    </tr>\n",
       "    <tr>\n",
       "      <th>17</th>\n",
       "      <td>2023-01-01 17:00:00</td>\n",
       "      <td>0.001077</td>\n",
       "      <td>0.001077</td>\n",
       "      <td>0.001077</td>\n",
       "    </tr>\n",
       "    <tr>\n",
       "      <th>18</th>\n",
       "      <td>2023-01-01 18:00:00</td>\n",
       "      <td>0.000000</td>\n",
       "      <td>0.000000</td>\n",
       "      <td>0.000000</td>\n",
       "    </tr>\n",
       "    <tr>\n",
       "      <th>19</th>\n",
       "      <td>2023-01-01 19:00:00</td>\n",
       "      <td>0.000000</td>\n",
       "      <td>0.000000</td>\n",
       "      <td>0.000000</td>\n",
       "    </tr>\n",
       "    <tr>\n",
       "      <th>20</th>\n",
       "      <td>2023-01-01 20:00:00</td>\n",
       "      <td>0.000000</td>\n",
       "      <td>0.000000</td>\n",
       "      <td>0.000000</td>\n",
       "    </tr>\n",
       "    <tr>\n",
       "      <th>21</th>\n",
       "      <td>2023-01-01 21:00:00</td>\n",
       "      <td>0.000000</td>\n",
       "      <td>0.000000</td>\n",
       "      <td>0.000000</td>\n",
       "    </tr>\n",
       "    <tr>\n",
       "      <th>22</th>\n",
       "      <td>2023-01-01 22:00:00</td>\n",
       "      <td>0.000000</td>\n",
       "      <td>0.000000</td>\n",
       "      <td>0.000000</td>\n",
       "    </tr>\n",
       "    <tr>\n",
       "      <th>23</th>\n",
       "      <td>2023-01-01 23:00:00</td>\n",
       "      <td>0.000000</td>\n",
       "      <td>0.000000</td>\n",
       "      <td>0.000000</td>\n",
       "    </tr>\n",
       "    <tr>\n",
       "      <th>24</th>\n",
       "      <td>2023-01-02 00:00:00</td>\n",
       "      <td>0.000000</td>\n",
       "      <td>0.000000</td>\n",
       "      <td>0.000000</td>\n",
       "    </tr>\n",
       "  </tbody>\n",
       "</table>\n",
       "</div>"
      ],
      "text/plain": [
       "        month_day_hour       -60         1    temoin\n",
       "5  2023-01-01 05:00:00  0.000000  0.000000  0.000000\n",
       "6  2023-01-01 06:00:00  0.000000  0.000000  0.000000\n",
       "7  2023-01-01 07:00:00  0.049168  0.049168  0.049168\n",
       "8  2023-01-01 08:00:00  0.181327  0.181327  0.181327\n",
       "9  2023-01-01 09:00:00  0.312087  0.312087  0.312087\n",
       "10 2023-01-01 10:00:00  0.343043  0.343043  0.343043\n",
       "11 2023-01-01 11:00:00  0.305425  0.305425  0.305425\n",
       "12 2023-01-01 12:00:00  0.320081  0.320081  0.320081\n",
       "13 2023-01-01 13:00:00  0.376153  0.376153  0.376153\n",
       "14 2023-01-01 14:00:00  0.334291  0.334291  0.334291\n",
       "15 2023-01-01 15:00:00  0.178140  0.178140  0.178140\n",
       "16 2023-01-01 16:00:00  0.043632  0.043632  0.043632\n",
       "17 2023-01-01 17:00:00  0.001077  0.001077  0.001077\n",
       "18 2023-01-01 18:00:00  0.000000  0.000000  0.000000\n",
       "19 2023-01-01 19:00:00  0.000000  0.000000  0.000000\n",
       "20 2023-01-01 20:00:00  0.000000  0.000000  0.000000\n",
       "21 2023-01-01 21:00:00  0.000000  0.000000  0.000000\n",
       "22 2023-01-01 22:00:00  0.000000  0.000000  0.000000\n",
       "23 2023-01-01 23:00:00  0.000000  0.000000  0.000000\n",
       "24 2023-01-02 00:00:00  0.000000  0.000000  0.000000"
      ]
     },
     "execution_count": 33,
     "metadata": {},
     "output_type": "execute_result"
    }
   ],
   "source": [
    "df3[5:25]"
   ]
  }
 ],
 "metadata": {
  "kernelspec": {
   "display_name": "TSAgriPV-XqNYGekU",
   "language": "python",
   "name": "python3"
  },
  "language_info": {
   "codemirror_mode": {
    "name": "ipython",
    "version": 3
   },
   "file_extension": ".py",
   "mimetype": "text/x-python",
   "name": "python",
   "nbconvert_exporter": "python",
   "pygments_lexer": "ipython3",
   "version": "3.7.9"
  }
 },
 "nbformat": 4,
 "nbformat_minor": 2
}
