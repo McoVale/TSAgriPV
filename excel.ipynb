{
 "cells": [
  {
   "cell_type": "code",
   "execution_count": 92,
   "metadata": {},
   "outputs": [],
   "source": [
    "import pandas as pd\n",
    "import numpy as np\n",
    "from datetime import datetime, timedelta\n",
    "\n",
    "import openpyxl as op"
   ]
  },
  {
   "cell_type": "code",
   "execution_count": 93,
   "metadata": {},
   "outputs": [
    {
     "name": "stdout",
     "output_type": "stream",
     "text": [
      "[-60 -40 -20   0  20  40  60]\n",
      "365\n"
     ]
    }
   ],
   "source": [
    "# Paramétrage :\n",
    "\n",
    "# from final_tab.ipynb\n",
    "# Define the angle range and step\n",
    "start_angle = -60\n",
    "end_angle = 60\n",
    "step_angle = 20\n",
    "\n",
    "# Create the array of angles\n",
    "angles = np.arange(start_angle, end_angle + 1, step_angle)\n",
    "print(angles)\n",
    "\n",
    "# Paramètres annuels\n",
    "###### # from final_tab.ipynb\n",
    "start_date = datetime(year = 2023, month = 1, day = 1, hour = 0)\n",
    "end_date = datetime(year = 2024, month = 1, day = 1, hour = 0)\n",
    "print((end_date-start_date).days)\n",
    "\n",
    "# Paramètres horaires\n",
    "###### # from final_tab.ipynb\n",
    "HEURE_DEB = 6\n",
    "HEURE_FIN = 22\n",
    "HEURE_BLANCHES = 24 - (HEURE_FIN-HEURE_DEB)\n",
    "NB_HEURES_ANNEES_ETUD = (HEURE_FIN-HEURE_DEB)*(end_date-start_date).days\n",
    "TOT_HOYS = (end_date-start_date).days*24"
   ]
  },
  {
   "cell_type": "code",
   "execution_count": 94,
   "metadata": {},
   "outputs": [],
   "source": [
    "# Lecture du tableau généré aux étapes précédentes\n",
    "df = pd.read_excel(\"results/tabmean_5840_step20.xlsx\",sheet_name=\"Sheet1\",header=None)\n",
    "\n",
    "df.columns = angles"
   ]
  },
  {
   "cell_type": "code",
   "execution_count": 95,
   "metadata": {},
   "outputs": [],
   "source": [
    "# Étape 1 : Ajouter autant de lignes nulles qu'HEURE_DEB si positif\n",
    "if HEURE_DEB > 0:\n",
    "    null_rows_start = pd.DataFrame(0, index=range(HEURE_DEB), columns=angles)\n",
    "    df2 = pd.concat([null_rows_start, df], ignore_index=True)\n",
    "\n",
    "# Étape 2 : Ajouter 8 lignes vides toutes les 16 lignes jusqu'à atteindre 8760 lignes\n",
    "if HEURE_BLANCHES > 0:\n",
    "    empty_rows = pd.DataFrame(0, index=range(HEURE_BLANCHES), columns=angles)\n",
    "\n",
    "    for idx in range(HEURE_FIN, TOT_HOYS, 24):\n",
    "        df2 = pd.concat([df2.iloc[:idx], empty_rows, df2.iloc[idx:]], ignore_index=True)\n",
    "\n",
    "# Étape 3 : Enlever les lignes en trop\n",
    "if df2.shape[0] > TOT_HOYS :\n",
    "    surplus = df2.shape[0] - TOT_HOYS\n",
    "    df3 = df2.iloc[:-surplus]"
   ]
  },
  {
   "cell_type": "code",
   "execution_count": 96,
   "metadata": {},
   "outputs": [
    {
     "name": "stdout",
     "output_type": "stream",
     "text": [
      "         -60       -40       -20        0         20        40        60\n",
      "0   0.000000  0.000000  0.000000  0.000000  0.000000  0.000000  0.000000\n",
      "1   0.000000  0.000000  0.000000  0.000000  0.000000  0.000000  0.000000\n",
      "2   0.000000  0.000000  0.000000  0.000000  0.000000  0.000000  0.000000\n",
      "3   0.000000  0.000000  0.000000  0.000000  0.000000  0.000000  0.000000\n",
      "4   0.000000  0.000000  0.000000  0.000000  0.000000  0.000000  0.000000\n",
      "5   0.000000  0.000000  0.000000  0.000000  0.000000  0.000000  0.000000\n",
      "6   0.000000  0.000000  0.000000  0.000000  0.000000  0.000000  0.000000\n",
      "7   0.049168  0.049164  0.049165  0.049168  0.049168  0.049161  0.049168\n",
      "8   0.181327  0.181314  0.181316  0.181327  0.181327  0.181300  0.181327\n",
      "9   0.312087  0.312063  0.312066  0.312087  0.312087  0.312036  0.312087\n",
      "10  0.343043  0.343010  0.343014  0.343043  0.343043  0.342973  0.343043\n",
      "11  0.305425  0.305392  0.305396  0.305425  0.305425  0.305354  0.305425\n",
      "12  0.320081  0.320049  0.320053  0.320081  0.320081  0.320012  0.320081\n",
      "13  0.376153  0.376122  0.376126  0.376153  0.376153  0.376086  0.376153\n",
      "14  0.334291  0.334266  0.334269  0.334291  0.334291  0.334239  0.334291\n",
      "15  0.178140  0.178128  0.178129  0.178140  0.178140  0.178115  0.178140\n",
      "16  0.043632  0.043629  0.043629  0.043632  0.043632  0.043626  0.043632\n",
      "17  0.001077  0.001077  0.001077  0.001077  0.001077  0.001077  0.001077\n",
      "18  0.000000  0.000000  0.000000  0.000000  0.000000  0.000000  0.000000\n",
      "19  0.000000  0.000000  0.000000  0.000000  0.000000  0.000000  0.000000\n",
      "20  0.000000  0.000000  0.000000  0.000000  0.000000  0.000000  0.000000\n",
      "21  0.000000  0.000000  0.000000  0.000000  0.000000  0.000000  0.000000\n",
      "22  0.000000  0.000000  0.000000  0.000000  0.000000  0.000000  0.000000\n",
      "23  0.000000  0.000000  0.000000  0.000000  0.000000  0.000000  0.000000\n"
     ]
    }
   ],
   "source": [
    "print(df3[0:24])"
   ]
  },
  {
   "cell_type": "code",
   "execution_count": 97,
   "metadata": {},
   "outputs": [
    {
     "name": "stdout",
     "output_type": "stream",
     "text": [
      "       month_day_hour  -60  -40  -20    0   20   40   60\n",
      "0 2023-01-01 00:00:00  0.0  0.0  0.0  0.0  0.0  0.0  0.0\n",
      "1 2023-01-01 01:00:00  0.0  0.0  0.0  0.0  0.0  0.0  0.0\n",
      "2 2023-01-01 02:00:00  0.0  0.0  0.0  0.0  0.0  0.0  0.0\n",
      "3 2023-01-01 03:00:00  0.0  0.0  0.0  0.0  0.0  0.0  0.0\n",
      "4 2023-01-01 04:00:00  0.0  0.0  0.0  0.0  0.0  0.0  0.0\n"
     ]
    },
    {
     "name": "stderr",
     "output_type": "stream",
     "text": [
      "c:\\Users\\maceo.valente\\.virtualenvs\\TSAgriPV-XqNYGekU\\lib\\site-packages\\ipykernel_launcher.py:6: SettingWithCopyWarning: \n",
      "A value is trying to be set on a copy of a slice from a DataFrame.\n",
      "Try using .loc[row_indexer,col_indexer] = value instead\n",
      "\n",
      "See the caveats in the documentation: https://pandas.pydata.org/pandas-docs/stable/user_guide/indexing.html#returning-a-view-versus-a-copy\n",
      "  \n"
     ]
    }
   ],
   "source": [
    "# Créer un DataFrame avec les heures de l'année (de 0 à 8759) en tant qu'index\n",
    "hours_in_year = range(8760)\n",
    "dfX = pd.DataFrame(index=hours_in_year)\n",
    "\n",
    "# Ajouter la colonne 'month_day_hour' sans déclencher l'avertissement\n",
    "df3['month_day_hour'] = pd.to_datetime(dfX.index.map(lambda x: start_date + timedelta(hours=x)))\n",
    "\n",
    "# Réorganiser les colonnes dans df3\n",
    "cols = ['month_day_hour'] + [col for col in df3 if col != 'month_day_hour']\n",
    "df3 = df3[cols]\n",
    "print(df3.head())"
   ]
  },
  {
   "cell_type": "markdown",
   "metadata": {},
   "source": [
    "Import scenario :\n",
    "1 = True = Backtracking (productible max)\n",
    "0 = False = Effacement (irradiance au sol maximum)"
   ]
  },
  {
   "cell_type": "code",
   "execution_count": 98,
   "metadata": {},
   "outputs": [
    {
     "name": "stdout",
     "output_type": "stream",
     "text": [
      "[[ True  True  True  True  True  True  True  True  True  True  True  True\n",
      "   True  True  True  True  True  True  True  True  True  True  True  True]\n",
      " [ True  True  True  True  True  True  True  True  True  True  True  True\n",
      "   True  True  True  True  True  True  True  True  True  True  True  True]\n",
      " [ True  True  True  True  True  True  True  True  True  True  True  True\n",
      "   True  True  True  True  True  True  True  True  True  True  True  True]\n",
      " [ True  True  True  True  True  True  True  True  True  True  True  True\n",
      "   True  True  True  True  True  True  True  True  True  True  True  True]\n",
      " [ True  True  True  True  True  True  True  True  True  True  True False\n",
      "  False False False False False False  True  True  True  True  True  True]\n",
      " [ True  True  True  True  True  True  True  True  True  True  True False\n",
      "  False False False False False False  True  True  True  True  True  True]\n",
      " [ True  True  True  True  True  True  True  True  True  True  True False\n",
      "  False  True  True  True False False  True  True  True  True  True  True]\n",
      " [ True  True  True  True  True  True  True  True  True  True  True False\n",
      "   True  True  True  True  True False  True  True  True  True  True  True]\n",
      " [ True  True  True  True  True  True  True  True  True  True  True False\n",
      "   True  True  True  True  True False  True  True  True  True  True  True]\n",
      " [ True  True  True  True  True  True  True  True  True  True  True  True\n",
      "   True  True  True  True  True  True  True  True  True  True  True  True]\n",
      " [ True  True  True  True  True  True  True  True  True  True  True  True\n",
      "   True  True  True  True  True  True  True  True  True  True  True  True]\n",
      " [ True  True  True  True  True  True  True  True  True  True  True  True\n",
      "   True  True  True  True  True  True  True  True  True  True  True  True]]\n"
     ]
    }
   ],
   "source": [
    "from scenario import Scenario\n",
    "\n",
    "## TESTS ##\n",
    "# Instancier des objets scénarios\n",
    "s1 = None\n",
    "xl_path = \"scenarios/sc_test1.xlsx\"\n",
    "s1 = Scenario(file_path=xl_path)\n",
    "# print(s1.scenario[:,:])\n",
    "\n",
    "s2 = Scenario(file_path=xl_path)\n",
    "print(s2.scenario[:,:])\n",
    "\n"
   ]
  },
  {
   "cell_type": "code",
   "execution_count": 99,
   "metadata": {},
   "outputs": [
    {
     "data": {
      "text/plain": [
       "(12, 24)"
      ]
     },
     "execution_count": 99,
     "metadata": {},
     "output_type": "execute_result"
    }
   ],
   "source": [
    "s2.scenario.shape"
   ]
  },
  {
   "cell_type": "markdown",
   "metadata": {},
   "source": [
    "Création équivalent 1/0"
   ]
  },
  {
   "cell_type": "code",
   "execution_count": 100,
   "metadata": {},
   "outputs": [
    {
     "name": "stdout",
     "output_type": "stream",
     "text": [
      "[[1 1 1 1 1 1 1 1 1 1 1 1 1 1 1 1 1 1 1 1 1 1 1 1]\n",
      " [1 1 1 1 1 1 1 1 1 1 1 1 1 1 1 1 1 1 1 1 1 1 1 1]\n",
      " [1 1 1 1 1 1 1 1 1 1 1 1 1 1 1 1 1 1 1 1 1 1 1 1]\n",
      " [1 1 1 1 1 1 1 1 1 1 1 1 1 1 1 1 1 1 1 1 1 1 1 1]\n",
      " [1 1 1 1 1 1 1 1 1 1 1 0 0 0 0 0 0 0 1 1 1 1 1 1]\n",
      " [1 1 1 1 1 1 1 1 1 1 1 0 0 0 0 0 0 0 1 1 1 1 1 1]\n",
      " [1 1 1 1 1 1 1 1 1 1 1 0 0 1 1 1 0 0 1 1 1 1 1 1]\n",
      " [1 1 1 1 1 1 1 1 1 1 1 0 1 1 1 1 1 0 1 1 1 1 1 1]\n",
      " [1 1 1 1 1 1 1 1 1 1 1 0 1 1 1 1 1 0 1 1 1 1 1 1]\n",
      " [1 1 1 1 1 1 1 1 1 1 1 1 1 1 1 1 1 1 1 1 1 1 1 1]\n",
      " [1 1 1 1 1 1 1 1 1 1 1 1 1 1 1 1 1 1 1 1 1 1 1 1]\n",
      " [1 1 1 1 1 1 1 1 1 1 1 1 1 1 1 1 1 1 1 1 1 1 1 1]]\n"
     ]
    }
   ],
   "source": [
    "# Création_tab 1\n",
    "sc10 = np.full((12,24), 0, dtype = \"int8\")\n",
    "\n",
    "for i in range(s2.scenario.shape[0]):  # Pour chaque ligne\n",
    "    for j in range(s2.scenario.shape[1]):  # Pour chaque colonne\n",
    "        if s2.scenario[i, j] == True:\n",
    "            sc10[i, j] = 1\n",
    "\n",
    "print(sc10)"
   ]
  },
  {
   "cell_type": "markdown",
   "metadata": {},
   "source": [
    "Création tab_1"
   ]
  },
  {
   "cell_type": "code",
   "execution_count": 101,
   "metadata": {},
   "outputs": [],
   "source": [
    "# Nombre de lignes souhaité\n",
    "n_rows = 8760\n",
    "\n",
    "# Création d'un DataFrame avec des valeurs par défaut (par exemple, 0)\n",
    "tab_1 = pd.DataFrame({\n",
    "    'hoys': df3['month_day_hour'],\n",
    "    'effacement': np.ones(n_rows),\n",
    "    'angle': np.zeros(n_rows),\n",
    "    'irradiance_sol': np.zeros(n_rows)\n",
    "})\n"
   ]
  },
  {
   "cell_type": "markdown",
   "metadata": {},
   "source": [
    "Remplir le tab_1 :"
   ]
  },
  {
   "cell_type": "code",
   "execution_count": 102,
   "metadata": {},
   "outputs": [],
   "source": [
    "# Remplissage de la colonne 'effacement'\n",
    "# Parcourir scénario, pour chaque 0 (False), changer les 1 (panneaux en suntracking) de la colonne 'effacement' en 0 (panneaux effacés)\n",
    "\n",
    "for i in range(s1.scenario.shape[0]) :  # Pour chaque ligne\n",
    "    for j in range(s1.scenario.shape[1]) :  # Pour chaque colonne\n",
    "        if s1.scenario[i,j] == False :\n",
    "            tab_1.loc[(tab_1['hoys'].dt.hour == j) & (tab_1['hoys'].dt.month == i+1), 'effacement'] = 0"
   ]
  },
  {
   "cell_type": "code",
   "execution_count": 104,
   "metadata": {},
   "outputs": [],
   "source": [
    "# Remplissage de la colonne 'angle'\n",
    "# Parcourir tableau_1, en fonction de 'effacement', remplir 'angle' et 'irradiance'\n",
    "for i in range(tab_1.shape[0]) :\n",
    "    if tab_1.at[i,'effacement'] == 0:\n",
    "        #aller chercher irradiance au sol maximum dans tab_final (df3 dans ce .ipynb), et retrouver l'angle correspondant (nom de colonne)\n",
    "        tab_1.loc[i,'irradiance_sol'] = df3.drop(columns='month_day_hour').iloc[i].max() # Irradiance max\n",
    "        tab_1.loc[i,'angles'] = df3.drop(columns='month_day_hour').iloc[i].idxmax() # Colonne dont l'irradiance est max\n",
    "        # /!\\ Si égalité entre plusieurs angles, va choisir l'angle le moins élevé (-60 à priori)\n",
    "    #else: #'effacement == 1\n",
    "        # Aller chercher angle PVSYST optimal, arrondir, puis trouver irradiance au sol correspondante\n",
    "  "
   ]
  },
  {
   "cell_type": "code",
   "execution_count": 105,
   "metadata": {},
   "outputs": [
    {
     "name": "stdout",
     "output_type": "stream",
     "text": [
      "                    hoys  effacement  angle  irradiance_sol  angles\n",
      "5840 2023-09-01 08:00:00         1.0    0.0        0.000000     NaN\n",
      "5841 2023-09-01 09:00:00         1.0    0.0        0.000000     NaN\n",
      "5842 2023-09-01 10:00:00         1.0    0.0        0.000000     NaN\n",
      "5843 2023-09-01 11:00:00         0.0    0.0        0.379713   -60.0\n",
      "5844 2023-09-01 12:00:00         1.0    0.0        0.000000     NaN\n",
      "5845 2023-09-01 13:00:00         1.0    0.0        0.000000     NaN\n",
      "5846 2023-09-01 14:00:00         1.0    0.0        0.000000     NaN\n",
      "5847 2023-09-01 15:00:00         1.0    0.0        0.000000     NaN\n",
      "5848 2023-09-01 16:00:00         1.0    0.0        0.000000     NaN\n",
      "5849 2023-09-01 17:00:00         0.0    0.0        0.213432   -60.0\n",
      "5850 2023-09-01 18:00:00         1.0    0.0        0.000000     NaN\n",
      "5851 2023-09-01 19:00:00         1.0    0.0        0.000000     NaN\n",
      "5852 2023-09-01 20:00:00         1.0    0.0        0.000000     NaN\n",
      "5853 2023-09-01 21:00:00         1.0    0.0        0.000000     NaN\n",
      "5854 2023-09-01 22:00:00         1.0    0.0        0.000000     NaN\n",
      "5855 2023-09-01 23:00:00         1.0    0.0        0.000000     NaN\n",
      "5856 2023-09-02 00:00:00         1.0    0.0        0.000000     NaN\n",
      "5857 2023-09-02 01:00:00         1.0    0.0        0.000000     NaN\n",
      "5858 2023-09-02 02:00:00         1.0    0.0        0.000000     NaN\n",
      "5859 2023-09-02 03:00:00         1.0    0.0        0.000000     NaN\n",
      "5860 2023-09-02 04:00:00         1.0    0.0        0.000000     NaN\n",
      "5861 2023-09-02 05:00:00         1.0    0.0        0.000000     NaN\n",
      "5862 2023-09-02 06:00:00         1.0    0.0        0.000000     NaN\n",
      "5863 2023-09-02 07:00:00         1.0    0.0        0.000000     NaN\n",
      "5864 2023-09-02 08:00:00         1.0    0.0        0.000000     NaN\n",
      "5865 2023-09-02 09:00:00         1.0    0.0        0.000000     NaN\n",
      "5866 2023-09-02 10:00:00         1.0    0.0        0.000000     NaN\n",
      "5867 2023-09-02 11:00:00         0.0    0.0        0.434549   -60.0\n",
      "5868 2023-09-02 12:00:00         1.0    0.0        0.000000     NaN\n",
      "5869 2023-09-02 13:00:00         1.0    0.0        0.000000     NaN\n"
     ]
    }
   ],
   "source": [
    "# print(tab_1[(tab_1['effacement'] < 1) & (tab_1['hoys'].dt.month == 9)])\n",
    "print(tab_1[5840:5870])"
   ]
  },
  {
   "cell_type": "code",
   "execution_count": 108,
   "metadata": {},
   "outputs": [
    {
     "name": "stdout",
     "output_type": "stream",
     "text": [
      "month_day_hour    2023-09-02 11:00:00\n",
      "-60                          0.434549\n",
      "-40                          0.434496\n",
      "-20                          0.434502\n",
      "0                            0.434549\n",
      "20                           0.434549\n",
      "40                           0.434436\n",
      "60                           0.434549\n",
      "Name: 5867, dtype: object\n"
     ]
    }
   ],
   "source": [
    "print(df3.iloc[5867,:])"
   ]
  }
 ],
 "metadata": {
  "kernelspec": {
   "display_name": "TSAgriPV-XqNYGekU",
   "language": "python",
   "name": "python3"
  },
  "language_info": {
   "codemirror_mode": {
    "name": "ipython",
    "version": 3
   },
   "file_extension": ".py",
   "mimetype": "text/x-python",
   "name": "python",
   "nbconvert_exporter": "python",
   "pygments_lexer": "ipython3",
   "version": "3.7.9"
  }
 },
 "nbformat": 4,
 "nbformat_minor": 2
}
