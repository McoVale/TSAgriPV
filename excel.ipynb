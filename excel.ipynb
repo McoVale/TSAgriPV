{
 "cells": [
  {
   "cell_type": "code",
   "execution_count": 1,
   "metadata": {},
   "outputs": [],
   "source": [
    "import pandas as pd\n",
    "import numpy as np\n",
    "import openpyxl as op"
   ]
  },
  {
   "cell_type": "code",
   "execution_count": 12,
   "metadata": {},
   "outputs": [
    {
     "name": "stdout",
     "output_type": "stream",
     "text": [
      "           -60       0.1\n",
      "0     0.031854  0.031854\n",
      "1     0.114561  0.114561\n",
      "2     0.184065  0.184065\n",
      "3     0.203126  0.203126\n",
      "4     0.226382  0.226382\n",
      "...        ...       ...\n",
      "5834  0.001064  0.001064\n",
      "5835  0.000000  0.000000\n",
      "5836  0.000000  0.000000\n",
      "5837  0.000000  0.000000\n",
      "5838  0.000000  0.000000\n",
      "\n",
      "[5839 rows x 2 columns]\n"
     ]
    }
   ],
   "source": [
    "tab = pd.read_excel(\"results/tabmin_5840_-60_1.xlsx\",sheet_name=\"Sheet1\")\n",
    "\n",
    "tab.rename(columns={0:-60, 1:1},inplace=True)\n",
    "\n",
    "print(tab)"
   ]
  },
  {
   "cell_type": "code",
   "execution_count": 14,
   "metadata": {},
   "outputs": [
    {
     "name": "stdout",
     "output_type": "stream",
     "text": [
      "     A   B\n",
      "0    0  20\n",
      "1    1  21\n",
      "2    2  22\n",
      "3    3  23\n",
      "4    4  24\n",
      "5    5  25\n",
      "6    6  26\n",
      "7    7  27\n",
      "8    8  28\n",
      "9    9  29\n",
      "10  10  30\n",
      "11  11  31\n",
      "12  12  32\n",
      "13  13  33\n",
      "14  14  34\n",
      "15  15  35\n",
      "16  16  36\n",
      "17  17  37\n",
      "18  18  38\n",
      "19  19  39\n",
      "       A     B\n",
      "4    4.0  24.0\n",
      "5    5.0  25.0\n",
      "6    6.0  26.0\n",
      "7    7.0  27.0\n",
      "8    8.0  28.0\n",
      "9    9.0  29.0\n",
      "10  10.0  30.0\n",
      "11  11.0  31.0\n"
     ]
    }
   ],
   "source": [
    "# Exemple de DataFrame\n",
    "data = {\n",
    "    'A': range(20),\n",
    "    'B': range(20, 40)\n",
    "}\n",
    "df = pd.DataFrame(data)\n",
    "print(df)\n",
    "# Définir l'intervalle pour les lignes vides\n",
    "interval = 5\n",
    "\n",
    "# Créer un nouveau DataFrame pour les résultats\n",
    "new_index = np.sort(np.concatenate([df.index, np.arange(0.5, len(df), interval)]))\n",
    "new_df = pd.DataFrame(index=new_index).reindex_like(df)\n",
    "\n",
    "# Remplir le nouveau DataFrame avec les données existantes\n",
    "new_df.update(df)\n",
    "\n",
    "# Réindexer pour ajuster les lignes et rendre les index entiers\n",
    "new_df.reset_index(drop=True, inplace=True)\n",
    "\n",
    "print(new_df[4:12])"
   ]
  }
 ],
 "metadata": {
  "kernelspec": {
   "display_name": "TSAgriPV-XqNYGekU",
   "language": "python",
   "name": "python3"
  },
  "language_info": {
   "codemirror_mode": {
    "name": "ipython",
    "version": 3
   },
   "file_extension": ".py",
   "mimetype": "text/x-python",
   "name": "python",
   "nbconvert_exporter": "python",
   "pygments_lexer": "ipython3",
   "version": "3.7.9"
  }
 },
 "nbformat": 4,
 "nbformat_minor": 2
}
