{
 "cells": [
  {
   "cell_type": "code",
   "execution_count": 1,
   "metadata": {},
   "outputs": [],
   "source": [
    "import pandas as pd\n",
    "import numpy as np\n",
    "from datetime import datetime, timedelta\n",
    "\n",
    "from scenario import Scenario\n",
    "\n",
    "import openpyxl as op"
   ]
  },
  {
   "cell_type": "code",
   "execution_count": 89,
   "metadata": {},
   "outputs": [
    {
     "name": "stdout",
     "output_type": "stream",
     "text": [
      "[-60, -50, -40, -30, -20, -10, 0, 10, 20, 30, 40, 50, 60]\n"
     ]
    }
   ],
   "source": [
    "# Settings :\n",
    "\n",
    "# from light_sim.ipynb\n",
    "# Settings angles\n",
    "#####\n",
    "start_angle = -60\n",
    "end_angle = 60\n",
    "step_angle = 10\n",
    "angles = np.arange(start_angle, end_angle + 1, step_angle)\n",
    "# angles = [-60]\n",
    "print(list(angles))\n",
    "titres_colonnes = np.append(angles, np.array(\"temoin\", dtype=object), axis=None)\n",
    "\n",
    "# Annual parameters\n",
    "###### # from light_sim.ipynb\n",
    "\n",
    "######\n",
    "# Settings, year and hours\n",
    "start_date = pd.Timestamp('2023-01-01')  # Start of the year (avoid leap year)\n",
    "\n",
    "input_path = \"bdd_irr/step5_semitransp_HBmethod.xlsx\"\n",
    "output_path = \"R_related/rapport_temoin_perso.csv\""
   ]
  },
  {
   "cell_type": "markdown",
   "metadata": {},
   "source": [
    "Import scenario :\n",
    "1 = True = Backtracking (productible max)\n",
    "0 = False = Effacement (irradiance au sol maximum)"
   ]
  },
  {
   "cell_type": "code",
   "execution_count": 90,
   "metadata": {},
   "outputs": [],
   "source": [
    "## TESTS ##\n",
    "# Instancier des objets scénarios\n",
    "s_10pc = Scenario(file_path=\"scenarios/sc_10%.xlsx\")\n",
    "s_full_BT = Scenario(file_path=\"scenarios/sc_full_BT.xlsx\")\n",
    "# print(s1.scenario[:,:])"
   ]
  },
  {
   "cell_type": "code",
   "execution_count": 91,
   "metadata": {},
   "outputs": [
    {
     "name": "stdout",
     "output_type": "stream",
     "text": [
      "[[1 1 1 1 1 1 1 1 1 1 1 1 1 1 1 1 1 1 1 1 1 1 1 1]\n",
      " [1 1 1 1 1 1 1 1 1 1 1 1 1 1 1 1 1 1 1 1 1 1 1 1]\n",
      " [1 1 1 1 1 1 1 1 1 1 1 1 1 1 1 1 1 1 1 1 1 1 1 1]\n",
      " [1 1 1 1 1 1 1 1 1 1 1 1 1 1 1 1 1 1 1 1 1 1 1 1]\n",
      " [1 1 1 1 1 1 1 1 1 1 1 0 0 0 0 0 0 0 1 1 1 1 1 1]\n",
      " [1 1 1 1 1 1 1 1 1 1 1 0 0 0 0 0 0 0 1 1 1 1 1 1]\n",
      " [1 1 1 1 1 1 1 1 1 1 1 0 0 1 1 1 0 0 1 1 1 1 1 1]\n",
      " [1 1 1 1 1 1 1 1 1 1 1 0 1 1 1 1 1 0 1 1 1 1 1 1]\n",
      " [1 1 1 1 1 1 1 1 1 1 1 0 1 1 1 1 1 0 1 1 1 1 1 1]\n",
      " [1 1 1 1 1 1 1 1 1 1 1 1 1 1 1 1 1 1 1 1 1 1 1 1]\n",
      " [1 1 1 1 1 1 1 1 1 1 1 1 1 1 1 1 1 1 1 1 1 1 1 1]\n",
      " [1 1 1 1 1 1 1 1 1 1 1 1 1 1 1 1 1 1 1 1 1 1 1 1]]\n"
     ]
    }
   ],
   "source": [
    "print(s_10pc)"
   ]
  },
  {
   "cell_type": "markdown",
   "metadata": {},
   "source": [
    "Import bdd_irr"
   ]
  },
  {
   "cell_type": "code",
   "execution_count": 92,
   "metadata": {},
   "outputs": [
    {
     "name": "stdout",
     "output_type": "stream",
     "text": [
      "  Month-Day-Hour  -60  -50  -40  -30  -20  -10  0  10  20  30  40  50  60  \\\n",
      "0       01-01-00    0    0    0    0    0    0  0   0   0   0   0   0   0   \n",
      "1       01-01-01    0    0    0    0    0    0  0   0   0   0   0   0   0   \n",
      "2       01-01-02    0    0    0    0    0    0  0   0   0   0   0   0   0   \n",
      "3       01-01-03    0    0    0    0    0    0  0   0   0   0   0   0   0   \n",
      "4       01-01-04    0    0    0    0    0    0  0   0   0   0   0   0   0   \n",
      "5       01-01-05    0    0    0    0    0    0  0   0   0   0   0   0   0   \n",
      "6       01-01-06    0    0    0    0    0    0  0   0   0   0   0   0   0   \n",
      "\n",
      "   temoin  \n",
      "0       0  \n",
      "1       0  \n",
      "2       0  \n",
      "3       0  \n",
      "4       0  \n",
      "5       0  \n",
      "6       0  \n"
     ]
    }
   ],
   "source": [
    "df3 = pd.read_excel(input_path)\n",
    "print(df3[0:24][:7])"
   ]
  },
  {
   "cell_type": "markdown",
   "metadata": {},
   "source": [
    "Création tab_1 : un tableau par scénario"
   ]
  },
  {
   "cell_type": "code",
   "execution_count": 93,
   "metadata": {},
   "outputs": [],
   "source": [
    "n_rows = 8760\n",
    "\n",
    "# Création d'un DataFrame avec des valeurs par défaut (par exemple, 0)\n",
    "tab_1 = pd.DataFrame({\n",
    "    'hoys': df3['Month-Day-Hour'],      #Hours of the Year\n",
    "    'effacement': np.ones(n_rows),      #Panel priority mode, 1 = priority to photovoltaic production, 0 = panel positionned to let through max light\n",
    "    'angle': np.zeros(n_rows),          #Angle of the panel\n",
    "    'irradiance_sol': np.zeros(n_rows)  #Quantity of radiation received on the ground\n",
    "})"
   ]
  },
  {
   "cell_type": "markdown",
   "metadata": {},
   "source": [
    "Import PVSyst"
   ]
  },
  {
   "cell_type": "code",
   "execution_count": 94,
   "metadata": {},
   "outputs": [],
   "source": [
    "# Chemin vers le fichier Excel\n",
    "file_path = 'DATA/pvsyst_file.xlsm'\n",
    "\n",
    "# Nom de l'onglet à lire\n",
    "sheet_names = ['Tests','Illim']\n",
    "\n",
    "# Lire l'onglet spécifique\n",
    "pvsyst = pd.read_excel(file_path, sheet_name=sheet_names)"
   ]
  },
  {
   "cell_type": "code",
   "execution_count": 95,
   "metadata": {},
   "outputs": [
    {
     "name": "stdout",
     "output_type": "stream",
     "text": [
      "                     Date  E_Grid PR PhiAng\n",
      "0     1990-01-01 00:00:00 -0.0132  0      0\n",
      "1     1990-01-01 01:00:00 -0.0132  0      0\n",
      "2     1990-01-01 02:00:00 -0.0132  0      0\n",
      "3     1990-01-01 03:00:00 -0.0132  0      0\n",
      "4     1990-01-01 04:00:00 -0.0132  0      0\n",
      "...                   ...     ... ..    ...\n",
      "8755  1990-12-31 19:00:00 -0.0132  0      0\n",
      "8756  1990-12-31 20:00:00 -0.0132  0      0\n",
      "8757  1990-12-31 21:00:00 -0.0132  0      0\n",
      "8758  1990-12-31 22:00:00 -0.0132  0      0\n",
      "8759  1990-12-31 23:00:00 -0.0132  0      0\n",
      "\n",
      "[8760 rows x 4 columns]\n"
     ]
    }
   ],
   "source": [
    "pvsyst_illim = pvsyst['Illim'].drop(index=list(range(12))).drop(columns=['Unnamed: 4', 'Unnamed: 5']).reset_index(drop=True)\n",
    "pvsyst_illim.columns = ['Date','E_Grid','PR','PhiAng']\n",
    "print(pvsyst_illim)"
   ]
  },
  {
   "cell_type": "code",
   "execution_count": 96,
   "metadata": {},
   "outputs": [
    {
     "name": "stdout",
     "output_type": "stream",
     "text": [
      "                     Date PhiAng E_Grid_SunTrack Egrid Effectif\n",
      "0     1990-01-01 00:00:00      0         -0.0132              1\n",
      "1     1990-01-01 01:00:00      0         -0.0132              1\n",
      "2     1990-01-01 02:00:00      0         -0.0132              1\n",
      "3     1990-01-01 03:00:00      0         -0.0132              1\n",
      "4     1990-01-01 04:00:00      0         -0.0132              1\n",
      "...                   ...    ...             ...            ...\n",
      "8755  1990-12-31 19:00:00      0         -0.0132             12\n",
      "8756  1990-12-31 20:00:00      0         -0.0132             12\n",
      "8757  1990-12-31 21:00:00      0         -0.0132             12\n",
      "8758  1990-12-31 22:00:00      0         -0.0132             12\n",
      "8759  1990-12-31 23:00:00      0         -0.0132             12\n",
      "\n",
      "[8760 rows x 4 columns]\n"
     ]
    }
   ],
   "source": [
    "pvsyst_tests = pvsyst['Tests'].drop(index=list(range(12))).drop(columns=pvsyst['Tests'].columns[4:]).reset_index(drop=True)\n",
    "pvsyst_tests.columns = ['Date', 'PhiAng', 'E_Grid_SunTrack', 'Egrid Effectif']\n",
    "print(pvsyst_tests)"
   ]
  },
  {
   "cell_type": "code",
   "execution_count": 97,
   "metadata": {},
   "outputs": [
    {
     "name": "stdout",
     "output_type": "stream",
     "text": [
      "       hoys  effacement  angle  irradiance_sol\n",
      "0  01-01-00         1.0    0.0             0.0\n",
      "1  01-01-01         1.0    0.0             0.0\n",
      "2  01-01-02         1.0    0.0             0.0\n",
      "3  01-01-03         1.0    0.0             0.0\n",
      "4  01-01-04         1.0    0.0             0.0\n"
     ]
    },
    {
     "data": {
      "text/plain": [
       "'01-01-01'"
      ]
     },
     "execution_count": 97,
     "metadata": {},
     "output_type": "execute_result"
    }
   ],
   "source": [
    "print(tab_1.head())\n",
    "tab_1.iloc[1,0]"
   ]
  },
  {
   "cell_type": "markdown",
   "metadata": {},
   "source": [
    "Remplir le tab_1 :"
   ]
  },
  {
   "cell_type": "code",
   "execution_count": 98,
   "metadata": {},
   "outputs": [],
   "source": [
    "# Remplissage de la colonne 'effacement'\n",
    "# Parcourir scénario, pour chaque case 0 (False), changer les 1 (panneaux en suntracking) de la colonne 'effacement' en 0 (panneaux effacés)\n",
    "\n",
    "for i in range(s_10pc.scenario.shape[0]) :  # Pour chaque ligne\n",
    "    for j in range(s_10pc.scenario.shape[1]) :  # Pour chaque colonne\n",
    "        if s_10pc.scenario[i,j] == False :\n",
    "            tab_1.loc[(tab_1['hoys'].str.slice(6, 8) == f'{j:02d}') & (tab_1['hoys'].str.slice(0, 2) == f'{i+1:02d}'), 'effacement'] = 0"
   ]
  },
  {
   "cell_type": "code",
   "execution_count": 99,
   "metadata": {},
   "outputs": [],
   "source": [
    "# Remplissage de la colonne 'angle'\n",
    "# Parcourir tableau_1, en fonction de 'effacement', remplir 'angle' et 'irradiance'\n",
    "for i in range(tab_1.shape[0]) :\n",
    "    if tab_1.at[i,'effacement'] == 0:\n",
    "        #aller chercher irradiance au sol maximum dans tab_final (df3 dans ce .ipynb), et retrouver l'angle correspondant (nom de colonne)\n",
    "        tab_1.loc[i,'irradiance_sol'] = df3.drop(columns=['Month-Day-Hour','temoin']).iloc[i].max() # Irradiance max\n",
    "        tab_1.loc[i,'angle'] = df3.drop(columns=['Month-Day-Hour','temoin']).iloc[i].idxmax() # Colonne dont l'irradiance est max\n",
    "        # /!\\ Si égalité entre plusieurs angles, va choisir l'angle le moins élevé (-60 à priori)\n",
    "    else: #'effacement' == 1\n",
    "        # pvsyst_illim.loc[...] = angle PVSYST optimal, arrondir, puis trouver irradiance au sol correspondante\n",
    "        tab_1.loc[i,'irradiance_sol'] = df3.at[i,str(round(pvsyst_illim.loc[i,'PhiAng']/step_angle)*step_angle)]\n",
    "        tab_1.loc[i,'angle'] = round(pvsyst_illim.loc[i,'PhiAng']/step_angle)*step_angle\n",
    "\n",
    "# Add control values to tab_1 :\n",
    "\n",
    "tab_1['temoin'] = df3.loc[:,'temoin']\n",
    "  "
   ]
  },
  {
   "cell_type": "code",
   "execution_count": 100,
   "metadata": {},
   "outputs": [
    {
     "data": {
      "text/html": [
       "<div>\n",
       "<style scoped>\n",
       "    .dataframe tbody tr th:only-of-type {\n",
       "        vertical-align: middle;\n",
       "    }\n",
       "\n",
       "    .dataframe tbody tr th {\n",
       "        vertical-align: top;\n",
       "    }\n",
       "\n",
       "    .dataframe thead th {\n",
       "        text-align: right;\n",
       "    }\n",
       "</style>\n",
       "<table border=\"1\" class=\"dataframe\">\n",
       "  <thead>\n",
       "    <tr style=\"text-align: right;\">\n",
       "      <th></th>\n",
       "      <th>hoys</th>\n",
       "      <th>effacement</th>\n",
       "      <th>angle</th>\n",
       "      <th>irradiance_sol</th>\n",
       "      <th>temoin</th>\n",
       "    </tr>\n",
       "  </thead>\n",
       "  <tbody>\n",
       "    <tr>\n",
       "      <th>0</th>\n",
       "      <td>01-01-00</td>\n",
       "      <td>1.0</td>\n",
       "      <td>0.0</td>\n",
       "      <td>0.0</td>\n",
       "      <td>0</td>\n",
       "    </tr>\n",
       "    <tr>\n",
       "      <th>1</th>\n",
       "      <td>01-01-01</td>\n",
       "      <td>1.0</td>\n",
       "      <td>0.0</td>\n",
       "      <td>0.0</td>\n",
       "      <td>0</td>\n",
       "    </tr>\n",
       "    <tr>\n",
       "      <th>2</th>\n",
       "      <td>01-01-02</td>\n",
       "      <td>1.0</td>\n",
       "      <td>0.0</td>\n",
       "      <td>0.0</td>\n",
       "      <td>0</td>\n",
       "    </tr>\n",
       "    <tr>\n",
       "      <th>3</th>\n",
       "      <td>01-01-03</td>\n",
       "      <td>1.0</td>\n",
       "      <td>0.0</td>\n",
       "      <td>0.0</td>\n",
       "      <td>0</td>\n",
       "    </tr>\n",
       "    <tr>\n",
       "      <th>4</th>\n",
       "      <td>01-01-04</td>\n",
       "      <td>1.0</td>\n",
       "      <td>0.0</td>\n",
       "      <td>0.0</td>\n",
       "      <td>0</td>\n",
       "    </tr>\n",
       "    <tr>\n",
       "      <th>...</th>\n",
       "      <td>...</td>\n",
       "      <td>...</td>\n",
       "      <td>...</td>\n",
       "      <td>...</td>\n",
       "      <td>...</td>\n",
       "    </tr>\n",
       "    <tr>\n",
       "      <th>8755</th>\n",
       "      <td>12-31-19</td>\n",
       "      <td>1.0</td>\n",
       "      <td>0</td>\n",
       "      <td>0.0</td>\n",
       "      <td>0</td>\n",
       "    </tr>\n",
       "    <tr>\n",
       "      <th>8756</th>\n",
       "      <td>12-31-20</td>\n",
       "      <td>1.0</td>\n",
       "      <td>0</td>\n",
       "      <td>0.0</td>\n",
       "      <td>0</td>\n",
       "    </tr>\n",
       "    <tr>\n",
       "      <th>8757</th>\n",
       "      <td>12-31-21</td>\n",
       "      <td>1.0</td>\n",
       "      <td>0</td>\n",
       "      <td>0.0</td>\n",
       "      <td>0</td>\n",
       "    </tr>\n",
       "    <tr>\n",
       "      <th>8758</th>\n",
       "      <td>12-31-22</td>\n",
       "      <td>1.0</td>\n",
       "      <td>0</td>\n",
       "      <td>0.0</td>\n",
       "      <td>0</td>\n",
       "    </tr>\n",
       "    <tr>\n",
       "      <th>8759</th>\n",
       "      <td>12-31-23</td>\n",
       "      <td>1.0</td>\n",
       "      <td>0</td>\n",
       "      <td>0.0</td>\n",
       "      <td>0</td>\n",
       "    </tr>\n",
       "  </tbody>\n",
       "</table>\n",
       "<p>8760 rows × 5 columns</p>\n",
       "</div>"
      ],
      "text/plain": [
       "          hoys  effacement angle  irradiance_sol  temoin\n",
       "0     01-01-00         1.0   0.0             0.0       0\n",
       "1     01-01-01         1.0   0.0             0.0       0\n",
       "2     01-01-02         1.0   0.0             0.0       0\n",
       "3     01-01-03         1.0   0.0             0.0       0\n",
       "4     01-01-04         1.0   0.0             0.0       0\n",
       "...        ...         ...   ...             ...     ...\n",
       "8755  12-31-19         1.0     0             0.0       0\n",
       "8756  12-31-20         1.0     0             0.0       0\n",
       "8757  12-31-21         1.0     0             0.0       0\n",
       "8758  12-31-22         1.0     0             0.0       0\n",
       "8759  12-31-23         1.0     0             0.0       0\n",
       "\n",
       "[8760 rows x 5 columns]"
      ]
     },
     "execution_count": 100,
     "metadata": {},
     "output_type": "execute_result"
    }
   ],
   "source": [
    "tab_1.to_excel(\"step5_semitransp_10%.xlsx\", index=False, header=True)\n",
    "tab_1"
   ]
  },
  {
   "cell_type": "markdown",
   "metadata": {},
   "source": [
    "Calcul liste de taille 365 concernant rapport de irradiance_zone_témoin sur irradiance_zone_étude"
   ]
  },
  {
   "cell_type": "code",
   "execution_count": 4,
   "metadata": {},
   "outputs": [
    {
     "name": "stdout",
     "output_type": "stream",
     "text": [
      "Index(['hoys', 'effacement', 'angle', 'irradiance_sol', 'temoin', 'Date'], dtype='object')\n",
      "          hoys  effacement  angle  irradiance_sol  temoin   Date\n",
      "0     01-01-00           1      0               0       0  01-01\n",
      "1     01-01-01           1      0               0       0  01-01\n",
      "2     01-01-02           1      0               0       0  01-01\n",
      "3     01-01-03           1      0               0       0  01-01\n",
      "4     01-01-04           1      0               0       0  01-01\n",
      "...        ...         ...    ...             ...     ...    ...\n",
      "8755  12-31-19           1      0               0       0  12-31\n",
      "8756  12-31-20           1      0               0       0  12-31\n",
      "8757  12-31-21           1      0               0       0  12-31\n",
      "8758  12-31-22           1      0               0       0  12-31\n",
      "8759  12-31-23           1      0               0       0  12-31\n",
      "\n",
      "[8760 rows x 6 columns]\n"
     ]
    }
   ],
   "source": [
    "# Chargement des données\n",
    "file_path_new = 'step5_semitransp_10%.xlsx'\n",
    "df_new = pd.read_excel(file_path_new)\n",
    "\n",
    "# Extraction de la date à partir de la colonne 'hoys'\n",
    "df_new['Date'] = df_new['hoys'].str[:5]\n",
    "print(df_new.columns)\n",
    "print(df_new)\n",
    "# Agrégation journalière par sommation des colonnes 'irradiance_sol' et 'temoin'\n",
    "daily_sum = df_new.groupby('Date')[['irradiance_sol', 'temoin']].sum().reset_index()\n",
    "\n",
    "# Calcul des rapports journaliers\n",
    "daily_sum['ratio'] = daily_sum['irradiance_sol'] / daily_sum['temoin']\n",
    "daily_sum['ratio'] = daily_sum['ratio'].apply(lambda x: min(x, 1))\n",
    "\n",
    "daily_sum['ratio'].to_csv(\"ratio.csv\",index=False,header=False)"
   ]
  }
 ],
 "metadata": {
  "kernelspec": {
   "display_name": "TSAgriPV-XqNYGekU",
   "language": "python",
   "name": "python3"
  },
  "language_info": {
   "codemirror_mode": {
    "name": "ipython",
    "version": 3
   },
   "file_extension": ".py",
   "mimetype": "text/x-python",
   "name": "python",
   "nbconvert_exporter": "python",
   "pygments_lexer": "ipython3",
   "version": "3.7.9"
  }
 },
 "nbformat": 4,
 "nbformat_minor": 2
}
