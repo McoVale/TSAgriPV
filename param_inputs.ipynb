{
 "cells": [
  {
   "cell_type": "code",
   "execution_count": 2,
   "metadata": {},
   "outputs": [],
   "source": [
    "import pandas as pd\n",
    "from datetime import datetime, timedelta"
   ]
  },
  {
   "cell_type": "code",
   "execution_count": 3,
   "metadata": {},
   "outputs": [],
   "source": [
    "inputs_path = \"inputs.xlsx\""
   ]
  },
  {
   "cell_type": "code",
   "execution_count": 5,
   "metadata": {},
   "outputs": [
    {
     "data": {
      "text/html": [
       "<div>\n",
       "<style scoped>\n",
       "    .dataframe tbody tr th:only-of-type {\n",
       "        vertical-align: middle;\n",
       "    }\n",
       "\n",
       "    .dataframe tbody tr th {\n",
       "        vertical-align: top;\n",
       "    }\n",
       "\n",
       "    .dataframe thead th {\n",
       "        text-align: right;\n",
       "    }\n",
       "</style>\n",
       "<table border=\"1\" class=\"dataframe\">\n",
       "  <thead>\n",
       "    <tr style=\"text-align: right;\">\n",
       "      <th></th>\n",
       "      <th>Valeur :</th>\n",
       "      <th>Explications :</th>\n",
       "    </tr>\n",
       "  </thead>\n",
       "  <tbody>\n",
       "    <tr>\n",
       "      <th>0</th>\n",
       "      <td>2.500</td>\n",
       "      <td>Distance entre deux rangs de panneaux (E-O)</td>\n",
       "    </tr>\n",
       "    <tr>\n",
       "      <th>1</th>\n",
       "      <td>3.000</td>\n",
       "      <td>Hauteur de l'axe de rotation des rangs de pann...</td>\n",
       "    </tr>\n",
       "    <tr>\n",
       "      <th>2</th>\n",
       "      <td>1.135</td>\n",
       "      <td>Largeur des panneaux (E-O)</td>\n",
       "    </tr>\n",
       "    <tr>\n",
       "      <th>3</th>\n",
       "      <td>13.000</td>\n",
       "      <td>Différence entre l'axe des supports de panneau...</td>\n",
       "    </tr>\n",
       "    <tr>\n",
       "      <th>4</th>\n",
       "      <td>2023.000</td>\n",
       "      <td>Année d'étude (éviter les années bissextiles, ...</td>\n",
       "    </tr>\n",
       "    <tr>\n",
       "      <th>5</th>\n",
       "      <td>6.000</td>\n",
       "      <td>A partir de quelle heure on modélise la lumièr...</td>\n",
       "    </tr>\n",
       "    <tr>\n",
       "      <th>6</th>\n",
       "      <td>22.000</td>\n",
       "      <td>Jusqu'à quelle heure on modélise la lumière (l...</td>\n",
       "    </tr>\n",
       "  </tbody>\n",
       "</table>\n",
       "</div>"
      ],
      "text/plain": [
       "   Valeur :                                     Explications :\n",
       "0     2.500        Distance entre deux rangs de panneaux (E-O)\n",
       "1     3.000  Hauteur de l'axe de rotation des rangs de pann...\n",
       "2     1.135                         Largeur des panneaux (E-O)\n",
       "3    13.000  Différence entre l'axe des supports de panneau...\n",
       "4  2023.000  Année d'étude (éviter les années bissextiles, ...\n",
       "5     6.000  A partir de quelle heure on modélise la lumièr...\n",
       "6    22.000  Jusqu'à quelle heure on modélise la lumière (l..."
      ]
     },
     "execution_count": 5,
     "metadata": {},
     "output_type": "execute_result"
    }
   ],
   "source": [
    "params = pd.read_excel(inputs_path,skiprows=5,usecols='B,C')\n",
    "\n",
    "data_dict = pd.Series(params.iloc[:, 0].values, index=params.iloc[:, 1]).to_dict()\n",
    "params"
   ]
  },
  {
   "cell_type": "code",
   "execution_count": 4,
   "metadata": {},
   "outputs": [],
   "source": [
    "# Paramètres de configuration de la géométrie\n",
    "######\n",
    "GRID_SIZE = 50 # Taille du champ de panneau pour la simulation\n",
    "ENTRAXE = params.loc[0] # Espacement entre lignes de panneaux (= inter-rang)\n",
    "HAUTEUR = params.loc[1] # [0 ; 100] ; mètres ; hauter de l'axe de rotation, ou du point du PVP le plus bas.\n",
    "RAMPANT = params.loc[2] # Largeur du panneau\n",
    "NB_RANGS = 10 # Nombre de panneaux par ligne\n",
    "NB_PVP_RANGS = int(GRID_SIZE / ENTRAXE) # Nombre de lignes\n",
    "LONGUEUR_PVP = GRID_SIZE / (NB_RANGS) # Longueur des panneaux dans une même ligne\n",
    "\n",
    "column_spacing = ENTRAXE # Espacement entre lignes de panneaux (= inter-rang)\n",
    "row_spacing = GRID_SIZE / NB_RANGS # Espacement entre panneaux d'une même ligne (même support)\n",
    "\n",
    "ANGLE_ORIENTATION = int(params.loc[3])  # Rotation globale autour de l'axe Z (Orientation parcelle)\n",
    "# ANGLE_VARIABLE = -30  # Angle de rotation individuelle autour de l'axe X\n",
    "\n",
    "# Paramètres annuels\n",
    "######\n",
    "start_date = datetime(year=int(params.loc[4]), month=1, day=1, hour=6)  # Début de l'année (éviter les années bissextiles)\n",
    "end_date = datetime(year=int(params.loc[4])+1, month=1, day=1, hour=6)  # Fin de l'année (début de l'année suivante)\n",
    "\n",
    "# Paramètres horaires\n",
    "######\n",
    "if params.loc[5] is not None:\n",
    "    HEURE_DEB = int(params.loc[5])\n",
    "else : \n",
    "    HEURE_DEB = 6\n",
    "if params.loc[6] is not None:\n",
    "    HEURE_FIN = int(params.loc[6])\n",
    "else :\n",
    "    HEURE_FIN = 22\n",
    "NB_HEURES_ANNEES = (HEURE_FIN-HEURE_DEB)*(end_date-start_date).days\n",
    "\n",
    "# Paramètres radiance\n",
    "#####\n",
    "HAUTEUR_MESURE = 0.5 # Hauteur de mesure dans IncidentRadiation\n",
    "FINESSE = 1 # Finesse de la fonction IncidentRadiation (1 = peu précis, 0 = très précis) "
   ]
  }
 ],
 "metadata": {
  "kernelspec": {
   "display_name": "TSAgriPV-XqNYGekU",
   "language": "python",
   "name": "python3"
  },
  "language_info": {
   "codemirror_mode": {
    "name": "ipython",
    "version": 3
   },
   "file_extension": ".py",
   "mimetype": "text/x-python",
   "name": "python",
   "nbconvert_exporter": "python",
   "pygments_lexer": "ipython3",
   "version": "3.7.9"
  }
 },
 "nbformat": 4,
 "nbformat_minor": 2
}
