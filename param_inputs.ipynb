{
 "cells": [
  {
   "cell_type": "code",
   "execution_count": 5,
   "metadata": {},
   "outputs": [],
   "source": [
    "import pandas as pd\n",
    "from datetime import datetime, timedelta"
   ]
  },
  {
   "cell_type": "code",
   "execution_count": 6,
   "metadata": {},
   "outputs": [],
   "source": [
    "inputs_path = \"inputs.xlsx\""
   ]
  },
  {
   "cell_type": "code",
   "execution_count": 7,
   "metadata": {},
   "outputs": [
    {
     "data": {
      "text/plain": [
       "{'ENTRAXE': 2.5,\n",
       " 'HAUTEUR': 3,\n",
       " 'RAMPANT': 1.135,\n",
       " 'TYPE_PANEL': 'False',\n",
       " 'LARGEUR_BANDE': 0.18,\n",
       " 'NB_BANDES': 4,\n",
       " 'ANGLE_ORIENTATION': 13,\n",
       " 'start_date': 2023,\n",
       " 'HEURE_DEB': 6,\n",
       " 'HEURE_FIN': 22,\n",
       " 'TYPE_CULT': 1,\n",
       " 'FINESSE': 1}"
      ]
     },
     "execution_count": 7,
     "metadata": {},
     "output_type": "execute_result"
    }
   ],
   "source": [
    "params = pd.read_excel(inputs_path,skiprows=5,usecols='B,C')\n",
    "\n",
    "d = pd.Series(params.iloc[:, 0].values, index=params.iloc[:, 1]).to_dict()\n",
    "d"
   ]
  },
  {
   "cell_type": "code",
   "execution_count": 8,
   "metadata": {},
   "outputs": [],
   "source": [
    "# Paramètres de configuration de la géométrie\n",
    "######\n",
    "GRID_SIZE = 50 # Taille du champ de panneau pour la simulation\n",
    "ENTRAXE = d.get('ENTRAXE') # Espacement entre lignes de panneaux (= inter-rang)\n",
    "HAUTEUR = d.get('HAUTEUR') # [0 ; 100] ; mètres ; hauter de l'axe de rotation, ou du point du PVP le plus bas.\n",
    "RAMPANT = d.get('RAMPANT') # Largeur du panneau\n",
    "NB_RANGS = 10 # Nombre de panneaux par ligne\n",
    "NB_PVP_RANGS = int(GRID_SIZE / ENTRAXE) # Nombre de lignes\n",
    "LONGUEUR_PVP = GRID_SIZE / (NB_RANGS) # Longueur des panneaux dans une même ligne\n",
    "\n",
    "column_spacing = ENTRAXE # Espacement entre lignes de panneaux (= inter-rang)\n",
    "row_spacing = GRID_SIZE / NB_RANGS # Espacement entre panneaux d'une même ligne (même support)\n",
    "\n",
    "TYPE_PANEL = bool(d.get('TYPE_PANEL'))\n",
    "LARGEUR_BANDE = d.get('LARGEUR_BANDE')\n",
    "NB_BANDES = int(d.get('NB_BANDES'))\n",
    "\n",
    "ANGLE_ORIENTATION = d.get('ANGLE_ORIENTATION')  # Rotation globale autour de l'axe Z (Orientation parcelle)\n",
    "\n",
    "# Paramètres annuels\n",
    "######\n",
    "start_date = datetime(year=int(d.get('start_date')), month=1, day=1, hour=6)  # Début de l'année (éviter les années bissextiles)\n",
    "end_date = datetime(year=int(d.get('start_date'))+1, month=1, day=1, hour=6)  # Fin de l'année (début de l'année suivante)\n",
    "\n",
    "# Paramètres horaires\n",
    "######\n",
    "if d.get('HEURE_DEB') is not None:\n",
    "    HEURE_DEB = int(d.get('HEURE_DEB'))\n",
    "else : \n",
    "    HEURE_DEB = 6\n",
    "if d.get('HEURE_FIN') is not None:\n",
    "    HEURE_FIN = int(d.get('HEURE_FIN'))\n",
    "else :\n",
    "    HEURE_FIN = 22\n",
    "NB_HEURES_ANNEES = (HEURE_FIN-HEURE_DEB)*(end_date-start_date).days\n",
    "\n",
    "# Paramètres radiance\n",
    "#####\n",
    "TYPE_CULT = d.get('TYPE_CULT')\n",
    "if TYPE_CULT == 1 : #Vine\n",
    "    HAUTEUR_MESURE = 1 # Hauteur de mesure dans IncidentRadiation, en m\n",
    "elif TYPE_CULT == 2 : #Arboriculture\n",
    "    HAUTEUR_MESURE = 2,5 # Hauteur de mesure dans IncidentRadiation, en m\n",
    "elif TYPE_CULT == 3 : #Field Crop\n",
    "    HAUTEUR_MESURE = 0.5\n",
    "\n",
    "FINESSE = d.get('FINESSE') # Finesse de la fonction IncidentRadiation (1 = peu précis, 0 = très précis) "
   ]
  }
 ],
 "metadata": {
  "kernelspec": {
   "display_name": "TSAgriPV-XqNYGekU",
   "language": "python",
   "name": "python3"
  },
  "language_info": {
   "codemirror_mode": {
    "name": "ipython",
    "version": 3
   },
   "file_extension": ".py",
   "mimetype": "text/x-python",
   "name": "python",
   "nbconvert_exporter": "python",
   "pygments_lexer": "ipython3",
   "version": "3.7.9"
  }
 },
 "nbformat": 4,
 "nbformat_minor": 2
}
