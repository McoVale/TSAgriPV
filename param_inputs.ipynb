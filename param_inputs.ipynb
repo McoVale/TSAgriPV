{
 "cells": [
  {
   "cell_type": "code",
   "execution_count": 367,
   "metadata": {},
   "outputs": [
    {
     "name": "stdout",
     "output_type": "stream",
     "text": [
      "R is installed at: C:\\Users\\maceo.valente\\AppData\\Local\\Programs\\R\\R-4.3.2\n"
     ]
    }
   ],
   "source": [
    "import os\n",
    "import numpy as np\n",
    "import pandas as pd\n",
    "\n",
    "def find_r_installation():\n",
    "    possible_paths = []\n",
    "\n",
    "    # Add standard paths for Windows\n",
    "    if os.getenv('ProgramFiles'):\n",
    "        possible_paths.append(os.path.join(os.getenv('ProgramFiles'), 'R'))\n",
    "    if os.getenv('ProgramFiles(x86)'):\n",
    "        possible_paths.append(os.path.join(os.getenv('ProgramFiles(x86)'), 'R'))\n",
    "    if os.getenv('LOCALAPPDATA'):\n",
    "        possible_paths.append(os.path.join(os.getenv('LOCALAPPDATA'), 'Programs', 'R'))\n",
    "    \n",
    "    # Add standard path for Unix-like systems\n",
    "    if os.getenv('HOME'):\n",
    "        possible_paths.append(os.path.join(os.getenv('HOME'), 'R'))\n",
    "\n",
    "    for path in possible_paths:\n",
    "        if os.path.exists(path):\n",
    "            for root, dirs, files in os.walk(path):\n",
    "                if 'bin' in dirs:\n",
    "                    if 'R.exe' in os.listdir(os.path.join(root, 'bin')):  # Check specifically for Windows\n",
    "                        return os.path.join(root)\n",
    "                    if 'R' in os.listdir(os.path.join(root, 'bin')):  # Check for Unix-like systems\n",
    "                        return os.path.join(root)\n",
    "\n",
    "    return None\n",
    "\n",
    "r_path = find_r_installation()\n",
    "if r_path:\n",
    "    print(f\"R is installed at: {r_path}\")\n",
    "else:\n",
    "    print(\"R installation not found.\")\n",
    "\n",
    "os.environ['R_HOME'] = r_path"
   ]
  },
  {
   "cell_type": "code",
   "execution_count": 368,
   "metadata": {},
   "outputs": [
    {
     "data": {
      "text/html": [
       "\n",
       "        <span>ListVector with 2 elements.</span>\n",
       "        <table>\n",
       "        <tbody>\n",
       "        \n",
       "          <tr>\n",
       "            <th>\n",
       "            value\n",
       "            </th>\n",
       "            <td>\n",
       "            <rpy2.rinterface.SexpClosure object at 0x000001A6D5612B88> [RTYPES.CLOSXP]\n",
       "            </td>\n",
       "          </tr>\n",
       "        \n",
       "          <tr>\n",
       "            <th>\n",
       "            visible\n",
       "            </th>\n",
       "            <td>\n",
       "            <rpy2.rinterface.BoolSexpVector object at 0x000001A6D5612E88> [RTYPES.LGLSXP]\n",
       "            </td>\n",
       "          </tr>\n",
       "        \n",
       "        </tbody>\n",
       "        </table>\n",
       "        "
      ],
      "text/plain": [
       "<rpy2.robjects.vectors.ListVector object at 0x000001A6D5612808> [RTYPES.VECSXP]\n",
       "R classes: ('list',)\n",
       "[SexpClosure, BoolSexpVector]\n",
       "  value: <class 'rpy2.rinterface.SexpClosure'>\n",
       "  <rpy2.rinterface.SexpClosure object at 0x000001A6D5612408> [RTYPES.CLOSXP]\n",
       "  visible: <class 'rpy2.rinterface.BoolSexpVector'>\n",
       "  <rpy2.rinterface.BoolSexpVector object at 0x000001A6D5612DC8> [RTYPES.LGLSXP]"
      ]
     },
     "execution_count": 368,
     "metadata": {},
     "output_type": "execute_result"
    }
   ],
   "source": [
    "import rpy2.robjects as ro\n",
    "from rpy2.robjects import pandas2ri\n",
    "from rpy2.robjects.packages import importr\n",
    "from rpy2.robjects import r\n",
    "from rpy2.robjects.vectors import StrVector, ListVector, IntVector, FloatVector\n",
    "\n",
    "import ast\n",
    "\n",
    "r.source(\"R_related/Rfunctions.R\")"
   ]
  },
  {
   "cell_type": "code",
   "execution_count": 369,
   "metadata": {},
   "outputs": [],
   "source": [
    "inputs_path = \"inputs.xlsx\""
   ]
  },
  {
   "cell_type": "code",
   "execution_count": 370,
   "metadata": {},
   "outputs": [],
   "source": [
    "# Lire le fichier Excel\n",
    "df = pd.read_excel(inputs_path, usecols=[1,2], skiprows=5)\n",
    "df.columns = ['Valeur', 'Cle']\n"
   ]
  },
  {
   "cell_type": "code",
   "execution_count": 371,
   "metadata": {},
   "outputs": [
    {
     "name": "stdout",
     "output_type": "stream",
     "text": [
      "                Valeur                   Cle\n",
      "0                 2.25            PY_ENTRAXE\n",
      "1                    6            PY_HAUTEUR\n",
      "2                1.135            PY_RAMPANT\n",
      "3                False         PY_TYPE_PANEL\n",
      "4                 0.18      PY_LARGEUR_BANDE\n",
      "5                    4          PY_NB_BANDES\n",
      "6                   13  PY_ANGLE_ORIENTATION\n",
      "7                    1          PY_TYPE_CULT\n",
      "8                    1            PY_FINESSE\n",
      "9                10000             PY_KEYKEY\n",
      "10                 gre             PY_cepage\n",
      "11                35.8            SOILS_calc\n",
      "12                0.15            SOILS_norg\n",
      "13                  22            SOILS_argi\n",
      "14                  35         SOILS_profhum\n",
      "15                  10        SOILS_CsurNsol\n",
      "16                 8.2              SOILS_pH\n",
      "17       [10, 40, 150]             SOILS_epc\n",
      "18  [30,6 , 26 , 26,7]            SOILS_HCCF\n",
      "19    [17.4,17.4,16.8]           SOILS_hminf\n",
      "20     [1.5,1.45,1.45]             SOILS_DAF\n",
      "21    [10.1,10.4,10.4]        SOILS_cailloux\n",
      "22         [7,0,0,0,0]          INITS_Hinitf\n",
      "23             [4,3,2]     INITS_densinitial\n",
      "24         [0,0,0,0,0]        INITS_NO3initf\n",
      "25         [0,0,0,0,0]        INITS_NH4initf\n"
     ]
    }
   ],
   "source": [
    "print(df)"
   ]
  },
  {
   "cell_type": "code",
   "execution_count": 372,
   "metadata": {},
   "outputs": [
    {
     "name": "stdout",
     "output_type": "stream",
     "text": [
      "0\n",
      "PY_ENTRAXE value : 2.25\n",
      "1\n",
      "PY_HAUTEUR value : 6\n",
      "2\n",
      "PY_RAMPANT value : 1.135\n",
      "3\n",
      "PY_TYPE_PANEL value : False\n",
      "4\n",
      "PY_LARGEUR_BANDE value : 0.18\n",
      "5\n",
      "PY_NB_BANDES value : 4\n",
      "6\n",
      "PY_ANGLE_ORIENTATION value : 13\n",
      "7\n",
      "PY_TYPE_CULT value : 1\n",
      "8\n",
      "PY_FINESSE value : 1\n",
      "9\n",
      "PY_KEYKEY value : 10000\n",
      "10\n",
      "PY_cepage value : gre\n",
      "11\n",
      "SOILS_calc value : 35.8\n",
      "12\n",
      "SOILS_norg value : 0.15\n",
      "13\n",
      "SOILS_argi value : 22\n",
      "14\n",
      "SOILS_profhum value : 35\n",
      "15\n",
      "SOILS_CsurNsol value : 10\n",
      "16\n",
      "SOILS_pH value : 8.2\n",
      "17\n",
      "SOILS_epc value : [10, 40, 150]\n",
      "18\n",
      "SOILS_HCCF value : [30, 6, 26, 26, 7]\n",
      "19\n",
      "SOILS_hminf value : [17.4, 17.4, 16.8]\n",
      "20\n",
      "SOILS_DAF value : [1.5, 1.45, 1.45]\n",
      "21\n",
      "SOILS_cailloux value : [10.1, 10.4, 10.4]\n",
      "22\n",
      "INITS_Hinitf value : [7, 0, 0, 0, 0]\n",
      "23\n",
      "INITS_densinitial value : [4, 3, 2]\n",
      "24\n",
      "INITS_NO3initf value : [0, 0, 0, 0, 0]\n",
      "25\n",
      "INITS_NH4initf value : [0, 0, 0, 0, 0]\n",
      "{'PY_ENTRAXE': 2.25, 'PY_HAUTEUR': 6, 'PY_RAMPANT': 1.135, 'PY_TYPE_PANEL': 'False', 'PY_LARGEUR_BANDE': 0.18, 'PY_NB_BANDES': 4, 'PY_ANGLE_ORIENTATION': 13, 'PY_TYPE_CULT': 1, 'PY_FINESSE': 1, 'PY_KEYKEY': 10000, 'PY_cepage': 'gre', 'SOILS_calc': 35.8, 'SOILS_norg': 0.15, 'SOILS_argi': 22, 'SOILS_profhum': 35, 'SOILS_CsurNsol': 10, 'SOILS_pH': 8.2, 'SOILS_epc': [10, 40, 150], 'SOILS_HCCF': [30, 6, 26, 26, 7], 'SOILS_hminf': [17.4, 17.4, 16.8], 'SOILS_DAF': [1.5, 1.45, 1.45], 'SOILS_cailloux': [10.1, 10.4, 10.4], 'INITS_Hinitf': [7, 0, 0, 0, 0], 'INITS_densinitial': [4, 3, 2], 'INITS_NO3initf': [0, 0, 0, 0, 0], 'INITS_NH4initf': [0, 0, 0, 0, 0]}\n"
     ]
    }
   ],
   "source": [
    "# Initialiser un dictionnaire vide\n",
    "result_dict = {}\n",
    "\n",
    "# Parcourir les lignes du dataframe et remplir le dictionnaire\n",
    "for index, row in df.iterrows():\n",
    "    key = row['Cle']\n",
    "    value = row['Valeur']\n",
    "    \n",
    "    # Si la valeur est une chaîne de caractères représentant une liste\n",
    "    if isinstance(value, str) and value.startswith('[') and value.endswith(']'):\n",
    "        value = ast.literal_eval(value)\n",
    "    \n",
    "    result_dict[key] = value\n",
    "    print(index)\n",
    "    print(key, 'value :', value)\n",
    "print(result_dict)"
   ]
  },
  {
   "cell_type": "code",
   "execution_count": 373,
   "metadata": {},
   "outputs": [
    {
     "data": {
      "text/plain": [
       "[10, 40, 150]"
      ]
     },
     "execution_count": 373,
     "metadata": {},
     "output_type": "execute_result"
    }
   ],
   "source": [
    "(result_dict['SOILS_epc'])"
   ]
  },
  {
   "cell_type": "code",
   "execution_count": 374,
   "metadata": {},
   "outputs": [],
   "source": [
    "r_settings = ro.globalenv['settings']\n",
    "\n",
    "r_change_setting = ro.globalenv['change_setting']\n",
    "\n",
    "#from rpy2.robjects.vectors import StrVector, ListVector, IntVector, FloatVector"
   ]
  },
  {
   "cell_type": "code",
   "execution_count": 375,
   "metadata": {},
   "outputs": [
    {
     "name": "stdout",
     "output_type": "stream",
     "text": [
      "PY_ENTRAXE 2.25\n",
      "PY_HAUTEUR 6\n",
      "PY_RAMPANT 1.135\n",
      "PY_TYPE_PANEL False\n",
      "PY_LARGEUR_BANDE 0.18\n",
      "PY_NB_BANDES 4\n",
      "PY_ANGLE_ORIENTATION 13\n",
      "PY_TYPE_CULT 1\n",
      "PY_FINESSE 1\n",
      "PY_KEYKEY 10000\n",
      "PY_cepage gre\n",
      "SOILS_calc 35.8\n",
      "PY ; xmlfile : sols.xml\n",
      "[1] \"R :\"\n",
      "[1] \"xmlfile : R_related\\\\Rproject\\\\sols.xml\"\n",
      "[1] \"name : calc\"\n",
      "[1] \"value : 35.8\"\n",
      "[1] \"val_id : \"\n",
      "SOILS_norg 0.15\n",
      "PY ; xmlfile : sols.xml\n",
      "[1] \"R :\"\n",
      "[1] \"xmlfile : R_related\\\\Rproject\\\\sols.xml\"\n",
      "[1] \"name : norg\"\n",
      "[1] \"value : 0.15\"\n",
      "[1] \"val_id : \"\n",
      "SOILS_argi 22\n",
      "PY ; xmlfile : sols.xml\n",
      "[1] \"R :\"\n",
      "[1] \"xmlfile : R_related\\\\Rproject\\\\sols.xml\"\n",
      "[1] \"name : argi\"\n",
      "[1] \"value : 22\"\n",
      "[1] \"val_id : \"\n",
      "SOILS_profhum 35\n",
      "PY ; xmlfile : sols.xml\n",
      "[1] \"R :\"\n",
      "[1] \"xmlfile : R_related\\\\Rproject\\\\sols.xml\"\n",
      "[1] \"name : profhum\"\n",
      "[1] \"value : 35\"\n",
      "[1] \"val_id : \"\n",
      "SOILS_CsurNsol 10\n",
      "PY ; xmlfile : sols.xml\n",
      "[1] \"R :\"\n",
      "[1] \"xmlfile : R_related\\\\Rproject\\\\sols.xml\"\n",
      "[1] \"name : CsurNsol\"\n",
      "[1] \"value : 10\"\n",
      "[1] \"val_id : \"\n",
      "SOILS_pH 8.2\n",
      "PY ; xmlfile : sols.xml\n",
      "[1] \"R :\"\n",
      "[1] \"xmlfile : R_related\\\\Rproject\\\\sols.xml\"\n",
      "[1] \"name : pH\"\n",
      "[1] \"value : 8.2\"\n",
      "[1] \"val_id : \"\n",
      "SOILS_epc [10, 40, 150]\n",
      "PY ; xmlfile : sols.xml\n",
      "PY ; value_id : [1, 2, 3, 4, 5]\n",
      "PY ; value : [10, 40, 150, 0, 0]\n",
      "PY ; name : epc\n",
      "[1] \"R :\"\n",
      "[1] \"xmlfile : R_related\\\\Rproject\\\\sols.xml\"\n",
      "[1] \"name : epc\"\n",
      "[1] \"value : 10\"  \"value : 40\"  \"value : 150\" \"value : 0\"   \"value : 0\"  \n",
      "[1] \"val_id : 1\" \"val_id : 2\" \"val_id : 3\" \"val_id : 4\" \"val_id : 5\"\n",
      "SOILS_HCCF [30, 6, 26, 26, 7]\n",
      "PY ; xmlfile : sols.xml\n",
      "PY ; value_id : [1, 2, 3, 4, 5]\n",
      "PY ; value : [30, 6, 26, 26, 7]\n",
      "PY ; name : HCCF\n",
      "[1] \"R :\"\n",
      "[1] \"xmlfile : R_related\\\\Rproject\\\\sols.xml\"\n",
      "[1] \"name : HCCF\"\n",
      "[1] \"value : 30\" \"value : 6\"  \"value : 26\" \"value : 26\" \"value : 7\" \n",
      "[1] \"val_id : 1\" \"val_id : 2\" \"val_id : 3\" \"val_id : 4\" \"val_id : 5\"\n",
      "SOILS_hminf [17.4, 17.4, 16.8]\n",
      "PY ; xmlfile : sols.xml\n",
      "PY ; value_id : [1, 2, 3, 4, 5]\n",
      "PY ; value : [17.4, 17.4, 16.8, 0, 0]\n",
      "PY ; name : hminf\n",
      "[1] \"R :\"\n",
      "[1] \"xmlfile : R_related\\\\Rproject\\\\sols.xml\"\n",
      "[1] \"name : hminf\"\n",
      "[1] \"value : 17.4\" \"value : 17.4\" \"value : 16.8\" \"value : 0\"    \"value : 0\"   \n",
      "[1] \"val_id : 1\" \"val_id : 2\" \"val_id : 3\" \"val_id : 4\" \"val_id : 5\"\n",
      "SOILS_DAF [1.5, 1.45, 1.45]\n",
      "PY ; xmlfile : sols.xml\n",
      "PY ; value_id : [1, 2, 3, 4, 5]\n",
      "PY ; value : [1.5, 1.45, 1.45, 0, 0]\n",
      "PY ; name : DAF\n",
      "[1] \"R :\"\n",
      "[1] \"xmlfile : R_related\\\\Rproject\\\\sols.xml\"\n",
      "[1] \"name : DAF\"\n",
      "[1] \"value : 1.5\"  \"value : 1.45\" \"value : 1.45\" \"value : 0\"    \"value : 0\"   \n",
      "[1] \"val_id : 1\" \"val_id : 2\" \"val_id : 3\" \"val_id : 4\" \"val_id : 5\"\n",
      "SOILS_cailloux [10.1, 10.4, 10.4]\n",
      "PY ; xmlfile : sols.xml\n",
      "PY ; value_id : [1, 2, 3, 4, 5]\n",
      "PY ; value : [10.1, 10.4, 10.4, 0, 0]\n",
      "PY ; name : cailloux\n",
      "[1] \"R :\"\n",
      "[1] \"xmlfile : R_related\\\\Rproject\\\\sols.xml\"\n",
      "[1] \"name : cailloux\"\n",
      "[1] \"value : 10.1\" \"value : 10.4\" \"value : 10.4\" \"value : 0\"    \"value : 0\"   \n",
      "[1] \"val_id : 1\" \"val_id : 2\" \"val_id : 3\" \"val_id : 4\" \"val_id : 5\"\n",
      "INITS_Hinitf [7, 0, 0, 0, 0]\n",
      "PY ; xmlfile : VignePioGre_ini.xml\n",
      "PY ; value_id : [1, 2, 3, 4, 5]\n",
      "PY ; value : [7, 0, 0, 0, 0]\n",
      "PY ; name : Hinitf\n",
      "[1] \"R :\"\n",
      "[1] \"xmlfile : R_related\\\\Rproject\\\\VignePioGre_ini.xml\"\n",
      "[1] \"name : Hinitf\"\n",
      "[1] \"value : 7\" \"value : 0\" \"value : 0\" \"value : 0\" \"value : 0\"\n",
      "[1] \"val_id : 1\" \"val_id : 2\" \"val_id : 3\" \"val_id : 4\" \"val_id : 5\"\n",
      "INITS_densinitial [4, 3, 2]\n",
      "PY ; xmlfile : VignePioGre_ini.xml\n",
      "PY ; value_id : [1, 2, 3, 4, 5]\n",
      "PY ; value : [4, 3, 2, 0, 0]\n",
      "PY ; name : densinitial\n",
      "[1] \"R :\"\n",
      "[1] \"xmlfile : R_related\\\\Rproject\\\\VignePioGre_ini.xml\"\n",
      "[1] \"name : densinitial\"\n",
      "[1] \"value : 4\" \"value : 3\" \"value : 2\" \"value : 0\" \"value : 0\"\n",
      "[1] \"val_id : 1\" \"val_id : 2\" \"val_id : 3\" \"val_id : 4\" \"val_id : 5\"\n",
      "INITS_NO3initf [0, 0, 0, 0, 0]\n",
      "PY ; xmlfile : VignePioGre_ini.xml\n",
      "PY ; value_id : [1, 2, 3, 4, 5]\n",
      "PY ; value : [0, 0, 0, 0, 0]\n",
      "PY ; name : NO3initf\n",
      "[1] \"R :\"\n",
      "[1] \"xmlfile : R_related\\\\Rproject\\\\VignePioGre_ini.xml\"\n",
      "[1] \"name : NO3initf\"\n",
      "[1] \"value : 0\" \"value : 0\" \"value : 0\" \"value : 0\" \"value : 0\"\n",
      "[1] \"val_id : 1\" \"val_id : 2\" \"val_id : 3\" \"val_id : 4\" \"val_id : 5\"\n",
      "INITS_NH4initf [0, 0, 0, 0, 0]\n",
      "PY ; xmlfile : VignePioGre_ini.xml\n",
      "PY ; value_id : [1, 2, 3, 4, 5]\n",
      "PY ; value : [0, 0, 0, 0, 0]\n",
      "PY ; name : NH4initf\n",
      "[1] \"R :\"\n",
      "[1] \"xmlfile : R_related\\\\Rproject\\\\VignePioGre_ini.xml\"\n",
      "[1] \"name : NH4initf\"\n",
      "[1] \"value : 0\" \"value : 0\" \"value : 0\" \"value : 0\" \"value : 0\"\n",
      "[1] \"val_id : 1\" \"val_id : 2\" \"val_id : 3\" \"val_id : 4\" \"val_id : 5\"\n"
     ]
    }
   ],
   "source": [
    "pandas2ri.activate()\n",
    "\n",
    "for key, value in result_dict.items():\n",
    "    print(key,value)\n",
    "\n",
    "    if key.startswith('PY_'):\n",
    "        continue\n",
    "\n",
    "    if key.startswith(\"SOILS_\"):\n",
    "        xmlfile = 'sols.xml'\n",
    "    elif key.startswith(\"INITS_\"):  \n",
    "        xmlfile = 'VignePioGre_ini.xml'\n",
    "    elif key.startswith(\"TECPL_\"):\n",
    "        xmlfile = 'VignePioGre_tec.xml'\n",
    "    param_name = key[6:]  # Erase prefix\n",
    "\n",
    "    print(\"PY ; xmlfile :\", xmlfile)\n",
    "\n",
    "    if isinstance(value, list):\n",
    "        value_id = list(range(1, 6))\n",
    "        value.extend([0] * (5 - len(value)))\n",
    "        print(\"PY ; value_id :\",value_id)\n",
    "        print(\"PY ; value :\",value)\n",
    "        print(\"PY ; name :\",param_name)\n",
    "        r_change_setting(os.path.join('R_related','Rproject',xmlfile),\n",
    "                            param_name = param_name,\n",
    "                            val = value,\n",
    "                            values_id=value_id)\n",
    "    else:\n",
    "        r_change_setting(os.path.join('R_related','Rproject',xmlfile),\n",
    "                            param_name = param_name,\n",
    "                            val = value)"
   ]
  },
  {
   "cell_type": "code",
   "execution_count": null,
   "metadata": {},
   "outputs": [
    {
     "data": {
      "text/plain": [
       "'R_related\\\\Rproject\\\\sols.xml'"
      ]
     },
     "execution_count": 27,
     "metadata": {},
     "output_type": "execute_result"
    }
   ],
   "source": [
    "os.path.join('R_related','Rproject','sols.xml')"
   ]
  },
  {
   "cell_type": "code",
   "execution_count": 102,
   "metadata": {},
   "outputs": [
    {
     "data": {
      "text/plain": [
       "[1, 2, 3, 4]"
      ]
     },
     "execution_count": 102,
     "metadata": {},
     "output_type": "execute_result"
    }
   ],
   "source": [
    "list(range(1, 5))"
   ]
  }
 ],
 "metadata": {
  "kernelspec": {
   "display_name": "TSAgriPV-XqNYGekU",
   "language": "python",
   "name": "python3"
  },
  "language_info": {
   "codemirror_mode": {
    "name": "ipython",
    "version": 3
   },
   "file_extension": ".py",
   "mimetype": "text/x-python",
   "name": "python",
   "nbconvert_exporter": "python",
   "pygments_lexer": "ipython3",
   "version": "3.7.9"
  }
 },
 "nbformat": 4,
 "nbformat_minor": 2
}
