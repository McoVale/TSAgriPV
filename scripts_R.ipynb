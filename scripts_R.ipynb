{
 "cells": [
  {
   "cell_type": "markdown",
   "metadata": {},
   "source": [
    "#### IMPORTS"
   ]
  },
  {
   "cell_type": "code",
   "execution_count": 17,
   "metadata": {},
   "outputs": [],
   "source": [
    "import os\n",
    "os.environ['R_HOME'] = 'C:/Users/maceo.valente/AppData/Local/Programs/R/R-4.3.2'"
   ]
  },
  {
   "cell_type": "code",
   "execution_count": 18,
   "metadata": {},
   "outputs": [],
   "source": [
    "import rpy2.robjects as robjects\n",
    "from rpy2.robjects.packages import importr\n",
    "from rpy2.robjects.vectors import DataFrame, IntVector, StrVector"
   ]
  },
  {
   "cell_type": "code",
   "execution_count": 19,
   "metadata": {},
   "outputs": [
    {
     "name": "stdout",
     "output_type": "stream",
     "text": [
      "hello\n"
     ]
    }
   ],
   "source": [
    "print(\"hello\")"
   ]
  },
  {
   "cell_type": "code",
   "execution_count": 25,
   "metadata": {},
   "outputs": [
    {
     "name": "stdout",
     "output_type": "stream",
     "text": [
      "v Using stics \"modulostics\" (exe: \"stics_modulo.exe\")\n",
      "[1] \"Lang_Romain_1\"\n",
      "[1] \"[05/06/24]-[16:37:02] INFO - Files generated :\"                                                                         \n",
      "[2] \"[05/06/24]-[16:37:02] INFO - \\tC:\\\\Users\\\\maceo.valente\\\\Documents\\\\Automatisation\\\\exempleVigne\\\\mod_bLang_Romain_1.sti\"\n",
      "[3] \"[05/06/24]-[16:37:02] INFO - \\tC:\\\\Users\\\\maceo.valente\\\\Documents\\\\Automatisation\\\\exempleVigne\\\\modhistory.sti\"        \n",
      "v All usms ran successfully!\n",
      "[1] 9.18\n",
      "[1] 11.87215\n",
      "v Using stics \"modulostics\" (exe: \"stics_modulo.exe\")\n",
      "[1] \"Lang_Romain_1\"\n",
      "[1] \"[05/06/24]-[16:37:06] INFO - Files generated :\"                                                                         \n",
      "[2] \"[05/06/24]-[16:37:06] INFO - \\tC:\\\\Users\\\\maceo.valente\\\\Documents\\\\Automatisation\\\\exempleVigne\\\\mod_bLang_Romain_1.sti\"\n",
      "[3] \"[05/06/24]-[16:37:06] INFO - \\tC:\\\\Users\\\\maceo.valente\\\\Documents\\\\Automatisation\\\\exempleVigne\\\\modhistory.sti\"        \n",
      "v All usms ran successfully!\n",
      "v Using stics \"modulostics\" (exe: \"stics_modulo.exe\")\n",
      "[1] \"Lang_Romain_1\"\n",
      "[1] \"[05/06/24]-[16:37:10] INFO - Files generated :\"                                                                         \n",
      "[2] \"[05/06/24]-[16:37:10] INFO - \\tC:\\\\Users\\\\maceo.valente\\\\Documents\\\\Automatisation\\\\exempleVigne\\\\mod_bLang_Romain_1.sti\"\n",
      "[3] \"[05/06/24]-[16:37:10] INFO - \\tC:\\\\Users\\\\maceo.valente\\\\Documents\\\\Automatisation\\\\exempleVigne\\\\modhistory.sti\"        \n",
      "v All usms ran successfully!\n",
      "[1] 9.18 9.02 9.03\n",
      "[1] 11.87215 11.64772 11.88111\n"
     ]
    },
    {
     "name": "stderr",
     "output_type": "stream",
     "text": [
      "R[write to console]: In addition: \n",
      "R[write to console]: Warning message:\n",
      "\n",
      "R[write to console]: In dir.create(\"weatherFiles/\") :\n",
      "R[write to console]:  'weatherFiles' already exists\n",
      "\n"
     ]
    }
   ],
   "source": [
    "# Charger le script R depuis un fichier\n",
    "os.chdir(\"C:/Users/maceo.valente/Documents/Automatisation/TEST_MVA/TSAgriPV\")\n",
    "with open(\"C:/Users/maceo.valente/Documents/Automatisation/TEST_MVA/TSAgriPV/R_related/testVigne.R\", 'r') as f:\n",
    "    r_script = f.read()\n",
    "robjects.r(r_script)"
   ]
  }
 ],
 "metadata": {
  "kernelspec": {
   "display_name": "TSAgriPV-XqNYGekU",
   "language": "python",
   "name": "python3"
  },
  "language_info": {
   "codemirror_mode": {
    "name": "ipython",
    "version": 3
   },
   "file_extension": ".py",
   "mimetype": "text/x-python",
   "name": "python",
   "nbconvert_exporter": "python",
   "pygments_lexer": "ipython3",
   "version": "3.7.9"
  }
 },
 "nbformat": 4,
 "nbformat_minor": 2
}
