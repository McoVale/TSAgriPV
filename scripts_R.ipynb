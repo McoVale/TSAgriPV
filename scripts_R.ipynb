{
 "cells": [
  {
   "cell_type": "markdown",
   "metadata": {},
   "source": [
    "#### IMPORTS"
   ]
  },
  {
   "cell_type": "code",
   "execution_count": 3,
   "metadata": {},
   "outputs": [
    {
     "name": "stdout",
     "output_type": "stream",
     "text": [
      "R is installed at: C:\\Users\\maceo.valente\\AppData\\Local\\Programs\\R\\R-4.3.2\n"
     ]
    }
   ],
   "source": [
    "import os\n",
    "import numpy as np\n",
    "import pandas as pd\n",
    "\n",
    "def find_r_installation():\n",
    "    possible_paths = []\n",
    "\n",
    "    # Add standard paths for Windows\n",
    "    if os.getenv('ProgramFiles'):\n",
    "        possible_paths.append(os.path.join(os.getenv('ProgramFiles'), 'R'))\n",
    "    if os.getenv('ProgramFiles(x86)'):\n",
    "        possible_paths.append(os.path.join(os.getenv('ProgramFiles(x86)'), 'R'))\n",
    "    if os.getenv('LOCALAPPDATA'):\n",
    "        possible_paths.append(os.path.join(os.getenv('LOCALAPPDATA'), 'Programs', 'R'))\n",
    "    \n",
    "    # Add standard path for Unix-like systems\n",
    "    if os.getenv('HOME'):\n",
    "        possible_paths.append(os.path.join(os.getenv('HOME'), 'R'))\n",
    "\n",
    "    for path in possible_paths:\n",
    "        if os.path.exists(path):\n",
    "            for root, dirs, files in os.walk(path):\n",
    "                if 'bin' in dirs:\n",
    "                    if 'R.exe' in os.listdir(os.path.join(root, 'bin')):  # Check specifically for Windows\n",
    "                        return os.path.join(root)\n",
    "                    if 'R' in os.listdir(os.path.join(root, 'bin')):  # Check for Unix-like systems\n",
    "                        return os.path.join(root)\n",
    "\n",
    "    return None\n",
    "\n",
    "r_path = find_r_installation()\n",
    "if r_path:\n",
    "    print(f\"R is installed at: {r_path}\")\n",
    "else:\n",
    "    print(\"R installation not found.\")\n",
    "\n",
    "os.environ['R_HOME'] = r_path"
   ]
  },
  {
   "cell_type": "code",
   "execution_count": 4,
   "metadata": {},
   "outputs": [],
   "source": [
    "import rpy2.robjects as ro\n",
    "from rpy2.robjects.packages import importr\n",
    "from rpy2.robjects import r"
   ]
  },
  {
   "cell_type": "markdown",
   "metadata": {},
   "source": [
    "Generating weatherFile from EPW"
   ]
  },
  {
   "cell_type": "code",
   "execution_count": 6,
   "metadata": {},
   "outputs": [
    {
     "name": "stdout",
     "output_type": "stream",
     "text": [
      "               file  year  month  day  doy  temp_min  temp_max  Radiation  \\\n",
      "0  weatherFile_TEST  2022      1    1    1       6.3      12.5       3.01   \n",
      "1  weatherFile_TEST  2022      1    2    2       6.0      11.0       2.73   \n",
      "2  weatherFile_TEST  2022      1    3    3       3.3      12.0       4.36   \n",
      "3  weatherFile_TEST  2022      1    4    4       6.0      17.0       6.60   \n",
      "4  weatherFile_TEST  2022      1    5    5       3.0      15.0       7.04   \n",
      "\n",
      "     Etp  Rain  Wind    Tpm  Co2  \n",
      "0 -999.9  11.4  4.19 -999.9  412  \n",
      "1 -999.9   2.3  0.93 -999.9  412  \n",
      "2 -999.9   0.1  1.38 -999.9  412  \n",
      "3 -999.9   0.0  3.30 -999.9  412  \n",
      "4 -999.9   0.0  1.14 -999.9  412  \n"
     ]
    }
   ],
   "source": [
    "# Lire le fichier EPW en sautant les 8 premières lignes de métadonnées\n",
    "epw_file_path = 'FRA_PR_Orange.Caritat.AB.075790_TMYx.epw'\n",
    "epw_data = pd.read_csv(epw_file_path, skiprows=8, header=None)\n",
    "\n",
    "# Créer le DataFrame weatherFile avec les colonnes de base\n",
    "date_range = pd.date_range(start='2022-01-01', end='2022-12-31')\n",
    "weatherFile = pd.DataFrame({\n",
    "    'file': ['weatherFile_TEST'] * len(date_range),\n",
    "    'year': [2022] * len(date_range),\n",
    "    'month': date_range.month,\n",
    "    'day': date_range.day,\n",
    "    'doy': date_range.dayofyear\n",
    "})\n",
    "\n",
    "# Initialiser les colonnes supplémentaires\n",
    "weatherFile['temp_min'] = np.nan\n",
    "weatherFile['temp_max'] = np.nan\n",
    "weatherFile['Radiation'] = np.nan\n",
    "weatherFile['Etp'] = -999.9\n",
    "weatherFile['Rain'] = np.nan\n",
    "weatherFile['Wind'] = np.nan\n",
    "weatherFile['Tpm'] = -999.9\n",
    "weatherFile['Co2'] = 412\n",
    "\n",
    "# Calculer les valeurs journalières pour chaque colonne\n",
    "for i, date in enumerate(date_range):\n",
    "    start_hour = i * 24\n",
    "    end_hour = start_hour + 24\n",
    "    \n",
    "    daily_data = epw_data.iloc[start_hour:end_hour]\n",
    "    \n",
    "    weatherFile.at[i, 'temp_min'] = daily_data[6].min()  # column G\n",
    "    weatherFile.at[i, 'temp_max'] = daily_data[6].max()  # column G\n",
    "    weatherFile.at[i, 'Radiation'] = daily_data[13].sum() * 0.0036  # column N, convert Wh/m2 to MJ/m2\n",
    "    weatherFile.at[i, 'Rain'] = daily_data[33].sum()  # column AH\n",
    "    weatherFile.at[i, 'Wind'] = daily_data[21].mean()  # column V\n",
    "\n",
    "weatherFile = weatherFile.round(2)\n",
    "# Afficher les premières lignes du DataFrame pour vérification\n",
    "print(weatherFile.head())\n",
    "\n",
    "# Exporter le DataFrame en fichier CSV\n",
    "weatherFile.to_csv('R_related/weatherFilesSource/weatherFile_TEST.2022', sep=' ', index=False, header = False)\n",
    "\n",
    "weatherFile2 = weatherFile.copy()\n",
    "weatherFile2['year'] = 2023\n",
    "\n",
    "weatherFile2.to_csv('R_related/weatherFilesSource/weatherFile_TEST.2023', sep=' ', index=False, header = False)\n",
    "\n"
   ]
  },
  {
   "cell_type": "code",
   "execution_count": 29,
   "metadata": {},
   "outputs": [],
   "source": [
    "\n",
    "# Charger le fichier R contenant la fonction\n",
    "r.source(\"Rfunctions.R\")\n",
    "\n",
    "# Définir la fonction R\n",
    "f_gen_usm = ro.globalenv['generate_usm']\n",
    "f_gen_ini = ro.globalenv['generate_ini']\n",
    "f_gen_tec = ro.globalenv['generate_tec']\n",
    "f_gen_sols = ro.globalenv['generate_sols']\n",
    "f_gen_sta = ro.globalenv['generate_sta']\n",
    "f_settings = ro.globalenv['settings']\n",
    "f_change_scenar = ro.globalenv['change_scenar']\n",
    "\n",
    "\n",
    "# # Fonction Python pour appeler la fonction R\n",
    "# def call_r_function(param1, param2, param3):\n",
    "#     result = my_r_function(param1, param2, param3)\n",
    "#     return result[0]\n",
    "\n",
    "# # Exemple d'utilisation\n",
    "# params = [1, 2, 3]\n",
    "# result = call_r_function(*params)\n",
    "# print(f\"Result from R function: {result}\")\n"
   ]
  },
  {
   "cell_type": "code",
   "execution_count": 31,
   "metadata": {},
   "outputs": [
    {
     "name": "stdout",
     "output_type": "stream",
     "text": [
      "Setting working directory to: C:/Users/maceo.valente/Documents/Automatisation/TEST_MVA/TSAgriPV/R_related \n",
      "Get working dir :  C:/Users/maceo.valente/Documents/Automatisation/TEST_MVA/TSAgriPV/R_related \n",
      "Javastics path :  C:/Users/maceo.valente/Documents/Automatisation/TEST_MVA/TSAgriPV/JavaSTICS/JavaStics.exe \n",
      "Workspace path :  C:/Users/maceo.valente/Documents/Automatisation/TEST_MVA/TSAgriPV/R_related/Rproject \n",
      "Le dossier existe déjà: Rproject/weatherFiles/ \n"
     ]
    },
    {
     "data": {
      "text/plain": [
       "<rpy2.rinterface_lib.sexp.NULLType object at 0x0000019AADBF8A48> [RTYPES.NILSXP]"
      ]
     },
     "execution_count": 31,
     "metadata": {},
     "output_type": "execute_result"
    }
   ],
   "source": [
    "f_settings(\"C:/Users/maceo.valente/Documents/Automatisation/TEST_MVA/TSAgriPV/R_related\")"
   ]
  },
  {
   "cell_type": "code",
   "execution_count": null,
   "metadata": {},
   "outputs": [],
   "source": []
  }
 ],
 "metadata": {
  "kernelspec": {
   "display_name": "TSAgriPV-XqNYGekU",
   "language": "python",
   "name": "python3"
  },
  "language_info": {
   "codemirror_mode": {
    "name": "ipython",
    "version": 3
   },
   "file_extension": ".py",
   "mimetype": "text/x-python",
   "name": "python",
   "nbconvert_exporter": "python",
   "pygments_lexer": "ipython3",
   "version": "3.7.9"
  }
 },
 "nbformat": 4,
 "nbformat_minor": 2
}
