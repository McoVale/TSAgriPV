{
 "cells": [
  {
   "cell_type": "markdown",
   "metadata": {},
   "source": [
    "#### IMPORTS"
   ]
  },
  {
   "cell_type": "code",
   "execution_count": 21,
   "metadata": {},
   "outputs": [
    {
     "name": "stdout",
     "output_type": "stream",
     "text": [
      "R is installed at: C:\\Users\\maceo.valente\\AppData\\Local\\Programs\\R\\R-4.3.2\n"
     ]
    }
   ],
   "source": [
    "import os\n",
    "\n",
    "def find_r_installation():\n",
    "    possible_paths = []\n",
    "\n",
    "    # Add standard paths for Windows\n",
    "    if os.getenv('ProgramFiles'):\n",
    "        possible_paths.append(os.path.join(os.getenv('ProgramFiles'), 'R'))\n",
    "    if os.getenv('ProgramFiles(x86)'):\n",
    "        possible_paths.append(os.path.join(os.getenv('ProgramFiles(x86)'), 'R'))\n",
    "    if os.getenv('LOCALAPPDATA'):\n",
    "        possible_paths.append(os.path.join(os.getenv('LOCALAPPDATA'), 'Programs', 'R'))\n",
    "    \n",
    "    # Add standard path for Unix-like systems\n",
    "    if os.getenv('HOME'):\n",
    "        possible_paths.append(os.path.join(os.getenv('HOME'), 'R'))\n",
    "\n",
    "    for path in possible_paths:\n",
    "        if os.path.exists(path):\n",
    "            for root, dirs, files in os.walk(path):\n",
    "                if 'bin' in dirs:\n",
    "                    if 'R.exe' in os.listdir(os.path.join(root, 'bin')):  # Check specifically for Windows\n",
    "                        return os.path.join(root)\n",
    "                    if 'R' in os.listdir(os.path.join(root, 'bin')):  # Check for Unix-like systems\n",
    "                        return os.path.join(root)\n",
    "\n",
    "    return None\n",
    "\n",
    "r_path = find_r_installation()\n",
    "if r_path:\n",
    "    print(f\"R is installed at: {r_path}\")\n",
    "else:\n",
    "    print(\"R installation not found.\")\n",
    "\n",
    "os.environ['R_HOME'] = r_path"
   ]
  },
  {
   "cell_type": "code",
   "execution_count": 22,
   "metadata": {},
   "outputs": [],
   "source": [
    "import rpy2.robjects as ro\n",
    "from rpy2.robjects.packages import importr\n",
    "from rpy2.robjects import r"
   ]
  },
  {
   "cell_type": "code",
   "execution_count": 29,
   "metadata": {},
   "outputs": [],
   "source": [
    "\n",
    "# Charger le fichier R contenant la fonction\n",
    "r.source(\"Rfunctions.R\")\n",
    "\n",
    "# Définir la fonction R\n",
    "f_gen_usm = ro.globalenv['generate_usm']\n",
    "f_gen_ini = ro.globalenv['generate_ini']\n",
    "f_gen_tec = ro.globalenv['generate_tec']\n",
    "f_gen_sols = ro.globalenv['generate_sols']\n",
    "f_gen_sta = ro.globalenv['generate_sta']\n",
    "f_settings = ro.globalenv['settings']\n",
    "f_change_scenar = ro.globalenv['change_scenar']\n",
    "\n",
    "\n",
    "# # Fonction Python pour appeler la fonction R\n",
    "# def call_r_function(param1, param2, param3):\n",
    "#     result = my_r_function(param1, param2, param3)\n",
    "#     return result[0]\n",
    "\n",
    "# # Exemple d'utilisation\n",
    "# params = [1, 2, 3]\n",
    "# result = call_r_function(*params)\n",
    "# print(f\"Result from R function: {result}\")\n"
   ]
  },
  {
   "cell_type": "code",
   "execution_count": 31,
   "metadata": {},
   "outputs": [
    {
     "name": "stdout",
     "output_type": "stream",
     "text": [
      "Setting working directory to: C:/Users/maceo.valente/Documents/Automatisation/TEST_MVA/TSAgriPV/R_related \n",
      "Get working dir :  C:/Users/maceo.valente/Documents/Automatisation/TEST_MVA/TSAgriPV/R_related \n",
      "Javastics path :  C:/Users/maceo.valente/Documents/Automatisation/TEST_MVA/TSAgriPV/JavaSTICS/JavaStics.exe \n",
      "Workspace path :  C:/Users/maceo.valente/Documents/Automatisation/TEST_MVA/TSAgriPV/R_related/Rproject \n",
      "Le dossier existe déjà: Rproject/weatherFiles/ \n"
     ]
    },
    {
     "data": {
      "text/plain": [
       "<rpy2.rinterface_lib.sexp.NULLType object at 0x0000019AADBF8A48> [RTYPES.NILSXP]"
      ]
     },
     "execution_count": 31,
     "metadata": {},
     "output_type": "execute_result"
    }
   ],
   "source": [
    "f_settings(\"C:/Users/maceo.valente/Documents/Automatisation/TEST_MVA/TSAgriPV/R_related\")"
   ]
  },
  {
   "cell_type": "code",
   "execution_count": null,
   "metadata": {},
   "outputs": [],
   "source": []
  }
 ],
 "metadata": {
  "kernelspec": {
   "display_name": "TSAgriPV-XqNYGekU",
   "language": "python",
   "name": "python3"
  },
  "language_info": {
   "codemirror_mode": {
    "name": "ipython",
    "version": 3
   },
   "file_extension": ".py",
   "mimetype": "text/x-python",
   "name": "python",
   "nbconvert_exporter": "python",
   "pygments_lexer": "ipython3",
   "version": "3.7.9"
  }
 },
 "nbformat": 4,
 "nbformat_minor": 2
}
