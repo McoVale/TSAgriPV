{
 "cells": [
  {
   "cell_type": "markdown",
   "metadata": {},
   "source": [
    "#### IMPORTS"
   ]
  },
  {
   "cell_type": "code",
   "execution_count": 5,
   "metadata": {},
   "outputs": [
    {
     "name": "stdout",
     "output_type": "stream",
     "text": [
      "R is installed at: C:\\Users\\maceo.valente\\AppData\\Local\\Programs\\R\\R-4.3.2\n"
     ]
    }
   ],
   "source": [
    "import os\n",
    "\n",
    "def find_r_installation():\n",
    "    possible_paths = []\n",
    "\n",
    "    # Add standard paths for Windows\n",
    "    if os.getenv('ProgramFiles'):\n",
    "        possible_paths.append(os.path.join(os.getenv('ProgramFiles'), 'R'))\n",
    "    if os.getenv('ProgramFiles(x86)'):\n",
    "        possible_paths.append(os.path.join(os.getenv('ProgramFiles(x86)'), 'R'))\n",
    "    if os.getenv('LOCALAPPDATA'):\n",
    "        possible_paths.append(os.path.join(os.getenv('LOCALAPPDATA'), 'Programs', 'R'))\n",
    "    \n",
    "    # Add standard path for Unix-like systems\n",
    "    if os.getenv('HOME'):\n",
    "        possible_paths.append(os.path.join(os.getenv('HOME'), 'R'))\n",
    "\n",
    "    for path in possible_paths:\n",
    "        if os.path.exists(path):\n",
    "            for root, dirs, files in os.walk(path):\n",
    "                if 'bin' in dirs:\n",
    "                    if 'R.exe' in os.listdir(os.path.join(root, 'bin')):  # Check specifically for Windows\n",
    "                        return os.path.join(root)\n",
    "                    if 'R' in os.listdir(os.path.join(root, 'bin')):  # Check for Unix-like systems\n",
    "                        return os.path.join(root)\n",
    "\n",
    "    return None\n",
    "\n",
    "r_path = find_r_installation()\n",
    "if r_path:\n",
    "    print(f\"R is installed at: {r_path}\")\n",
    "else:\n",
    "    print(\"R installation not found.\")\n",
    "\n",
    "os.environ['R_HOME'] = r_path"
   ]
  },
  {
   "cell_type": "code",
   "execution_count": 8,
   "metadata": {},
   "outputs": [],
   "source": [
    "import rpy2.robjects as ro\n",
    "from rpy2.robjects.packages import importr\n",
    "from rpy2.robjects.vectors import DataFrame, IntVector, StrVector\n",
    "from rpy2.robjects import pandas2ri"
   ]
  },
  {
   "cell_type": "code",
   "execution_count": 10,
   "metadata": {},
   "outputs": [],
   "source": [
    "# Activation de la conversion automatique entre pandas DataFrame et R DataFrame\n",
    "pandas2ri.activate()\n",
    "# Importation des packages R\n",
    "sticsOnR = importr('SticsOnR')\n",
    "sticsRFiles = importr('SticsRFiles')"
   ]
  },
  {
   "cell_type": "markdown",
   "metadata": {},
   "source": [
    "### Fonctions STICS"
   ]
  },
  {
   "cell_type": "code",
   "execution_count": null,
   "metadata": {},
   "outputs": [],
   "source": [
    "# Function to create an usm\n",
    "def def_usm(settings):\n",
    "    # Convertir le dictionnaire de paramètres en DataFrame R\n",
    "    df_settings = ro.DataFrame(settings)\n",
    "    # Instancier l'USM avec les paramètres (exemple)\n",
    "    usm = sticsOnR.create_usm(settings)\n",
    "    return usm\n",
    "\n",
    "# Function to run an usm, and save the results\n",
    "def lancer_simulation(usm):\n",
    "    # Lancer la simulation (code R spécifique ici)\n",
    "    resultats = sticsOnR.run_usm(usm)\n",
    "    # Convertir les résultats R en DataFrame pandas\n",
    "    df_resultats = pandas2ri.rpy2py(resultats)\n",
    "    return df_resultats"
   ]
  },
  {
   "cell_type": "markdown",
   "metadata": {},
   "source": [
    "### Settings USM STICS"
   ]
  },
  {
   "cell_type": "code",
   "execution_count": 11,
   "metadata": {},
   "outputs": [],
   "source": [
    "# Variables python contenant les paramètres\n",
    "p_usm = {\n",
    "    'param1': 1,\n",
    "    'param2': 2,\n",
    "    # ajoutez vos paramètres ici\n",
    "}"
   ]
  },
  {
   "cell_type": "code",
   "execution_count": null,
   "metadata": {},
   "outputs": [],
   "source": []
  },
  {
   "cell_type": "code",
   "execution_count": 25,
   "metadata": {},
   "outputs": [
    {
     "name": "stdout",
     "output_type": "stream",
     "text": [
      "v Using stics \"modulostics\" (exe: \"stics_modulo.exe\")\n",
      "[1] \"Lang_Romain_1\"\n",
      "[1] \"[05/06/24]-[16:37:02] INFO - Files generated :\"                                                                         \n",
      "[2] \"[05/06/24]-[16:37:02] INFO - \\tC:\\\\Users\\\\maceo.valente\\\\Documents\\\\Automatisation\\\\exempleVigne\\\\mod_bLang_Romain_1.sti\"\n",
      "[3] \"[05/06/24]-[16:37:02] INFO - \\tC:\\\\Users\\\\maceo.valente\\\\Documents\\\\Automatisation\\\\exempleVigne\\\\modhistory.sti\"        \n",
      "v All usms ran successfully!\n",
      "[1] 9.18\n",
      "[1] 11.87215\n",
      "v Using stics \"modulostics\" (exe: \"stics_modulo.exe\")\n",
      "[1] \"Lang_Romain_1\"\n",
      "[1] \"[05/06/24]-[16:37:06] INFO - Files generated :\"                                                                         \n",
      "[2] \"[05/06/24]-[16:37:06] INFO - \\tC:\\\\Users\\\\maceo.valente\\\\Documents\\\\Automatisation\\\\exempleVigne\\\\mod_bLang_Romain_1.sti\"\n",
      "[3] \"[05/06/24]-[16:37:06] INFO - \\tC:\\\\Users\\\\maceo.valente\\\\Documents\\\\Automatisation\\\\exempleVigne\\\\modhistory.sti\"        \n",
      "v All usms ran successfully!\n",
      "v Using stics \"modulostics\" (exe: \"stics_modulo.exe\")\n",
      "[1] \"Lang_Romain_1\"\n",
      "[1] \"[05/06/24]-[16:37:10] INFO - Files generated :\"                                                                         \n",
      "[2] \"[05/06/24]-[16:37:10] INFO - \\tC:\\\\Users\\\\maceo.valente\\\\Documents\\\\Automatisation\\\\exempleVigne\\\\mod_bLang_Romain_1.sti\"\n",
      "[3] \"[05/06/24]-[16:37:10] INFO - \\tC:\\\\Users\\\\maceo.valente\\\\Documents\\\\Automatisation\\\\exempleVigne\\\\modhistory.sti\"        \n",
      "v All usms ran successfully!\n",
      "[1] 9.18 9.02 9.03\n",
      "[1] 11.87215 11.64772 11.88111\n"
     ]
    },
    {
     "name": "stderr",
     "output_type": "stream",
     "text": [
      "R[write to console]: In addition: \n",
      "R[write to console]: Warning message:\n",
      "\n",
      "R[write to console]: In dir.create(\"weatherFiles/\") :\n",
      "R[write to console]:  'weatherFiles' already exists\n",
      "\n"
     ]
    }
   ],
   "source": [
    "# # Charger le script R depuis un fichier\n",
    "# os.chdir(\"C:/Users/maceo.valente/Documents/Automatisation/TEST_MVA/TSAgriPV\")\n",
    "# with open(\"C:/Users/maceo.valente/Documents/Automatisation/TEST_MVA/TSAgriPV/R_related/testVigne.R\", 'r') as f:\n",
    "#     r_script = f.read()\n",
    "# ro.r(r_script)"
   ]
  }
 ],
 "metadata": {
  "kernelspec": {
   "display_name": "TSAgriPV-XqNYGekU",
   "language": "python",
   "name": "python3"
  },
  "language_info": {
   "codemirror_mode": {
    "name": "ipython",
    "version": 3
   },
   "file_extension": ".py",
   "mimetype": "text/x-python",
   "name": "python",
   "nbconvert_exporter": "python",
   "pygments_lexer": "ipython3",
   "version": "3.7.9"
  }
 },
 "nbformat": 4,
 "nbformat_minor": 2
}
