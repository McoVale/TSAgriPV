{
 "cells": [
  {
   "cell_type": "code",
   "execution_count": 39,
   "metadata": {},
   "outputs": [],
   "source": [
    "import rhinoinside\n",
    "rhinoinside.load()\n",
    "import System\n",
    "from Rhino.Geometry import Point3d, Plane, Brep, Vector3d\n",
    "from Rhino.Geometry import Surface as RhinoSurface\n",
    "import Rhino.Geometry as rg\n",
    "from Rhino.Geometry import Polyline\n",
    "from Rhino.Collections import Point3dList\n",
    "from Rhino.Geometry import PolylineCurve"
   ]
  },
  {
   "cell_type": "code",
   "execution_count": 40,
   "metadata": {},
   "outputs": [],
   "source": [
    "def create_surface(x, y, width, height):\n",
    "    # Initialiser les points pour la polyline\n",
    "    points = Point3dList()\n",
    "    points.Add(x, y, 0)\n",
    "    points.Add(x + width, y, 0),\n",
    "    points.Add(x + width, y + height, 0),\n",
    "    points.Add(x, y + height, 0),\n",
    "    points.Add(x, y, 0)\n",
    "    \n",
    "\n",
    "    # Créer une polyline\n",
    "    polyline = PolylineCurve(points)\n",
    "    \n",
    "    # Vérifier si la polyline est fermée\n",
    "    if polyline.IsClosed:\n",
    "        # Créer une extrusion de la polyline\n",
    "        direction = Vector3d(0, 0, 0.001)  # Direction d'extrusion (minimale pour simuler une surface)\n",
    "        surface = RhinoSurface.CreateExtrusion(polyline, direction)  # Extrusion minime\n",
    "        return surface\n",
    "    else:\n",
    "        return None\n"
   ]
  },
  {
   "cell_type": "code",
   "execution_count": 41,
   "metadata": {},
   "outputs": [],
   "source": [
    "def create_grid_surfaces(rows, cols, width, height, angle):\n",
    "    grid_surfaces = []\n",
    "    for i in range(rows):\n",
    "        for j in range(cols):\n",
    "            # Position de la surface dans la grille\n",
    "            x = j * (width)  # Espacement de 0 entre les colonnes\n",
    "            y = i * (height + 10)  # Espacement de 10 entre les lignes\n",
    "            surface = create_surface(x, y, width, height)\n",
    "            # Rotation de la surface\n",
    "            center = Point3d(x + width / 2, y + height / 2, 0)\n",
    "            rotation_axis = Vector3d(0, 1, 0)  # Axe Y pour la rotation\n",
    "            surface.Rotate(System.Math.PI / 180 * angle, rotation_axis, center)\n",
    "            grid_surfaces.append(surface)\n",
    "    return grid_surfaces\n"
   ]
  },
  {
   "cell_type": "code",
   "execution_count": 42,
   "metadata": {},
   "outputs": [],
   "source": [
    "def join_surfaces_to_brep(surfaces):\n",
    "    brep = rg.Brep()\n",
    "    for surface in surfaces:\n",
    "        # Convertir la surface en Brep et ajouter au Brep principal\n",
    "        brep_part = surface.ToBrep()\n",
    "        brep.Append(brep_part)\n",
    "    return brep\n",
    "\n",
    "# Paramètres de la grille\n",
    "rows = 20  # Nombre de lignes\n",
    "cols = 40  # Nombre de colonnes\n",
    "width = 5  # Largeur de chaque surface\n",
    "height = 1.135  # Hauteur de chaque surface\n",
    "angle = 30  # Angle d'inclinaison en degrés\n",
    "\n",
    "# Création de la grille et assemblage en un seul Brep\n",
    "surfaces = create_grid_surfaces(rows, cols, width, height, angle)\n",
    "final_brep = join_surfaces_to_brep(surfaces)\n"
   ]
  },
  {
   "cell_type": "code",
   "execution_count": 43,
   "metadata": {},
   "outputs": [],
   "source": [
    "from Rhino.FileIO import File3dm\n",
    "\n",
    "def export_brep_to_file(brep, filename):\n",
    "    file = File3dm()\n",
    "    file.Objects.AddBrep(brep)\n",
    "    file.Write(filename, 7)  # Version 7 pour Rhino 7\n",
    "\n",
    "# Exporter le Brep comme un fichier 3DM\n",
    "export_brep_to_file(final_brep, \"output.3dm\")"
   ]
  }
 ],
 "metadata": {
  "kernelspec": {
   "display_name": "TSAgriPV-XqNYGekU",
   "language": "python",
   "name": "python3"
  },
  "language_info": {
   "codemirror_mode": {
    "name": "ipython",
    "version": 3
   },
   "file_extension": ".py",
   "mimetype": "text/x-python",
   "name": "python",
   "nbconvert_exporter": "python",
   "pygments_lexer": "ipython3",
   "version": "3.7.9"
  }
 },
 "nbformat": 4,
 "nbformat_minor": 2
}
