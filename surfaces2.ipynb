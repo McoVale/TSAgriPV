{
 "cells": [
  {
   "cell_type": "code",
   "execution_count": 117,
   "metadata": {},
   "outputs": [],
   "source": [
    "import rhinoinside\n",
    "rhinoinside.load()\n",
    "import System\n",
    "from Rhino.Geometry import Point3d, Plane, Brep, Vector3d\n",
    "from Rhino.Geometry import Surface as RhinoSurface\n",
    "import Rhino.Geometry as rg\n",
    "from Rhino.Geometry import Polyline\n",
    "from Rhino.Collections import Point3dList\n",
    "from Rhino.Geometry import PolylineCurve\n",
    "from Rhino.Geometry import Transform\n",
    "from Rhino.FileIO import File3dm"
   ]
  },
  {
   "cell_type": "code",
   "execution_count": 118,
   "metadata": {},
   "outputs": [
    {
     "name": "stdout",
     "output_type": "stream",
     "text": [
      "5.0\n",
      "5.0\n",
      "20\n",
      "40\n"
     ]
    }
   ],
   "source": [
    "# Paramètres de configuration\n",
    "GRID_SIZE = 100 # Taille du champ de panneau pour la simulation\n",
    "ENTRAXE = 2.5 # Espacement entre lignes de panneaux (= inter-rang)\n",
    "HAUTEUR = 3 # [0 ; 100] ; mètres ; hauter de l'axe de rotation, ou du point du PVP le plus bas.\n",
    "RAMPANT = 1.135 # Largeur du panneau\n",
    "NB_RANGS = 20 # Nombre de panneaux par ligne\n",
    "NB_PVP_RANGS = int(GRID_SIZE / ENTRAXE) # Nombre de lignes\n",
    "LONGUEUR_PVP = GRID_SIZE / (NB_RANGS) # Longueur des panneaux dans une même ligne\n",
    "\n",
    "column_spacing = ENTRAXE # Espacement entre lignes de panneaux (= inter-rang)\n",
    "row_spacing = GRID_SIZE / NB_RANGS # Espacement entre panneaux d'une même ligne (même support)\n",
    "\n",
    "ANGLE_ORIENTATION = 45  # Rotation globale autour de l'axe Z\n",
    "ANGLE_VARIABLE = 10  # Angle de rotation individuelle autour de l'axe X\n",
    "\n",
    "print(LONGUEUR_PVP)\n",
    "print(row_spacing)\n",
    "print(NB_RANGS)\n",
    "print(NB_PVP_RANGS)"
   ]
  },
  {
   "cell_type": "code",
   "execution_count": 119,
   "metadata": {},
   "outputs": [],
   "source": [
    "def create_surface(x, y, length, width):\n",
    "    \n",
    "    points = Point3dList()\n",
    "    points.Add(x, y, 0)\n",
    "    points.Add(x + width, y, 0),\n",
    "    points.Add(x + width, y + length, 0),\n",
    "    points.Add(x, y + length, 0),\n",
    "    points.Add(x, y, 0)\n",
    "\n",
    "    # Créer une polyline\n",
    "    polyline = PolylineCurve(points)\n",
    "    \n",
    "    # Vérifier si la polyline est fermée\n",
    "    if polyline.IsClosed:\n",
    "        # Créer une extrusion de la polyline\n",
    "        direction = Vector3d(0, 0, 0.001)  # Direction d'extrusion (minimale pour simuler une surface)\n",
    "        surface = RhinoSurface.CreateExtrusion(polyline, direction)  # Extrusion minime\n",
    "        return surface\n",
    "    else:\n",
    "        return None"
   ]
  },
  {
   "cell_type": "code",
   "execution_count": 120,
   "metadata": {},
   "outputs": [],
   "source": [
    "def create_and_rotate_grid(nb_rangs, nb_pvp_rangs, width, length, column_spacing, row_spacing, angle_orientation, angle_variable):\n",
    "    grid_surfaces = []\n",
    "\n",
    "    for i in range(nb_rangs):\n",
    "        for j in range(nb_pvp_rangs):\n",
    "            x = (j * column_spacing) - GRID_SIZE / 2\n",
    "            y = (i * row_spacing) - GRID_SIZE / 2\n",
    "            surface = create_surface(x, y, length, width)\n",
    "            if surface:\n",
    "                # Rotation autour de l'axe X pour chaque Brep individuellement\n",
    "                center_of_surface = Point3d(x + length / 2, y + width / 2, 0)\n",
    "                rotation_x = Transform.Rotation(angle_variable * (System.Math.PI / 180), Vector3d.YAxis, center_of_surface)\n",
    "                surface.Transform(rotation_x)\n",
    "                grid_surfaces.append(surface.ToBrep())\n",
    "\n",
    "    # Assembler tous les Brep en un seul\n",
    "    final_brep = rg.Brep()\n",
    "    for brep in grid_surfaces:\n",
    "        final_brep.Append(brep)\n",
    " \n",
    "    # Rotation globale autour de l'axe Z au centre de la grille (origine)\n",
    "    rotation_z = Transform.Rotation(angle_orientation * (System.Math.PI / 180), Vector3d.ZAxis, rg.Point3d.Origin)\n",
    "    final_brep.Transform(rotation_z)\n",
    "\n",
    "    # Translation globale sur l'axe Z, équivalente à la hauteur de l'entraxe\n",
    "    translation_z = Transform.Translation(0,0,HAUTEUR)\n",
    "    final_brep.Transform(translation_z)\n",
    "    \n",
    "    return final_brep"
   ]
  },
  {
   "cell_type": "code",
   "execution_count": 121,
   "metadata": {},
   "outputs": [],
   "source": [
    "### VISUALISATION AVEC RHINO\n",
    "def export_brep_to_file(brep, filename):\n",
    "    file = File3dm()\n",
    "    file.Objects.AddBrep(brep)\n",
    "    file.Write(filename, 7)  # Version 7 pour Rhino 7"
   ]
  },
  {
   "cell_type": "code",
   "execution_count": 123,
   "metadata": {},
   "outputs": [],
   "source": [
    "final_rotated_brep = create_and_rotate_grid(NB_RANGS, NB_PVP_RANGS, RAMPANT, LONGUEUR_PVP, column_spacing, row_spacing, ANGLE_ORIENTATION, ANGLE_VARIABLE)\n",
    "\n",
    "### VISUALISATION AVEC RHINO\n",
    "export_brep_to_file(final_rotated_brep, \"output2.3dm\")"
   ]
  },
  {
   "cell_type": "markdown",
   "metadata": {},
   "source": [
    "Géométrie prête !"
   ]
  },
  {
   "cell_type": "markdown",
   "metadata": {},
   "source": [
    "IMPORT_EPW"
   ]
  },
  {
   "cell_type": "code",
   "execution_count": 110,
   "metadata": {},
   "outputs": [],
   "source": [
    "from __future__ import division\n",
    "\n",
    "import collections\n",
    "import array\n",
    "import math\n",
    "try:\n",
    "    import Rhino.UI as rui\n",
    "except ImportError as e:\n",
    "    raise ImportError(\"Failed to import Rhino.\\n{}\".format(e))\n",
    "import ladybug.epw as epw"
   ]
  },
  {
   "cell_type": "code",
   "execution_count": 111,
   "metadata": {},
   "outputs": [],
   "source": [
    "_epw_file_path = \"FRA_AC_Agen-La.Garenne.AP.075240_TMYx.epw\"\n",
    "\n",
    "epw_data = epw.EPW(_epw_file_path)\n",
    "location = epw_data.location #######\n",
    "direct_normal_rad = epw_data.direct_normal_radiation #########\n",
    "diffuse_horizontal_rad = epw_data.diffuse_horizontal_radiation #########"
   ]
  },
  {
   "cell_type": "markdown",
   "metadata": {},
   "source": [
    "SKY_MATRIX"
   ]
  },
  {
   "cell_type": "code",
   "execution_count": 112,
   "metadata": {},
   "outputs": [],
   "source": [
    "\n",
    "try:\n",
    "    from ladybug_geometry.geometry2d.pointvector import Vector2D\n",
    "except ImportError as e:\n",
    "    raise ImportError('\\nFailed to import ladybug_geometry:\\n\\t{}'.format(e))\n",
    "\n",
    "try:\n",
    "    from ladybug_radiance.skymatrix import SkyMatrix\n",
    "except ImportError as e:\n",
    "    raise ImportError('\\nFailed to import ladybug:\\n\\t{}'.format(e))\n",
    "\n",
    "try:\n",
    "    from ladybug_rhino.togeometry import to_vector2d\n",
    "except ImportError as e:\n",
    "    raise ImportError('\\nFailed to import ladybug_rhino:\\n\\t{}'.format(e))\n",
    "\n",
    "try:\n",
    "    from lbt_recipes.version import check_radiance_date\n",
    "except ImportError as e:\n",
    "    raise ImportError('\\nFailed to import honeybee_radiance:\\n\\t{}'.format(e))\n",
    "\n",
    "# check the istalled Radiance date and get the path to the gemdaymtx executable\n",
    "check_radiance_date()"
   ]
  },
  {
   "cell_type": "code",
   "execution_count": 114,
   "metadata": {},
   "outputs": [
    {
     "name": "stdout",
     "output_type": "stream",
     "text": [
      "0\n"
     ]
    }
   ],
   "source": [
    "###SKY MATRIX\n",
    "# process and set defaults for all of the global inputs\n",
    "north_ = None\n",
    "_location = location\n",
    "_direct_rad = direct_normal_rad\n",
    "_diffuse_rad = diffuse_horizontal_rad\n",
    "_folder_ = \"C:/Users/maceo.valente/Documents/Automatisation/TEST_MVA/TSAgriPV/cielMatrices\"\n",
    " \n",
    "if north_ is not None:  # process the north_\n",
    "    try:\n",
    "        north_ = math.degrees(\n",
    "            to_vector2d(north_).angle_clockwise(Vector2D(0, 1)))\n",
    "    except AttributeError:  # north angle instead of vector\n",
    "        north_ = float(north_)\n",
    "\n",
    "# create the sky matrix object\n",
    "sky_mtx = SkyMatrix.from_components(\n",
    "    _location, _direct_rad, _diffuse_rad, \n",
    "    #_hoys_, north_, high_density_, ground_r\n",
    "    )\n",
    "if _folder_:\n",
    "    sky_mtx.folder = _folder_\n",
    "\n",
    "print(sky_mtx.north)"
   ]
  },
  {
   "cell_type": "markdown",
   "metadata": {},
   "source": [
    "Incident Radiation"
   ]
  },
  {
   "cell_type": "code",
   "execution_count": 115,
   "metadata": {},
   "outputs": [],
   "source": [
    "try:\n",
    "    from ladybug.viewsphere import view_sphere\n",
    "    from ladybug.graphic import GraphicContainer\n",
    "    from ladybug.legend import LegendParameters\n",
    "    from ladybug.color import Colorset\n",
    "except ImportError as e:\n",
    "    raise ImportError('\\nFailed to import ladybug:\\n\\t{}'.format(e))\n",
    "\n",
    "try:\n",
    "    from ladybug_rhino.config import conversion_to_meters\n",
    "    from ladybug_rhino.togeometry import to_joined_gridded_mesh3d\n",
    "    from ladybug_rhino.fromgeometry import from_mesh3d, from_point3d, from_vector3d\n",
    "except ImportError as e:\n",
    "    raise ImportError('\\nFailed to import ladybug_rhino:\\n\\t{}'.format(e))"
   ]
  },
  {
   "cell_type": "markdown",
   "metadata": {},
   "source": [
    "Créer une surface de récupération des données :"
   ]
  },
  {
   "cell_type": "markdown",
   "metadata": {},
   "source": []
  },
  {
   "cell_type": "code",
   "execution_count": 116,
   "metadata": {},
   "outputs": [
    {
     "ename": "TypeError",
     "evalue": "'NoneType' object is not iterable",
     "output_type": "error",
     "traceback": [
      "\u001b[1;31m---------------------------------------------------------------------------\u001b[0m",
      "\u001b[1;31mTypeError\u001b[0m                                 Traceback (most recent call last)",
      "\u001b[1;32m~\\AppData\\Local\\Temp\\ipykernel_21688\\426843137.py\u001b[0m in \u001b[0;36m<module>\u001b[1;34m\u001b[0m\n\u001b[0;32m     17\u001b[0m \u001b[1;33m\u001b[0m\u001b[0m\n\u001b[0;32m     18\u001b[0m \u001b[1;31m# create the gridded mesh from the geometry\u001b[0m\u001b[1;33m\u001b[0m\u001b[1;33m\u001b[0m\u001b[1;33m\u001b[0m\u001b[0m\n\u001b[1;32m---> 19\u001b[1;33m \u001b[0mstudy_mesh\u001b[0m \u001b[1;33m=\u001b[0m \u001b[0mto_joined_gridded_mesh3d\u001b[0m\u001b[1;33m(\u001b[0m\u001b[0m_geometry\u001b[0m\u001b[1;33m,\u001b[0m \u001b[0m_grid_size\u001b[0m\u001b[1;33m)\u001b[0m\u001b[1;33m\u001b[0m\u001b[1;33m\u001b[0m\u001b[0m\n\u001b[0m\u001b[0;32m     20\u001b[0m points = [from_point3d(pt.move(vec * _offset_dist_)) for pt, vec in\n\u001b[0;32m     21\u001b[0m           zip(study_mesh.face_centroids, study_mesh.face_normals)]\n",
      "\u001b[1;32mc:\\Users\\maceo.valente\\.virtualenvs\\TSAgriPV-XqNYGekU\\lib\\site-packages\\ladybug_rhino\\togeometry.py\u001b[0m in \u001b[0;36mto_joined_gridded_mesh3d\u001b[1;34m(geometry, grid_size, offset_distance)\u001b[0m\n\u001b[0;32m    345\u001b[0m     \"\"\"\n\u001b[0;32m    346\u001b[0m     \u001b[0mlb_meshes\u001b[0m \u001b[1;33m=\u001b[0m \u001b[1;33m[\u001b[0m\u001b[1;33m]\u001b[0m\u001b[1;33m\u001b[0m\u001b[1;33m\u001b[0m\u001b[0m\n\u001b[1;32m--> 347\u001b[1;33m     \u001b[1;32mfor\u001b[0m \u001b[0mgeo\u001b[0m \u001b[1;32min\u001b[0m \u001b[0mgeometry\u001b[0m\u001b[1;33m:\u001b[0m\u001b[1;33m\u001b[0m\u001b[1;33m\u001b[0m\u001b[0m\n\u001b[0m\u001b[0;32m    348\u001b[0m         \u001b[1;32mif\u001b[0m \u001b[0misinstance\u001b[0m\u001b[1;33m(\u001b[0m\u001b[0mgeo\u001b[0m\u001b[1;33m,\u001b[0m \u001b[0mrg\u001b[0m\u001b[1;33m.\u001b[0m\u001b[0mMesh\u001b[0m\u001b[1;33m)\u001b[0m\u001b[1;33m:\u001b[0m\u001b[1;33m\u001b[0m\u001b[1;33m\u001b[0m\u001b[0m\n\u001b[0;32m    349\u001b[0m             \u001b[0mlb_meshes\u001b[0m\u001b[1;33m.\u001b[0m\u001b[0mappend\u001b[0m\u001b[1;33m(\u001b[0m\u001b[0mto_mesh3d\u001b[0m\u001b[1;33m(\u001b[0m\u001b[0mgeo\u001b[0m\u001b[1;33m)\u001b[0m\u001b[1;33m)\u001b[0m\u001b[1;33m\u001b[0m\u001b[1;33m\u001b[0m\u001b[0m\n",
      "\u001b[1;31mTypeError\u001b[0m: 'NoneType' object is not iterable"
     ]
    }
   ],
   "source": [
    "###INCIDENT RADIATION\n",
    "\n",
    "#Paramètres d'entrée :\n",
    "_sky_mtx = sky_mtx\n",
    "_geometry = None\n",
    "context_ = final_rotated_brep\n",
    "_grid_size = 1 # Finesse\n",
    "_offset_dist_ = 0.5 # Hauteur de récupération des données\n",
    "irradiance_ = False #set to default : done\n",
    "legend_par_ = None #set to default\n",
    "_cpu_count_ = 1 #set to default\n",
    "\n",
    "# set the default offset distance and _cpu_count\n",
    "_offset_dist_ = _offset_dist_ if _offset_dist_ is not None \\\n",
    "    else 0.1 / conversion_to_meters()\n",
    "workers = 1 # _cpu_count_ if _cpu_count_ is not None else recommended_processor_count()\n",
    "\n",
    "# create the gridded mesh from the geometry\n",
    "study_mesh = to_joined_gridded_mesh3d(_geometry, _grid_size)\n",
    "points = [from_point3d(pt.move(vec * _offset_dist_)) for pt, vec in\n",
    "          zip(study_mesh.face_centroids, study_mesh.face_normals)]\n",
    "\n",
    "# mesh the geometry and context\n",
    "shade_mesh = join_geometry_to_mesh(_geometry + context_)\n",
    "\n",
    "# deconstruct the matrix and get the sky dome vectors\n",
    "mtx = de_objectify_output(_sky_mtx)\n",
    "total_sky_rad = [dir_rad + dif_rad for dir_rad, dif_rad in zip(mtx[1], mtx[2])]\n",
    "ground_rad = [(sum(total_sky_rad) / len(total_sky_rad)) * mtx[0][1]] * len(total_sky_rad)\n",
    "all_rad = total_sky_rad + ground_rad \n",
    "lb_vecs = view_sphere.tregenza_dome_vectors if len(total_sky_rad) == 145 \\\n",
    "    else view_sphere.reinhart_dome_vectors\n",
    "if mtx[0][0] != 0:  # there is a north input for sky; rotate vectors\n",
    "    north_angle = math.radians(mtx[0][0])\n",
    "    lb_vecs = tuple(vec.rotate_xy(north_angle) for vec in lb_vecs)\n",
    "lb_grnd_vecs = tuple(vec.reverse() for vec in lb_vecs)\n",
    "all_vecs = [from_vector3d(vec) for vec in lb_vecs + lb_grnd_vecs]\n",
    "\n",
    "# intersect the rays with the mesh\n",
    "normals = [from_vector3d(vec) for vec in study_mesh.face_normals]\n",
    "int_matrix_init, angles = intersect_mesh_rays(\n",
    "    shade_mesh, points, all_vecs, normals, cpu_count=workers)\n",
    "\n",
    "# compute the results\n",
    "results = []\n",
    "int_matrix = []\n",
    "for int_vals, angs in zip(int_matrix_init, angles):\n",
    "    pt_rel = [ival * math.cos(ang) for ival, ang in zip(int_vals, angs)]\n",
    "    int_matrix.append(pt_rel)\n",
    "    rad_result = sum(r * w for r, w in zip(pt_rel, all_rad))\n",
    "    results.append(rad_result)\n",
    "\n",
    "# convert to irradiance if requested\n",
    "if irradiance_:\n",
    "    factor = 1000 / _sky_mtx.wea_duration if hasattr(_sky_mtx, 'wea_duration') \\\n",
    "        else 1000 / (((mtx[0][3] - mtx[0][2]).total_seconds() / 3600) + 1)\n",
    "    results = [r * factor for r in results]\n",
    "\n",
    "# output the intersection matrix and compute total radiation\n",
    "int_mtx = objectify_output('Geometry/Sky Intersection Matrix', int_matrix)\n",
    "unit_conv = conversion_to_meters() ** 2\n",
    "total = 0\n",
    "for rad, area in zip(results, study_mesh.face_areas):\n",
    "    total += rad * area * unit_conv\n",
    "\n",
    "\n",
    "# create the mesh and legend outputs\n",
    "l_par = legend_par_ if legend_par_ is not None else LegendParameters()\n",
    "if hasattr(_sky_mtx, 'benefit_matrix') and _sky_mtx.benefit_matrix is not None:\n",
    "    study_name = '{} Benefit/Harm'.format(study_name)\n",
    "    if l_par.are_colors_default:\n",
    "        l_par.colors = reversed(Colorset.benefit_harm())\n",
    "    if l_par.min is None:\n",
    "        l_par.min = min((min(results), -max(results)))\n",
    "    if l_par.max is None:\n",
    "        l_par.max = max((-min(results), max(results)))\n",
    "graphic = GraphicContainer(results, study_mesh.min, study_mesh.max, l_par)\n",
    "graphic.legend_parameters.title = 'kWh/m2' if not irradiance_ else 'W/m2'\n",
    "title = text_objects(\n",
    "    study_name, graphic.lower_title_location,\n",
    "    graphic.legend_parameters.text_height * 1.5,\n",
    "    graphic.legend_parameters.font)\n",
    "\n",
    "# create all of the visual outputs\n",
    "study_mesh.colors = graphic.value_colors\n",
    "mesh = from_mesh3d(study_mesh)\n",
    "legend = legend_objects(graphic.legend)"
   ]
  }
 ],
 "metadata": {
  "kernelspec": {
   "display_name": "TSAgriPV-XqNYGekU",
   "language": "python",
   "name": "python3"
  },
  "language_info": {
   "codemirror_mode": {
    "name": "ipython",
    "version": 3
   },
   "file_extension": ".py",
   "mimetype": "text/x-python",
   "name": "python",
   "nbconvert_exporter": "python",
   "pygments_lexer": "ipython3",
   "version": "3.7.9"
  }
 },
 "nbformat": 4,
 "nbformat_minor": 2
}
