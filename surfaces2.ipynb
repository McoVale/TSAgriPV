{
 "cells": [
  {
   "cell_type": "code",
   "execution_count": 26,
   "metadata": {},
   "outputs": [],
   "source": [
    "import rhinoinside\n",
    "rhinoinside.load()\n",
    "import System\n",
    "import Rhino.Geometry as rg\n",
    "from Rhino.Geometry import Point3d, Plane, Brep, Vector3d\n",
    "from Rhino.Geometry import Surface as RhinoSurface\n",
    "from Rhino.Geometry import Polyline\n",
    "from Rhino.Collections import Point3dList\n",
    "from Rhino.Geometry import PolylineCurve\n",
    "from Rhino.Geometry import Transform\n",
    "from Rhino.FileIO import File3dm\n",
    "\n",
    "import time\n",
    "import numpy as np"
   ]
  },
  {
   "cell_type": "markdown",
   "metadata": {},
   "source": [
    "PARAMETRAGE"
   ]
  },
  {
   "cell_type": "code",
   "execution_count": 27,
   "metadata": {},
   "outputs": [],
   "source": [
    "# Paramètres de configuration\n",
    "GRID_SIZE = 100 # Taille du champ de panneau pour la simulation\n",
    "ENTRAXE = 2.5 # Espacement entre lignes de panneaux (= inter-rang)\n",
    "HAUTEUR = 3 # [0 ; 100] ; mètres ; hauter de l'axe de rotation, ou du point du PVP le plus bas.\n",
    "RAMPANT = 1.135 # Largeur du panneau\n",
    "NB_RANGS = 20 # Nombre de panneaux par ligne\n",
    "NB_PVP_RANGS = int(GRID_SIZE / ENTRAXE) # Nombre de lignes\n",
    "LONGUEUR_PVP = GRID_SIZE / (NB_RANGS) # Longueur des panneaux dans une même ligne\n",
    "\n",
    "column_spacing = ENTRAXE # Espacement entre lignes de panneaux (= inter-rang)\n",
    "row_spacing = GRID_SIZE / NB_RANGS # Espacement entre panneaux d'une même ligne (même support)\n",
    "\n",
    "ANGLE_ORIENTATION = 45  # Rotation globale autour de l'axe Z\n",
    "ANGLE_VARIABLE = -30  # Angle de rotation individuelle autour de l'axe X"
   ]
  },
  {
   "cell_type": "markdown",
   "metadata": {},
   "source": [
    "GEOMETRY"
   ]
  },
  {
   "cell_type": "code",
   "execution_count": 28,
   "metadata": {},
   "outputs": [],
   "source": [
    "def create_surface(x, y, length, width):\n",
    "    \n",
    "    points = Point3dList()\n",
    "    points.Add(x, y, 0)\n",
    "    points.Add(x + width, y, 0),\n",
    "    points.Add(x + width, y + length, 0),\n",
    "    points.Add(x, y + length, 0),\n",
    "    points.Add(x, y, 0)\n",
    "\n",
    "    # Créer une polyline\n",
    "    polyline = PolylineCurve(points)\n",
    "    \n",
    "    # Vérifier si la polyline est fermée\n",
    "    if polyline.IsClosed:\n",
    "        # Créer une extrusion de la polyline\n",
    "        direction = Vector3d(0, 0, 0.001)  # Direction d'extrusion (minimale pour simuler une surface)\n",
    "        surface = RhinoSurface.CreateExtrusion(polyline, direction)  # Extrusion minime\n",
    "        return surface\n",
    "    else:\n",
    "        return None"
   ]
  },
  {
   "cell_type": "code",
   "execution_count": 29,
   "metadata": {},
   "outputs": [],
   "source": [
    "def create_and_rotate_grid(nb_rangs, nb_pvp_rangs, width, length, column_spacing, row_spacing, angle_orientation, angle_variable):\n",
    "    grid_surfaces = []\n",
    "\n",
    "    for i in range(nb_rangs):\n",
    "        for j in range(nb_pvp_rangs):\n",
    "            x = (j * column_spacing) - GRID_SIZE / 2\n",
    "            y = (i * row_spacing) - GRID_SIZE / 2\n",
    "            surface = create_surface(x, y, length, width)\n",
    "            if surface:\n",
    "                # Rotation autour de l'axe X pour chaque Brep individuellement\n",
    "                center_of_surface = Point3d(x + length / 2, y + width / 2, 0)\n",
    "                rotation_x = Transform.Rotation(angle_variable * (System.Math.PI / 180), Vector3d.YAxis, center_of_surface)\n",
    "                surface.Transform(rotation_x)\n",
    "                grid_surfaces.append(surface.ToBrep())\n",
    "\n",
    "    # Assembler tous les Brep en un seul\n",
    "    final_brep = rg.Brep()\n",
    "    for brep in grid_surfaces:\n",
    "        final_brep.Append(brep)\n",
    " \n",
    "    # Rotation globale autour de l'axe Z au centre de la grille (origine)\n",
    "    rotation_z = Transform.Rotation(angle_orientation * (System.Math.PI / 180), Vector3d.ZAxis, rg.Point3d.Origin)\n",
    "    final_brep.Transform(rotation_z)\n",
    "\n",
    "    # Translation globale sur l'axe Z, équivalente à la hauteur de l'entraxe\n",
    "    translation_z = Transform.Translation(0,0,HAUTEUR)\n",
    "    final_brep.Transform(translation_z)\n",
    "    \n",
    "    return final_brep"
   ]
  },
  {
   "cell_type": "code",
   "execution_count": 30,
   "metadata": {},
   "outputs": [],
   "source": [
    "### VISUALISATION AVEC RHINO\n",
    "def export_brep_to_file(brep, filename):\n",
    "    file = File3dm()\n",
    "    file.Objects.AddBrep(brep)\n",
    "    file.Write(filename, 7)  # Version 7 pour Rhino 7"
   ]
  },
  {
   "cell_type": "code",
   "execution_count": 31,
   "metadata": {},
   "outputs": [],
   "source": [
    "final_rotated_brep = create_and_rotate_grid(NB_RANGS, NB_PVP_RANGS, RAMPANT, LONGUEUR_PVP, column_spacing, row_spacing, ANGLE_ORIENTATION, ANGLE_VARIABLE)\n",
    "\n",
    "### VISUALISATION AVEC RHINO\n",
    "export_brep_to_file(final_rotated_brep, \"output2.3dm\")"
   ]
  },
  {
   "cell_type": "code",
   "execution_count": 32,
   "metadata": {},
   "outputs": [
    {
     "name": "stdout",
     "output_type": "stream",
     "text": [
      "-5.0\n",
      "-5.0\n"
     ]
    }
   ],
   "source": [
    "# Paramètres de la grille\n",
    "taille_totale = 10  # La taille totale de la grille\n",
    "longueur_cote = 10  # Longueur du côté de chaque surface carrée\n",
    "nombre_surfaces = int(taille_totale / longueur_cote)  # Nombre de surfaces par ligne et colonne\n",
    "\n",
    "# Calcul de la position initiale pour centrer la grille\n",
    "debut_x = -taille_totale / 2 \n",
    "debut_y = -taille_totale / 2 \n",
    "\n",
    "print(debut_x)\n",
    "print(debut_y)\n",
    "\n",
    "# Création de l'objet Brep pour assembler toutes les surfaces\n",
    "grille_breps = rg.Brep()\n",
    "liste_breps = []\n",
    "\n",
    "# Création des surfaces et ajout à l'objet Brep\n",
    "for i in range(nombre_surfaces):\n",
    "    for j in range(nombre_surfaces):\n",
    "        x = debut_x + j * longueur_cote  # Position x de la surface courante\n",
    "        y = debut_y + i * longueur_cote  # Position y de la surface courante\n",
    "        surface_brep = create_surface(x, y, longueur_cote, longueur_cote)\n",
    "        if surface_brep:\n",
    "            grille_breps.Append(surface_brep.ToBrep())\n",
    "            liste_breps.append(surface_brep.ToBrep())"
   ]
  },
  {
   "cell_type": "code",
   "execution_count": 33,
   "metadata": {},
   "outputs": [
    {
     "name": "stdout",
     "output_type": "stream",
     "text": [
      "La nouvelle géométrie a été ajoutée au fichier existant.\n"
     ]
    }
   ],
   "source": [
    "# ##VISUALISATION\n",
    "# # Ouverture du fichier .3dm existant\n",
    "file_path = \"output2.3dm\"\n",
    "file = File3dm.Read(file_path)\n",
    "if surface_brep:\n",
    "    file.Objects.AddBrep(surface_brep.ToBrep())\n",
    "    file.Write(file_path,7)  # Réécrire le fichier avec la nouvelle géométrie ajoutée\n",
    "    print(\"La nouvelle géométrie a été ajoutée au fichier existant.\")\n",
    "else:\n",
    "    print(\"Erreur lors de la création de la surface.\")"
   ]
  },
  {
   "cell_type": "markdown",
   "metadata": {},
   "source": [
    "IMPORT_EPW"
   ]
  },
  {
   "cell_type": "code",
   "execution_count": 34,
   "metadata": {},
   "outputs": [],
   "source": [
    "from __future__ import division\n",
    "\n",
    "import collections\n",
    "import array\n",
    "import math\n",
    "try:\n",
    "    import Rhino.UI as rui\n",
    "except ImportError as e:\n",
    "    raise ImportError(\"Failed to import Rhino.\\n{}\".format(e))\n",
    "import ladybug.epw as epw"
   ]
  },
  {
   "cell_type": "code",
   "execution_count": 35,
   "metadata": {},
   "outputs": [],
   "source": [
    "_epw_file_path = \"FRA_AC_Agen-La.Garenne.AP.075240_TMYx.epw\"\n",
    "\n",
    "epw_data = epw.EPW(_epw_file_path)\n",
    "location_ = epw_data.location #######\n",
    "direct_normal_rad_ = epw_data.direct_normal_radiation #########\n",
    "diffuse_horizontal_rad_ = epw_data.diffuse_horizontal_radiation #########"
   ]
  },
  {
   "cell_type": "markdown",
   "metadata": {},
   "source": [
    "SKY_MATRIX"
   ]
  },
  {
   "cell_type": "code",
   "execution_count": 36,
   "metadata": {},
   "outputs": [],
   "source": [
    "#IMPORTS SKYMATRIX\n",
    "try:\n",
    "    from ladybug_geometry.geometry2d.pointvector import Vector2D\n",
    "except ImportError as e:\n",
    "    raise ImportError('\\nFailed to import ladybug_geometry:\\n\\t{}'.format(e))\n",
    "\n",
    "try:\n",
    "    from ladybug_radiance.skymatrix import SkyMatrix\n",
    "except ImportError as e:\n",
    "    raise ImportError('\\nFailed to import ladybug:\\n\\t{}'.format(e))\n",
    "\n",
    "try:\n",
    "    from ladybug_rhino.togeometry import to_vector2d\n",
    "except ImportError as e:\n",
    "    raise ImportError('\\nFailed to import ladybug_rhino:\\n\\t{}'.format(e))\n",
    "\n",
    "try:\n",
    "    from lbt_recipes.version import check_radiance_date\n",
    "except ImportError as e:\n",
    "    raise ImportError('\\nFailed to import honeybee_radiance:\\n\\t{}'.format(e))\n",
    "\n",
    "# check the istalled Radiance date and get the path to the gemdaymtx executable\n",
    "check_radiance_date()"
   ]
  },
  {
   "cell_type": "code",
   "execution_count": 37,
   "metadata": {},
   "outputs": [
    {
     "name": "stdout",
     "output_type": "stream",
     "text": [
      "SkyMatrix [Agen-La.Garenne.AP]\n"
     ]
    }
   ],
   "source": [
    "###SKY MATRIX\n",
    "# process and set defaults for all of the global inputs\n",
    "north_ = None\n",
    "_location = location_\n",
    "_direct_rad = direct_normal_rad_\n",
    "_diffuse_rad = diffuse_horizontal_rad_\n",
    "_folder_ = \"C:/Users/maceo.valente/Documents/Automatisation/TEST_MVA/TSAgriPV/cielMatrices\"\n",
    " \n",
    "if north_ is not None:  # process the north_\n",
    "    try:\n",
    "        north_ = math.degrees(\n",
    "            to_vector2d(north_).angle_clockwise(Vector2D(0, 1)))\n",
    "    except AttributeError:  # north angle instead of vector\n",
    "        north_ = float(north_)\n",
    "\n",
    "# create the sky matrix object\n",
    "sky_mtx_to_IR = SkyMatrix.from_components(\n",
    "    _location, _direct_rad, _diffuse_rad, \n",
    "    #_hoys_, north_, high_density_, ground_r\n",
    "    )\n",
    "if _folder_:\n",
    "    sky_mtx_to_IR.folder = _folder_\n",
    "\n",
    "print(sky_mtx_to_IR)"
   ]
  },
  {
   "cell_type": "markdown",
   "metadata": {},
   "source": [
    "Imports pour Incident Radiation et Fonctions Grasshopper"
   ]
  },
  {
   "cell_type": "code",
   "execution_count": 38,
   "metadata": {},
   "outputs": [],
   "source": [
    "#IMPORTS FOR INCIDENT RADIATION\n",
    "try:\n",
    "    from ladybug.viewsphere import view_sphere\n",
    "    from ladybug.graphic import GraphicContainer\n",
    "    from ladybug.legend import LegendParameters\n",
    "    from ladybug.color import Colorset\n",
    "except ImportError as e:\n",
    "    raise ImportError('\\nFailed to import ladybug:\\n\\t{}'.format(e))\n",
    "\n",
    "try:\n",
    "    from ladybug_rhino.config import conversion_to_meters\n",
    "    from ladybug_rhino.togeometry import to_joined_gridded_mesh3d\n",
    "    from ladybug_rhino.fromgeometry import from_mesh3d, from_point3d, from_vector3d\n",
    "except ImportError as e:\n",
    "    raise ImportError('\\nFailed to import ladybug_rhino:\\n\\t{}'.format(e))\n",
    "\n",
    "try:\n",
    "    from ladybug_rhino.intersect import intersect_mesh_rays, join_geometry_to_mesh\n",
    "    #from ladybug_rhino.text import text_objects\n",
    "    #from ladybug_rhino.fromobjects import legend_objects\n",
    "except ImportError as e:\n",
    "    raise ImportError('\\nFailed to import ladybug function :\\n\\t{}'.format(e))"
   ]
  },
  {
   "cell_type": "code",
   "execution_count": 39,
   "metadata": {},
   "outputs": [],
   "source": [
    "#FONCTIONS GH\n",
    "def objectify_output(object_name, output_data):\n",
    "    \"\"\"Wrap data into a single custom Python object that can later be de-serialized.\n",
    "\n",
    "    This is meant to address the same issue as the wrap_output method but it does\n",
    "    so by simply hiding the individual items from the Grasshopper UI within a custom\n",
    "    parent object that other components can accept as input and de-objectify to\n",
    "    get access to the data. This strategy is also useful for the case of standard\n",
    "    object types like integers where the large number of data points slows down\n",
    "    the Grasshopper UI when they are output.\n",
    "\n",
    "    Args:\n",
    "        object_name: Text for the name of the custom object that will wrap the data.\n",
    "            This is how the object will display in the Grasshopper UI.\n",
    "        output_data: A list of data to be stored under the data property of\n",
    "            the output object.\n",
    "    \"\"\"\n",
    "    class Objectifier(object):\n",
    "        \"\"\"Generic class for objectifying data.\"\"\"\n",
    "\n",
    "        def __init__(self, name, data):\n",
    "            self.name = name\n",
    "            self.data = data\n",
    "\n",
    "        def ToString(self):\n",
    "            return '{} ({} items)'.format(self.name, len(self.data))\n",
    "\n",
    "    return Objectifier(object_name, output_data)\n",
    "\n",
    "def de_objectify_output(objectified_data):\n",
    "    \"\"\"Extract the data from an object that was output from the objectify_output method.\n",
    "\n",
    "    Args:\n",
    "        objectified_data: An object that has been output from the objectify_output\n",
    "            method for which data will be returned.\n",
    "    \"\"\"\n",
    "    return objectified_data.data\n",
    "\n",
    "def text_objects(text, plane, height, font='Arial',\n",
    "                 horizontal_alignment=0, vertical_alignment=5):\n",
    "    \"\"\"Generate a Bake-able Grasshopper text object from a text string and ladybug Plane.\n",
    "\n",
    "    Args:\n",
    "        text: A text string to be converted to a a Grasshopper text object.\n",
    "        plane: A Ladybug Plane object to locate and orient the text in the Rhino scene.\n",
    "        height: A number for the height of the text in the Rhino scene.\n",
    "        font: An optional text string for the font in which to draw the text.\n",
    "        horizontal_alignment: An optional integer to specify the horizontal alignment\n",
    "             of the text. Choose from: (0 = Left, 1 = Center, 2 = Right)\n",
    "        vertical_alignment: An optional integer to specify the vertical alignment\n",
    "             of the text. Choose from: (0 = Top, 1 = MiddleOfTop, 2 = BottomOfTop,\n",
    "             3 = Middle, 4 = MiddleOfBottom, 5 = Bottom, 6 = BottomOfBoundingBox)\n",
    "    \"\"\"\n",
    "    txt = Rhino.Display.Text3d(text, from_plane(plane), height)\n",
    "    txt.FontFace = font\n",
    "    txt.HorizontalAlignment = AlignmentTypes.horizontal(horizontal_alignment)\n",
    "    txt.VerticalAlignment = AlignmentTypes.vertical(vertical_alignment)\n",
    "    return TextGoo(txt)\n"
   ]
  },
  {
   "cell_type": "markdown",
   "metadata": {},
   "source": [
    "Incident Radiation"
   ]
  },
  {
   "cell_type": "code",
   "execution_count": 40,
   "metadata": {},
   "outputs": [],
   "source": [
    "###INCIDENT RADIATION\n",
    "\n",
    "#Paramètres d'entrée :\n",
    "_sky_mtx_in_IR = sky_mtx_to_IR\n",
    "_geometry = liste_breps\n",
    "context_ = final_rotated_brep\n",
    "_grid_size = 1 # Finesse\n",
    "_offset_dist_ = 0.5 # Hauteur de récupération des données (0.5 = 50cm ?)\n",
    "irradiance_ = True # False : resultats exprimés en irradiance cumulée à l'année kWh/m^2 ; True : resultats exprimés en irradiance moyenne (W/m^2)\n",
    "legend_par_ = None #set to default\n",
    "\n",
    "# set the default offset distance and _cpu_count\n",
    "_offset_dist_ = _offset_dist_ if _offset_dist_ is not None \\\n",
    "    else 0.5 / conversion_to_meters()\n",
    "workers = 1 # _cpu_count_ if _cpu_count_ is not None else recommended_processor_count()\n",
    "\n",
    "# create the gridded mesh from the geometry\n",
    "study_mesh = to_joined_gridded_mesh3d(_geometry, _grid_size)\n",
    "points = [from_point3d(pt.move(vec * _offset_dist_)) for pt, vec in\n",
    "          zip(study_mesh.face_centroids, study_mesh.face_normals)]\n",
    "\n",
    "# mesh the geometry and context\n",
    "shade_mesh = join_geometry_to_mesh(_geometry + [context_])\n",
    "\n",
    "# deconstruct the matrix and get the sky dome vectors\n",
    "mtx_temp_IR = de_objectify_output(_sky_mtx_in_IR)\n",
    "total_sky_rad = [dir_rad + dif_rad for dir_rad, dif_rad in zip(mtx_temp_IR[1], mtx_temp_IR[2])]\n",
    "ground_rad = [(sum(total_sky_rad) / len(total_sky_rad)) * mtx_temp_IR[0][1]] * len(total_sky_rad)\n",
    "all_rad = total_sky_rad + ground_rad \n",
    "lb_vecs = view_sphere.tregenza_dome_vectors if len(total_sky_rad) == 145 \\\n",
    "    else view_sphere.reinhart_dome_vectors\n",
    "if mtx_temp_IR[0][0] != 0:  # there is a north input for sky; rotate vectors\n",
    "    north_angle = math.radians(mtx_temp_IR[0][0])\n",
    "    lb_vecs = tuple(vec.rotate_xy(north_angle) for vec in lb_vecs)\n",
    "lb_grnd_vecs = tuple(vec.reverse() for vec in lb_vecs)\n",
    "all_vecs = [from_vector3d(vec) for vec in lb_vecs + lb_grnd_vecs]\n",
    "\n",
    "# intersect the rays with the mesh\n",
    "normals = [from_vector3d(vec) for vec in study_mesh.face_normals]\n",
    "int_matrix_init, angles = intersect_mesh_rays(\n",
    "    shade_mesh, points, all_vecs, normals, cpu_count=workers)\n",
    "\n",
    "# compute the results\n",
    "results = []\n",
    "int_matrix = []\n",
    "for int_vals, angs in zip(int_matrix_init, angles):\n",
    "    pt_rel = [ival * math.cos(ang) for ival, ang in zip(int_vals, angs)]\n",
    "    int_matrix.append(pt_rel)\n",
    "    rad_result = sum(r * w for r, w in zip(pt_rel, all_rad))\n",
    "    results.append(rad_result)\n",
    "\n",
    "# convert to irradiance if requested -> PAS EXECUTE\n",
    "if irradiance_:\n",
    "    factor = 1000 / _sky_mtx_in_IR.wea_duration if hasattr(_sky_mtx_in_IR, 'wea_duration') \\\n",
    "        else 1000 / (((mtx_temp_IR[0][3] - mtx_temp_IR[0][2]).total_seconds() / 3600) + 1)\n",
    "    results = [r * factor for r in results]\n",
    "\n",
    "# output the intersection matrix and compute total radiation\n",
    "int_mtx_to_RTIR = objectify_output('Geometry/Sky Intersection Matrix', int_matrix)\n",
    "unit_conv = conversion_to_meters() ** 2\n",
    "total = 0\n",
    "for rad, area in zip(results, study_mesh.face_areas):\n",
    "    total += rad * area * unit_conv\n"
   ]
  },
  {
   "cell_type": "code",
   "execution_count": 41,
   "metadata": {},
   "outputs": [],
   "source": [
    "# start_time = time.time()\n",
    "# end_time = time.time()\n",
    "# elapsed_time = end_time - start_time\n",
    "# print(f\"Le temps d'exécution est de {elapsed_time:.3f} secondes.\")"
   ]
  },
  {
   "cell_type": "markdown",
   "metadata": {},
   "source": [
    "BOUCLE IV : Pour chaque heure de l'année, calculer une nouvelle sky_mtx et appliquer LB Real Time Incident Radiation avec la int_mtx créée lors de LB Incident Radiation"
   ]
  },
  {
   "cell_type": "code",
   "execution_count": 42,
   "metadata": {},
   "outputs": [],
   "source": [
    "from datetime import datetime, timedelta\n",
    "import ladybug.analysisperiod as ap\n",
    "\n",
    "# Définir le début et la fin de l'année\n",
    "start_date = datetime(year=2023, month=1, day=1, hour=8)  # Début de l'année\n",
    "end_date = datetime(year=2024, month=1, day=1, hour=0)  # Fin de l'année (début de l'année suivante)\n",
    "\n",
    "# Boucle sur chaque heure de l'année\n",
    "current_date = start_date\n",
    "int_mtx_temp_in_RTIR = de_objectify_output(int_mtx_to_RTIR)\n",
    "columns = []\n",
    "\n",
    "while current_date < end_date:\n",
    "    ###############\n",
    "    ####BOUCLE IV##\n",
    "    ###############\n",
    "\n",
    "    if current_date.hour >= 20:\n",
    "        # Passer au jour suivant à 8h\n",
    "        current_date += timedelta(days=1)  # Ajoute un jour\n",
    "        current_date = current_date.replace(hour=8)  # Change l'heure à 8h\n",
    "        continue\n",
    "\n",
    "    ##Analysis Period##-----------------\n",
    "\n",
    "    anp = ap.AnalysisPeriod(\n",
    "        current_date.month, current_date.day, current_date.hour, # STARTING DATES\n",
    "        next_date.month, next_date.day, next_date.hour, # ENDING DATES\n",
    "        1) # TIMESTEP PER HOUR (SET TO 1)\n",
    "    hoys_sm = anp.hoys\n",
    "    \n",
    "\n",
    "    ##Analysis Period##-----------------\n",
    "    ##Temporary SkyMatrix##-------------\n",
    "\n",
    "    sky_mtx_boucle = SkyMatrix.from_components(\n",
    "        location = location_,\n",
    "        direct_normal_irradiance = direct_normal_rad_,\n",
    "        diffuse_horizontal_irradiance = diffuse_horizontal_rad_,\n",
    "        hoys=hoys_sm)\n",
    "    if _folder_:\n",
    "        sky_mtx_boucle.folder = _folder_\n",
    "\n",
    "    ##Temporary SkyMatrix##-------------\n",
    "    ##LB RTIR##-------------------------\n",
    "\n",
    "    sky_mtx_temp_RTIR = de_objectify_output(sky_mtx_boucle)\n",
    "    total_sky_rad = [dirr + difr for dirr, difr in zip(sky_mtx_temp_RTIR[1], sky_mtx_temp_RTIR[2])]\n",
    "    ground_rad = [(sum(total_sky_rad) / len(total_sky_rad)) * sky_mtx_temp_RTIR[0][1]] * len(total_sky_rad)\n",
    "    all_rad = total_sky_rad + ground_rad \n",
    "    results_RTIR = []\n",
    "    for pt_rel in int_mtx_temp_in_RTIR:\n",
    "        results_RTIR.append(sum(r * w for r, w in zip(pt_rel, all_rad)))\n",
    "    columns.append(results_RTIR)\n",
    "\n",
    "    ##LB RTIR##-------------------------\n",
    "\n",
    "    current_date += timedelta(hours=1)  # Incrémenter de une heure\n",
    "\n",
    "    ###############\n",
    "    ####BOUCLE IV##\n",
    "    ###############\n",
    "\n",
    "data = np.column_stack(columns)"
   ]
  },
  {
   "cell_type": "markdown",
   "metadata": {},
   "source": [
    "Garder 8h - 20h ; tester 6h - 22h\n",
    "Réduire la géométrie\n",
    "Etudier impact de différence entre 1° et 5° (pas)\n",
    "\n",
    "Localiser les résultas\n",
    "\n"
   ]
  },
  {
   "cell_type": "code",
   "execution_count": 44,
   "metadata": {},
   "outputs": [
    {
     "name": "stdout",
     "output_type": "stream",
     "text": [
      "4380\n",
      "40\n",
      "4380.0\n"
     ]
    }
   ],
   "source": [
    "print(len(data[0]))\n",
    "print(len(data))\n",
    "print(8760/2)\n"
   ]
  },
  {
   "cell_type": "code",
   "execution_count": 18,
   "metadata": {},
   "outputs": [
    {
     "data": {
      "image/png": "[encoded data removed]",
      "text/plain": [
       "<Figure size 800x600 with 2 Axes>"
      ]
     },
     "metadata": {},
     "output_type": "display_data"
    },
    {
     "data": {
      "image/png": "[encoded data removed]",
      "text/plain": [
       "<Figure size 640x480 with 1 Axes>"
      ]
     },
     "metadata": {},
     "output_type": "display_data"
    }
   ],
   "source": [
    "#VISU GRAPHIQUE DES RESULTATS\n",
    "import numpy as np\n",
    "import matplotlib.pyplot as plt\n",
    "\n",
    "# Génération de données aléatoires pour l'exemple\n",
    "data = results\n",
    "# Calculer les moyennes pour chaque bloc de 100 valeurs\n",
    "averages = [np.mean(data[i:i+10]) for i in range(0, 40, 10)]\n",
    "\n",
    "# Créer une matrice 4x4 à partir de ces moyennes\n",
    "matrix = np.array(averages).reshape(4, 4)\n",
    "\n",
    "# Créer un heatmap\n",
    "plt.figure(figsize=(8, 6))\n",
    "plt.imshow(matrix, cmap='viridis', interpolation='nearest')\n",
    "plt.colorbar(label='Moyenne des valeurs')\n",
    "plt.title('Heatmap des moyennes de 20 valeurs consécutives')\n",
    "plt.xlabel('Index de colonne')\n",
    "plt.ylabel('Index de ligne')\n",
    "\n",
    "# Ajouter les annotations pour chaque case\n",
    "for i in range(4):\n",
    "    for j in range(4):\n",
    "        plt.text(j, i, f'{matrix[i, j]:.2f}', ha='center', va='center', color='white')\n",
    "\n",
    "plt.show()\n",
    "\n",
    "plt.hist(data, bins='auto', alpha=0.7, color='blue', edgecolor='black')\n",
    "\n",
    "# Ajouter des titres et des labels\n",
    "plt.title('Histogramme des Valeurs')\n",
    "plt.xlabel('Valeurs')\n",
    "plt.ylabel('Fréquence')\n",
    "\n",
    "# Afficher l'histogramme\n",
    "plt.show()"
   ]
  }
 ],
 "metadata": {
  "kernelspec": {
   "display_name": "TSAgriPV-XqNYGekU",
   "language": "python",
   "name": "python3"
  },
  "language_info": {
   "codemirror_mode": {
    "name": "ipython",
    "version": 3
   },
   "file_extension": ".py",
   "mimetype": "text/x-python",
   "name": "python",
   "nbconvert_exporter": "python",
   "pygments_lexer": "ipython3",
   "version": "3.7.9"
  }
 },
 "nbformat": 4,
 "nbformat_minor": 2
}
