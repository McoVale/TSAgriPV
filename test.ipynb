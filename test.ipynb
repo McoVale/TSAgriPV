{
 "cells": [
  {
   "cell_type": "code",
   "execution_count": 1,
   "metadata": {},
   "outputs": [],
   "source": [
    "###IMPORTS\n",
    "\n",
    "from __future__ import division\n",
    "\n",
    "import collections\n",
    "import array\n",
    "import math\n",
    "\n",
    "import rhinoinside\n",
    "rhinoinside.load()\n",
    "import Rhino\n",
    "\n",
    "try:\n",
    "    import Rhino.UI as rui\n",
    "except ImportError as e:\n",
    "    raise ImportError(\"Failed to import Rhino.\\n{}\".format(e))"
   ]
  },
  {
   "cell_type": "markdown",
   "metadata": {},
   "source": [
    "IMPORT_EPW"
   ]
  },
  {
   "cell_type": "code",
   "execution_count": 2,
   "metadata": {},
   "outputs": [],
   "source": [
    "import ladybug.epw as epw\n",
    "\n",
    "_epw_file_path = \"FRA_AC_Agen-La.Garenne.AP.075240_TMYx.epw\"\n",
    "\n",
    "epw_data = epw.EPW(_epw_file_path)\n",
    "location = epw_data.location #######    \n",
    "# dry_bulb_temperature = epw_data.dry_bulb_temperature\n",
    "# dew_point_temperature = epw_data.dew_point_temperature\n",
    "# relative_humidity = epw_data.relative_humidity\n",
    "# wind_speed = epw_data.wind_speed\n",
    "# wind_direction = epw_data.wind_direction\n",
    "direct_normal_rad = epw_data.direct_normal_radiation #########\n",
    "diffuse_horizontal_rad = epw_data.diffuse_horizontal_radiation #########\n",
    "# global_horizontal_rad = epw_data.global_horizontal_radiation\n",
    "# horizontal_infrared_rad = epw_data.horizontal_infrared_radiation_intensity\n",
    "# direct_normal_ill = epw_data.direct_normal_illuminance\n",
    "# diffuse_horizontal_ill = epw_data.diffuse_horizontal_illuminance\n",
    "# global_horizontal_ill = epw_data.global_horizontal_illuminance\n",
    "# total_sky_cover = epw_data.total_sky_cover\n",
    "# barometric_pressure = epw_data.atmospheric_station_pressure\n",
    "# model_year = epw_data.years\n",
    "# g_temp = epw_data.monthly_ground_temperature\n",
    "# ground_temperature = [g_temp[key] for key in sorted(g_temp.keys())]\n"
   ]
  },
  {
   "cell_type": "markdown",
   "metadata": {},
   "source": [
    "SKYMATRIX"
   ]
  },
  {
   "cell_type": "code",
   "execution_count": 3,
   "metadata": {},
   "outputs": [],
   "source": [
    "###IMPORTS SKY MATRIX\n",
    "import math\n",
    "\n",
    "try:\n",
    "    from ladybug_geometry.geometry2d.pointvector import Vector2D\n",
    "except ImportError as e:\n",
    "    raise ImportError('\\nFailed to import ladybug_geometry:\\n\\t{}'.format(e))\n",
    "\n",
    "try:\n",
    "    from ladybug_radiance.skymatrix import SkyMatrix\n",
    "except ImportError as e:\n",
    "    raise ImportError('\\nFailed to import ladybug:\\n\\t{}'.format(e))\n",
    "\n",
    "try:\n",
    "    from ladybug_rhino.togeometry import to_vector2d\n",
    "except ImportError as e:\n",
    "    raise ImportError('\\nFailed to import ladybug_rhino:\\n\\t{}'.format(e))\n",
    "\n",
    "try:\n",
    "    from lbt_recipes.version import check_radiance_date\n",
    "except ImportError as e:\n",
    "    raise ImportError('\\nFailed to import honeybee_radiance:\\n\\t{}'.format(e))\n",
    "\n",
    "# check the istalled Radiance date and get the path to the gemdaymtx executable\n",
    "check_radiance_date()\n"
   ]
  },
  {
   "cell_type": "code",
   "execution_count": 4,
   "metadata": {},
   "outputs": [
    {
     "name": "stdout",
     "output_type": "stream",
     "text": [
      "0\n"
     ]
    }
   ],
   "source": [
    "###SKY MATRIX\n",
    "# process and set defaults for all of the global inputs\n",
    "north_ = 0\n",
    "_location = location\n",
    "_direct_rad = direct_normal_rad\n",
    "_diffuse_rad = diffuse_horizontal_rad\n",
    "_folder_ = \"C:/Users/maceo.valente/Documents/Automatisation/TEST_MVA/TSAgriPV/cielMatrices\"\n",
    " \n",
    "if north_ is not None:  # process the north_\n",
    "    try:\n",
    "        north_ = math.degrees(\n",
    "            to_vector2d(north_).angle_clockwise(Vector2D(0, 1)))\n",
    "    except AttributeError:  # north angle instead of vector\n",
    "        north_ = float(north_)\n",
    "\n",
    "# create the sky matrix object\n",
    "sky_mtx = SkyMatrix.from_components(\n",
    "    _location, _direct_rad, _diffuse_rad, \n",
    "    #_hoys_, north_, high_density_, ground_r\n",
    "    )\n",
    "if _folder_:\n",
    "    sky_mtx.folder = _folder_\n",
    "\n",
    "print(sky_mtx.north)"
   ]
  },
  {
   "cell_type": "markdown",
   "metadata": {},
   "source": [
    "#####\n",
    "ORIENTATION"
   ]
  },
  {
   "cell_type": "code",
   "execution_count": 17,
   "metadata": {},
   "outputs": [
    {
     "name": "stdout",
     "output_type": "stream",
     "text": [
      "0,1,0\n",
      "Origin=0,0,0 XAxis=1,0,0, YAxis=0,1,0, ZAxis=0,0,1\n",
      "-0.5,0.866025403784439,0\n"
     ]
    }
   ],
   "source": [
    "ORIENTATION_PARCELLE = 30 # [-180 ; 180] ; degrés ; orientation parcelle par rapport à l'axe Nord Sud\n",
    "HAUTEUR = 3 # [0 ; 100] ; mètres ; hauter de l'axe de rotation, ou du point du PVP le plus bas.\n",
    "ENTRAXE = 2.5 # [0 ; 10] ; mètres ; distance entre deux rang de panneaux, prises aux axes de rotation dans le cadre du tracking \n",
    "RAMPANT = 1.134 # [0 ; 10] mètres ; largeur des panneaux (dimension selon l'axe EST-OUEST)\n",
    "\n",
    "# ptOri = Rhino.Geometry.Point3d(0,0,0)\n",
    "# pt1 = Rhino.Geometry.Point3d(1,0,0)\n",
    "# pt2 = Rhino.Geometry.Point3d(0,1,0)\n",
    "\n",
    "# plan1 = Rhino.Geometry.Plane(ptOri,pt1,pt2)\n",
    "\n",
    "ORIENTATION_PARCELLE_RAD = Rhino.RhinoMath.ToRadians(ORIENTATION_PARCELLE)\n",
    "vecY = Rhino.Geometry.Vector3d.YAxis\n",
    "vecY.Rotate(angleRadians = ORIENTATION_PARCELLE_RAD, rotationAxis = Rhino.Geometry.Vector3d.ZAxis)\n",
    "print(vecY)"
   ]
  },
  {
   "cell_type": "markdown",
   "metadata": {},
   "source": [
    "TAUX DE COUVERTURE"
   ]
  },
  {
   "cell_type": "code",
   "execution_count": 42,
   "metadata": {},
   "outputs": [
    {
     "name": "stdout",
     "output_type": "stream",
     "text": [
      "False\n",
      "<bound method 'GetUserString'>\n"
     ]
    }
   ],
   "source": [
    "NB_RANGS = 100/ENTRAXE\n",
    "NB_PVP_RANG = 20\n",
    "\n",
    "corn1 = Rhino.Geometry.Point3d(-50,-50,0)\n",
    "corn2 = Rhino.Geometry.Point3d(-50,50,0)\n",
    "corn3 = Rhino.Geometry.Point3d(50,50,0)\n",
    "corn4 = Rhino.Geometry.Point3d(50,-50,0)\n",
    "\n",
    "surf = Rhino.Geometry.NurbsSurface.CreateFromCorners(corn1,corn2,corn3,corn4)\n",
    "brepSurf = surf.ToBrep()\n",
    "\n",
    "pointGrid1 = Rhino.Geometry.Point3dGrid(int(NB_RANGS),NB_PVP_RANG)\n",
    "a = surf.IsCone()\n",
    "print(a)\n",
    "print(pointGrid1.GetUserString)"
   ]
  },
  {
   "cell_type": "code",
   "execution_count": 35,
   "metadata": {},
   "outputs": [],
   "source": []
  }
 ],
 "metadata": {
  "kernelspec": {
   "display_name": "TSAgriPV-XqNYGekU",
   "language": "python",
   "name": "python3"
  },
  "language_info": {
   "codemirror_mode": {
    "name": "ipython",
    "version": 3
   },
   "file_extension": ".py",
   "mimetype": "text/x-python",
   "name": "python",
   "nbconvert_exporter": "python",
   "pygments_lexer": "ipython3",
   "version": "3.7.9"
  }
 },
 "nbformat": 4,
 "nbformat_minor": 2
}
