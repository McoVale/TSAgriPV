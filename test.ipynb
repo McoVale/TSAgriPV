{
 "cells": [
  {
   "cell_type": "markdown",
   "metadata": {},
   "source": [
    "TEST"
   ]
  },
  {
   "cell_type": "code",
   "execution_count": 1,
   "metadata": {},
   "outputs": [],
   "source": [
    "##IMPORTS\n",
    "from __future__ import division\n",
    "import rhinoinside\n",
    "rhinoinside.load()\n",
    "import System\n",
    "import Rhino.Geometry as rg\n",
    "from Rhino.Geometry import Point3d, Plane, Brep, Vector3d\n",
    "from Rhino.Geometry import Surface as RhinoSurface\n",
    "from Rhino.Geometry import Polyline\n",
    "from Rhino.Collections import Point3dList\n",
    "from Rhino.Geometry import PolylineCurve\n",
    "from Rhino.Geometry import Transform\n",
    "from Rhino.FileIO import File3dm\n",
    "\n",
    "import Rhino.UI as rui\n",
    "import ladybug.epw as epw\n",
    "\n",
    "from ladybug_geometry.geometry2d.pointvector import Vector2D\n",
    "from ladybug_radiance.skymatrix import SkyMatrix\n",
    "from lbt_recipes.version import check_radiance_date\n",
    "\n",
    "#IMPORTS FOR INCIDENT RADIATION\n",
    "from ladybug.viewsphere import view_sphere\n",
    "from ladybug.graphic import GraphicContainer\n",
    "from ladybug.legend import LegendParameters\n",
    "from ladybug.color import Colorset\n",
    "\n",
    "from ladybug_rhino.config import conversion_to_meters\n",
    "from ladybug_rhino.togeometry import to_joined_gridded_mesh3d, to_vector2d\n",
    "from ladybug_rhino.fromgeometry import from_mesh3d, from_point3d, from_vector3d\n",
    "from ladybug_rhino.intersect import intersect_mesh_rays, join_geometry_to_mesh\n",
    "\n",
    "import ladybug.analysisperiod as ap \n",
    "\n",
    "from datetime import datetime, timedelta\n",
    "import collections\n",
    "import array\n",
    "import math\n",
    "import time\n",
    "import numpy as np\n",
    "import matplotlib.pyplot as plt\n",
    "\n",
    "# check the installed Radiance date and get the path to the gemdaymtx executable\n",
    "check_radiance_date()"
   ]
  },
  {
   "cell_type": "code",
   "execution_count": 4,
   "metadata": {},
   "outputs": [],
   "source": [
    "def de_objectify_output(objectified_data):\n",
    "    \"\"\"Extract the data from an object that was output from the objectify_output method.\n",
    "\n",
    "    Args:\n",
    "        objectified_data: An object that has been output from the objectify_output\n",
    "            method for which data will be returned.\n",
    "    \"\"\"\n",
    "    return objectified_data.data"
   ]
  },
  {
   "cell_type": "code",
   "execution_count": 2,
   "metadata": {},
   "outputs": [],
   "source": [
    "_epw_file_path = \"FRA_AC_Agen-La.Garenne.AP.075240_TMYx.epw\"\n",
    "\n",
    "epw_data = epw.EPW(_epw_file_path)\n",
    "location_ = epw_data.location #######\n",
    "direct_normal_rad_ = epw_data.direct_normal_radiation #########\n",
    "diffuse_horizontal_rad_ = epw_data.diffuse_horizontal_radiation #########"
   ]
  },
  {
   "cell_type": "code",
   "execution_count": 3,
   "metadata": {},
   "outputs": [],
   "source": [
    "###SKY MATRIX\n",
    "# process and set defaults for all of the global inputs\n",
    "north_ = None\n",
    "_location = location_\n",
    "_direct_rad = direct_normal_rad_\n",
    "_diffuse_rad = diffuse_horizontal_rad_\n",
    "_folder_ = \"C:/Users/maceo.valente/Documents/Automatisation/TEST_MVA/TSAgriPV/cielMatrices\"\n",
    " \n",
    "if north_ is not None:  # process the north_\n",
    "    try:\n",
    "        north_ = math.degrees(\n",
    "            to_vector2d(north_).angle_clockwise(Vector2D(0, 1)))\n",
    "    except AttributeError:  # north angle instead of vector\n",
    "        north_ = float(north_)\n",
    "\n",
    "# create the sky matrix object\n",
    "sky_mtx_to_IR = SkyMatrix.from_components(\n",
    "    _location, _direct_rad, _diffuse_rad, \n",
    "    #_hoys_, north_, high_density_, ground_r\n",
    "    )\n",
    "if _folder_:\n",
    "    sky_mtx_to_IR.folder = _folder_"
   ]
  },
  {
   "cell_type": "code",
   "execution_count": 7,
   "metadata": {},
   "outputs": [
    {
     "name": "stdout",
     "output_type": "stream",
     "text": [
      "Le temps d'exécution 1 est de 0.000 secondes.\n"
     ]
    }
   ],
   "source": [
    "start_time2 = time.time()\n",
    "###########################CODE TO TEST#############################################\n",
    "\n",
    "skymat = de_objectify_output(sky_mtx_to_IR)\n",
    "\n",
    "###########################CODE TO TEST#############################################\n",
    "end_time2 = time.time()\n",
    "elapsed_time2 = end_time2 - start_time2\n",
    "print(f\"Le temps d'exécution 1 est de {elapsed_time2:.3f} secondes.\")"
   ]
  },
  {
   "cell_type": "code",
   "execution_count": null,
   "metadata": {},
   "outputs": [],
   "source": [
    "start_timeap = time.time()\n",
    "###########################CODE TO TEST#############################################\n",
    "\n",
    "\n",
    "\n",
    "###########################CODE TO TEST#############################################\n",
    "end_timeap = time.time()\n",
    "elapsed_timeap = end_timeap - start_timeap\n",
    "print(f\"Le temps d'exécution 2 est de {elapsed_timeap:.3f} secondes.\")"
   ]
  }
 ],
 "metadata": {
  "kernelspec": {
   "display_name": "TSAgriPV-XqNYGekU",
   "language": "python",
   "name": "python3"
  },
  "language_info": {
   "codemirror_mode": {
    "name": "ipython",
    "version": 3
   },
   "file_extension": ".py",
   "mimetype": "text/x-python",
   "name": "python",
   "nbconvert_exporter": "python",
   "pygments_lexer": "ipython3",
   "version": "3.7.9"
  }
 },
 "nbformat": 4,
 "nbformat_minor": 2
}
