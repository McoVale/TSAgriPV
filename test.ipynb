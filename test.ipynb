{
 "cells": [
  {
   "cell_type": "code",
   "execution_count": 1,
   "metadata": {},
   "outputs": [],
   "source": [
    "###IMPORTS\n",
    "\n",
    "from __future__ import division\n",
    "\n",
    "import ladybug.epw as epw\n",
    "\n",
    "import collections\n",
    "import array\n",
    "import math\n",
    "\n",
    "import rhinoinside\n",
    "rhinoinside.load()\n",
    "import System\n",
    "import Rhino\n",
    "\n",
    "try:\n",
    "    import Rhino.UI as rui\n",
    "except ImportError as e:\n",
    "    raise ImportError(\"Failed to import Rhino.\\n{}\".format(e))\n",
    "\n",
    "try:\n",
    "    from System import Object\n",
    "    from System.Windows import Forms\n",
    "    from System import Environment\n",
    "    import System.Security.Principal as sec\n",
    "    import System.Threading.Tasks as tasks\n",
    "except ImportError:\n",
    "    print(\"Failed to import System.\")\n",
    "\n",
    "\n"
   ]
  },
  {
   "cell_type": "markdown",
   "metadata": {},
   "source": [
    "IMPORT_EPW"
   ]
  },
  {
   "cell_type": "code",
   "execution_count": 3,
   "metadata": {},
   "outputs": [],
   "source": [
    "\n",
    "_epw_file = \"FRA_AC_Agen-La.Garenne.AP.075240_TMYx.epw\"\n",
    "\n",
    "epw_data = epw.EPW(_epw_file)\n",
    "location = epw_data.location\n",
    "dry_bulb_temperature = epw_data.dry_bulb_temperature\n",
    "dew_point_temperature = epw_data.dew_point_temperature\n",
    "relative_humidity = epw_data.relative_humidity\n",
    "wind_speed = epw_data.wind_speed\n",
    "wind_direction = epw_data.wind_direction\n",
    "direct_normal_rad = epw_data.direct_normal_radiation\n",
    "diffuse_horizontal_rad = epw_data.diffuse_horizontal_radiation\n",
    "global_horizontal_rad = epw_data.global_horizontal_radiation\n",
    "horizontal_infrared_rad = epw_data.horizontal_infrared_radiation_intensity\n",
    "direct_normal_ill = epw_data.direct_normal_illuminance\n",
    "diffuse_horizontal_ill = epw_data.diffuse_horizontal_illuminance\n",
    "global_horizontal_ill = epw_data.global_horizontal_illuminance\n",
    "total_sky_cover = epw_data.total_sky_cover\n",
    "barometric_pressure = epw_data.atmospheric_station_pressure\n",
    "model_year = epw_data.years\n",
    "g_temp = epw_data.monthly_ground_temperature\n",
    "ground_temperature = [g_temp[key] for key in sorted(g_temp.keys())]\n"
   ]
  },
  {
   "cell_type": "markdown",
   "metadata": {},
   "source": [
    "#####\n",
    "ORIENTATION"
   ]
  },
  {
   "cell_type": "code",
   "execution_count": 17,
   "metadata": {},
   "outputs": [],
   "source": [
    "\n",
    "ptOri = Rhino.Geometry.Point3d(0,0,0)\n",
    "pt1 = Rhino.Geometry.Point3d(1,0,0)\n",
    "pt2 = Rhino.Geometry.Point3d(0,1,0)\n",
    "\n",
    "plan1 = Rhino.Geometry.Plane(ptOri,pt1,pt2)"
   ]
  }
 ],
 "metadata": {
  "kernelspec": {
   "display_name": "TSAgriPV-XqNYGekU",
   "language": "python",
   "name": "python3"
  },
  "language_info": {
   "codemirror_mode": {
    "name": "ipython",
    "version": 3
   },
   "file_extension": ".py",
   "mimetype": "text/x-python",
   "name": "python",
   "nbconvert_exporter": "python",
   "pygments_lexer": "ipython3",
   "version": "3.7.9"
  }
 },
 "nbformat": 4,
 "nbformat_minor": 2
}
