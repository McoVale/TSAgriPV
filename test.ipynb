{
 "cells": [
  {
   "cell_type": "code",
   "execution_count": 1,
   "metadata": {},
   "outputs": [],
   "source": [
    "###IMPORTS\n",
    "\n",
    "from __future__ import division\n",
    "\n",
    "import collections\n",
    "import array\n",
    "import math\n",
    "\n",
    "import rhinoinside\n",
    "rhinoinside.load()\n",
    "import Rhino\n",
    "\n",
    "try:\n",
    "    import Rhino.UI as rui\n",
    "except ImportError as e:\n",
    "    raise ImportError(\"Failed to import Rhino.\\n{}\".format(e))"
   ]
  },
  {
   "cell_type": "markdown",
   "metadata": {},
   "source": [
    "IMPORT_EPW"
   ]
  },
  {
   "cell_type": "code",
   "execution_count": 2,
   "metadata": {},
   "outputs": [],
   "source": [
    "import ladybug.epw as epw\n",
    "\n",
    "_epw_file_path = \"FRA_AC_Agen-La.Garenne.AP.075240_TMYx.epw\"\n",
    "\n",
    "epw_data = epw.EPW(_epw_file_path)\n",
    "location = epw_data.location #######    \n",
    "# dry_bulb_temperature = epw_data.dry_bulb_temperature\n",
    "# dew_point_temperature = epw_data.dew_point_temperature\n",
    "# relative_humidity = epw_data.relative_humidity\n",
    "# wind_speed = epw_data.wind_speed\n",
    "# wind_direction = epw_data.wind_direction\n",
    "direct_normal_rad = epw_data.direct_normal_radiation #########\n",
    "diffuse_horizontal_rad = epw_data.diffuse_horizontal_radiation #########\n",
    "# global_horizontal_rad = epw_data.global_horizontal_radiation\n",
    "# horizontal_infrared_rad = epw_data.horizontal_infrared_radiation_intensity\n",
    "# direct_normal_ill = epw_data.direct_normal_illuminance\n",
    "# diffuse_horizontal_ill = epw_data.diffuse_horizontal_illuminance\n",
    "# global_horizontal_ill = epw_data.global_horizontal_illuminance\n",
    "# total_sky_cover = epw_data.total_sky_cover\n",
    "# barometric_pressure = epw_data.atmospheric_station_pressure\n",
    "# model_year = epw_data.years\n",
    "# g_temp = epw_data.monthly_ground_temperature\n",
    "# ground_temperature = [g_temp[key] for key in sorted(g_temp.keys())]\n"
   ]
  },
  {
   "cell_type": "markdown",
   "metadata": {},
   "source": [
    "SKYMATRIX"
   ]
  },
  {
   "cell_type": "code",
   "execution_count": 3,
   "metadata": {},
   "outputs": [],
   "source": [
    "###IMPORTS SKY MATRIX\n",
    "import math\n",
    "\n",
    "try:\n",
    "    from ladybug_geometry.geometry2d.pointvector import Vector2D\n",
    "except ImportError as e:\n",
    "    raise ImportError('\\nFailed to import ladybug_geometry:\\n\\t{}'.format(e))\n",
    "\n",
    "try:\n",
    "    from ladybug_radiance.skymatrix import SkyMatrix\n",
    "except ImportError as e:\n",
    "    raise ImportError('\\nFailed to import ladybug:\\n\\t{}'.format(e))\n",
    "\n",
    "try:\n",
    "    from ladybug_rhino.togeometry import to_vector2d\n",
    "except ImportError as e:\n",
    "    raise ImportError('\\nFailed to import ladybug_rhino:\\n\\t{}'.format(e))\n",
    "\n",
    "try:\n",
    "    from lbt_recipes.version import check_radiance_date\n",
    "except ImportError as e:\n",
    "    raise ImportError('\\nFailed to import honeybee_radiance:\\n\\t{}'.format(e))\n",
    "\n",
    "# check the istalled Radiance date and get the path to the gemdaymtx executable\n",
    "check_radiance_date()\n"
   ]
  },
  {
   "cell_type": "code",
   "execution_count": 4,
   "metadata": {},
   "outputs": [
    {
     "name": "stdout",
     "output_type": "stream",
     "text": [
      "0\n"
     ]
    }
   ],
   "source": [
    "###SKY MATRIX\n",
    "# process and set defaults for all of the global inputs\n",
    "north_ = 0\n",
    "_location = location\n",
    "_direct_rad = direct_normal_rad\n",
    "_diffuse_rad = diffuse_horizontal_rad\n",
    "_folder_ = \"C:/Users/maceo.valente/Documents/Automatisation/TEST_MVA/TSAgriPV/cielMatrices\"\n",
    " \n",
    "if north_ is not None:  # process the north_\n",
    "    try:\n",
    "        north_ = math.degrees(\n",
    "            to_vector2d(north_).angle_clockwise(Vector2D(0, 1)))\n",
    "    except AttributeError:  # north angle instead of vector\n",
    "        north_ = float(north_)\n",
    "\n",
    "# create the sky matrix object\n",
    "sky_mtx = SkyMatrix.from_components(\n",
    "    _location, _direct_rad, _diffuse_rad, \n",
    "    #_hoys_, north_, high_density_, ground_r\n",
    "    )\n",
    "if _folder_:\n",
    "    sky_mtx.folder = _folder_\n",
    "\n",
    "print(sky_mtx.north)"
   ]
  },
  {
   "cell_type": "markdown",
   "metadata": {},
   "source": [
    "#####\n",
    "ORIENTATION"
   ]
  },
  {
   "cell_type": "code",
   "execution_count": 5,
   "metadata": {},
   "outputs": [
    {
     "name": "stdout",
     "output_type": "stream",
     "text": [
      "0,1,0\n"
     ]
    }
   ],
   "source": [
    "ORIENTATION_PARCELLE = 0 # [-180 ; 180] ; degrés ; orientation parcelle par rapport à l'axe Nord Sud\n",
    "HAUTEUR = 3 # [0 ; 100] ; mètres ; hauter de l'axe de rotation, ou du point du PVP le plus bas.\n",
    "ENTRAXE = 2.5 # [0 ; 10] ; mètres ; distance entre deux rang de panneaux, prises aux axes de rotation dans le cadre du tracking \n",
    "RAMPANT = 1.134 # [0 ; 10] mètres ; largeur des panneaux (dimension selon l'axe EST-OUEST)\n",
    "\n",
    "# ptOri = Rhino.Geometry.Point3d(0,0,0)\n",
    "# pt1 = Rhino.Geometry.Point3d(1,0,0)\n",
    "# pt2 = Rhino.Geometry.Point3d(0,1,0)\n",
    "\n",
    "# plan1 = Rhino.Geometry.Plane(ptOri,pt1,pt2)\n",
    "\n",
    "ORIENTATION_PARCELLE_RAD = Rhino.RhinoMath.ToRadians(ORIENTATION_PARCELLE)\n",
    "vecY = Rhino.Geometry.Vector3d.YAxis\n",
    "vecY.Rotate(angleRadians = ORIENTATION_PARCELLE_RAD, rotationAxis = Rhino.Geometry.Vector3d.ZAxis)\n",
    "print(vecY)"
   ]
  },
  {
   "cell_type": "markdown",
   "metadata": {},
   "source": [
    "GRILLE DE POINTS"
   ]
  },
  {
   "cell_type": "code",
   "execution_count": 6,
   "metadata": {},
   "outputs": [],
   "source": [
    "import Rhino.Geometry as rg\n",
    "NB_RANGS = 100/ENTRAXE\n",
    "NB_PVP_RANG = 20\n",
    "grid_size = 100\n",
    "\n",
    "nuage = Rhino.Geometry.PointCloud()\n",
    "column_spacing = grid_size / (NB_RANGS - 1)\n",
    "row_spacing = grid_size / (NB_PVP_RANG - 1)\n",
    "\n",
    "for i in range(int(NB_RANGS)):\n",
    "    for j in range(NB_PVP_RANG):\n",
    "        x = i * column_spacing\n",
    "        y = j * row_spacing\n",
    "        point = Rhino.Geometry.Point3d(x-50, y-50, 1)\n",
    "        nuage.Add(point)\n",
    "\n",
    "# for i in nuage.AsReadOnlyListOfPoints():\n",
    "#     print(i) \n",
    "\n",
    "#800 points in this config\n",
    "\n",
    "####ROTATE POINTCLOUD\n",
    "nuage.Rotate(ORIENTATION_PARCELLE_RAD, Rhino.Geometry.Vector3d.ZAxis, Rhino.Geometry.Point3d.Origin)\n",
    "\n",
    "# for i in nuage.AsReadOnlyListOfPoints():\n",
    "#     print(i)\n",
    "\n",
    "plans = []\n",
    "for i in nuage.AsReadOnlyListOfPoints():\n",
    "    plans.append(Rhino.Geometry)\n"
   ]
  },
  {
   "cell_type": "code",
   "execution_count": 29,
   "metadata": {},
   "outputs": [
    {
     "name": "stdout",
     "output_type": "stream",
     "text": [
      "0,0,0\n",
      "10,0,0\n",
      "10,5,0\n",
      "0,5,0\n"
     ]
    },
    {
     "ename": "TypeError",
     "evalue": "'NurbsSurfacePointList' object is not subscriptable",
     "output_type": "error",
     "traceback": [
      "\u001b[1;31m---------------------------------------------------------------------------\u001b[0m",
      "\u001b[1;31mTypeError\u001b[0m                                 Traceback (most recent call last)",
      "\u001b[1;32m~\\AppData\\Local\\Temp\\ipykernel_3484\\2247684643.py\u001b[0m in \u001b[0;36m<module>\u001b[1;34m\u001b[0m\n\u001b[0;32m     27\u001b[0m \u001b[0mextrusion\u001b[0m \u001b[1;33m=\u001b[0m \u001b[0mrg\u001b[0m\u001b[1;33m.\u001b[0m\u001b[0mSurface\u001b[0m\u001b[1;33m.\u001b[0m\u001b[0mCreateExtrusion\u001b[0m\u001b[1;33m(\u001b[0m\u001b[0mcurve\u001b[0m\u001b[1;33m,\u001b[0m \u001b[0mdirection\u001b[0m\u001b[1;33m)\u001b[0m\u001b[1;33m\u001b[0m\u001b[1;33m\u001b[0m\u001b[0m\n\u001b[0;32m     28\u001b[0m \u001b[1;33m\u001b[0m\u001b[0m\n\u001b[1;32m---> 29\u001b[1;33m \u001b[0mprint\u001b[0m\u001b[1;33m(\u001b[0m\u001b[0mextrusion\u001b[0m\u001b[1;33m.\u001b[0m\u001b[0mPoints\u001b[0m\u001b[1;33m[\u001b[0m\u001b[1;36m1\u001b[0m\u001b[1;33m]\u001b[0m\u001b[1;33m)\u001b[0m\u001b[1;33m\u001b[0m\u001b[1;33m\u001b[0m\u001b[0m\n\u001b[0m\u001b[0;32m     30\u001b[0m \u001b[1;33m\u001b[0m\u001b[0m\n\u001b[0;32m     31\u001b[0m \u001b[0mBB\u001b[0m \u001b[1;33m=\u001b[0m \u001b[0mrg\u001b[0m\u001b[1;33m.\u001b[0m\u001b[0mBrep\u001b[0m\u001b[1;33m(\u001b[0m\u001b[1;33m)\u001b[0m\u001b[1;33m\u001b[0m\u001b[1;33m\u001b[0m\u001b[0m\n",
      "\u001b[1;31mTypeError\u001b[0m: 'NurbsSurfacePointList' object is not subscriptable"
     ]
    }
   ],
   "source": [
    "# Créer un rectangle\n",
    "plane = rg.Plane.WorldXY\n",
    "rectangle = rg.Rectangle3d(plane, 10, 5)\n",
    "\n",
    "# Obtenir les coins du rectangle\n",
    "corners = [rectangle.Corner(i) for i in range(4)]\n",
    "\n",
    "# Créer une liste de points pour la polyline\n",
    "points = Rhino.Collections.Point3dList(5)\n",
    "for i in range(4):\n",
    "    points.Add(rg.Point3d(corners[i]))\n",
    "    print(corners[i])\n",
    "\n",
    "# Ajouter le premier coin à la fin pour fermer la boucle\n",
    "points.Add(rg.Point3d(corners[0]))\n",
    "\n",
    "# Créer une polyline à partir de la liste de points\n",
    "polyline = rg.Polyline(points)\n",
    "\n",
    "# Créer une PolylineCurve à partir de la Polyline\n",
    "curve = rg.PolylineCurve(polyline)\n",
    "\n",
    "# Créer une extrusion à partir de la courbe\n",
    "direction = rg.Vector3d(0, 0, 1)  # Dans cet exemple, l'extrusion se fera dans la direction positive de l'axe Z\n",
    "\n",
    "# Créer une extrusion à partir de la courbe et du vecteur de direction\n",
    "extrusion = rg.Surface.CreateExtrusion(curve, direction)\n",
    "\n",
    "print(extrusion.Points)\n",
    "\n",
    "BB = rg.Brep()\n",
    "BB2 = rg.Brep()\n",
    "BB.Append(BB2)\n",
    "\n",
    "\n",
    "# plane = rg.Plane.WorldXY\n",
    "# plane.Translate(rg.Vector3d(2, 2, 0))\n",
    "# rect = rg.Rectangle3d(plane, 10, 5)\n",
    "        \n",
    "# # Rotate the rectangle\n",
    "# rotation = rg.Transform.Rotation(math.pi/2, rg.Vector3d(0, 0, 1), rg.Point3d(2, 2, 0))\n",
    "# rect.Transform(rotation)\n",
    "# surface = rg.Surface.CreateFromRectangle(rect)\n",
    "# brep = rg.Brep.CreateFromSurface(surface)\n"
   ]
  },
  {
   "cell_type": "code",
   "execution_count": 36,
   "metadata": {},
   "outputs": [
    {
     "ename": "DocumentCollectedException",
     "evalue": "Rhino.Geometry.Surface\r\n   à Rhino.Runtime.CommonObject.ConstPointer()\r\n   à Rhino.Geometry.GeometryBase.get_HasBrepForm()",
     "output_type": "error",
     "traceback": [
      "\u001b[1;31m---------------------------------------------------------------------------\u001b[0m",
      "\u001b[1;31mDocumentCollectedException\u001b[0m                Traceback (most recent call last)",
      "\u001b[1;32m~\\AppData\\Local\\Temp\\ipykernel_18868\\3858221943.py\u001b[0m in \u001b[0;36m<module>\u001b[1;34m\u001b[0m\n\u001b[0;32m      2\u001b[0m \u001b[1;31m##Possible d'append un BREP à un autre ==> BREP parts\u001b[0m\u001b[1;33m\u001b[0m\u001b[1;33m\u001b[0m\u001b[1;33m\u001b[0m\u001b[0m\n\u001b[0;32m      3\u001b[0m \u001b[0ms1\u001b[0m \u001b[1;33m=\u001b[0m \u001b[0mrg\u001b[0m\u001b[1;33m.\u001b[0m\u001b[0mSurface\u001b[0m\u001b[1;33m(\u001b[0m\u001b[1;33m)\u001b[0m\u001b[1;33m\u001b[0m\u001b[1;33m\u001b[0m\u001b[0m\n\u001b[1;32m----> 4\u001b[1;33m \u001b[0mprint\u001b[0m\u001b[1;33m(\u001b[0m\u001b[0ms1\u001b[0m\u001b[1;33m.\u001b[0m\u001b[0mHasBrepForm\u001b[0m\u001b[1;33m)\u001b[0m\u001b[1;33m\u001b[0m\u001b[1;33m\u001b[0m\u001b[0m\n\u001b[0m\u001b[0;32m      5\u001b[0m \u001b[0mb1\u001b[0m \u001b[1;33m=\u001b[0m \u001b[0mrg\u001b[0m\u001b[1;33m.\u001b[0m\u001b[0mBrep\u001b[0m\u001b[1;33m(\u001b[0m\u001b[1;33m)\u001b[0m\u001b[1;33m\u001b[0m\u001b[1;33m\u001b[0m\u001b[0m\n\u001b[0;32m      6\u001b[0m \u001b[0mb2\u001b[0m \u001b[1;33m=\u001b[0m \u001b[0mrg\u001b[0m\u001b[1;33m.\u001b[0m\u001b[0mBrep\u001b[0m\u001b[1;33m(\u001b[0m\u001b[1;33m)\u001b[0m\u001b[1;33m\u001b[0m\u001b[1;33m\u001b[0m\u001b[0m\n",
      "\u001b[1;31mDocumentCollectedException\u001b[0m: Rhino.Geometry.Surface\r\n   à Rhino.Runtime.CommonObject.ConstPointer()\r\n   à Rhino.Geometry.GeometryBase.get_HasBrepForm()"
     ]
    }
   ],
   "source": [
    "def create_rectangles(num_rectangles, x_spacing, y_spacing, width, height, rotation_angle):\n",
    "    rectangles = []\n",
    "    for i in range(num_rectangles):\n",
    "        # Calculate the center of the rectangle\n",
    "        x = i * x_spacing\n",
    "        y = i * y_spacing\n",
    "        \n",
    "        # Create the rectangle\n",
    "        plane = rg.Plane.WorldXY\n",
    "        plane.Translate(rg.Vector3d(x, y, 0))\n",
    "        rect = rg.Rectangle3d(plane, width, height)\n",
    "        \n",
    "        # Rotate the rectangle\n",
    "        rotation = rg.Transform.Rotation(rotation_angle * i, rg.Vector3d(0, 0, 1), rg.Point3d(x, y, 0))\n",
    "        rect.Transform(rotation)\n",
    "        \n",
    "        rectangles.append(rect)\n",
    "    \n",
    "    return rectangles\n",
    "\n",
    "def convert_to_surfaces(rectangles):\n",
    "    surfaces = []\n",
    "    for rect in rectangles:\n",
    "        surface = rg.Surface.CreateFromRectangle(rect)\n",
    "        surfaces.append(surface)\n",
    "    \n",
    "    return surfaces\n",
    "\n",
    "def convert_to_breps(surfaces):\n",
    "    breps = []\n",
    "    for surface in surfaces:\n",
    "        brep = rg.Brep.CreateFromSurface(surface)\n",
    "        breps.append(brep)\n",
    "    \n",
    "    return breps\n",
    "\n",
    "# Parameters\n",
    "num_rectangles = 5\n",
    "x_spacing = 20\n",
    "y_spacing = 15\n",
    "width = 10\n",
    "height = 5\n",
    "rotation_angle = rg.Geometry.PI/4  # 45 degrees in radians\n",
    "\n",
    "# Create rectangles\n",
    "rectangles = create_rectangles(num_rectangles, x_spacing, y_spacing, width, height, rotation_angle)\n",
    "\n",
    "# Convert rectangles to surfaces\n",
    "surfaces = convert_to_surfaces(rectangles)\n",
    "\n",
    "# Convert surfaces to breps\n",
    "breps = convert_to_breps(surfaces)\n",
    "\n",
    "# Do something with the resulting breps, e.g., add them to the document\n",
    "for brep in breps:\n",
    "    rs.AddBrep(brep)\n"
   ]
  }
 ],
 "metadata": {
  "kernelspec": {
   "display_name": "TSAgriPV-XqNYGekU",
   "language": "python",
   "name": "python3"
  },
  "language_info": {
   "codemirror_mode": {
    "name": "ipython",
    "version": 3
   },
   "file_extension": ".py",
   "mimetype": "text/x-python",
   "name": "python",
   "nbconvert_exporter": "python",
   "pygments_lexer": "ipython3",
   "version": "3.7.9"
  }
 },
 "nbformat": 4,
 "nbformat_minor": 2
}
